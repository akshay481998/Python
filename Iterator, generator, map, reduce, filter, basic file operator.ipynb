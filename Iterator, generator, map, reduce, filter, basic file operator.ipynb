{
 "cells": [
  {
   "cell_type": "code",
   "execution_count": 1,
   "id": "b0072c9f",
   "metadata": {},
   "outputs": [],
   "source": [
    "l = [1,3,4,5,5]\n"
   ]
  },
  {
   "cell_type": "code",
   "execution_count": 2,
   "id": "141c19dc",
   "metadata": {},
   "outputs": [
    {
     "name": "stdout",
     "output_type": "stream",
     "text": [
      "1\n",
      "3\n",
      "4\n",
      "5\n",
      "5\n"
     ]
    }
   ],
   "source": [
    "for i in l :\n",
    "    print(i)"
   ]
  },
  {
   "cell_type": "code",
   "execution_count": 4,
   "id": "6262982d",
   "metadata": {},
   "outputs": [],
   "source": [
    "b = iter(l)"
   ]
  },
  {
   "cell_type": "code",
   "execution_count": 5,
   "id": "27abfec4",
   "metadata": {},
   "outputs": [
    {
     "data": {
      "text/plain": [
       "1"
      ]
     },
     "execution_count": 5,
     "metadata": {},
     "output_type": "execute_result"
    }
   ],
   "source": [
    "next(b)"
   ]
  },
  {
   "cell_type": "code",
   "execution_count": 6,
   "id": "77804e65",
   "metadata": {},
   "outputs": [
    {
     "data": {
      "text/plain": [
       "3"
      ]
     },
     "execution_count": 6,
     "metadata": {},
     "output_type": "execute_result"
    }
   ],
   "source": [
    "next(b)"
   ]
  },
  {
   "cell_type": "code",
   "execution_count": 7,
   "id": "ddfe7a53",
   "metadata": {},
   "outputs": [
    {
     "data": {
      "text/plain": [
       "4"
      ]
     },
     "execution_count": 7,
     "metadata": {},
     "output_type": "execute_result"
    }
   ],
   "source": [
    "next(b)"
   ]
  },
  {
   "cell_type": "code",
   "execution_count": 8,
   "id": "5a7c3ff6",
   "metadata": {},
   "outputs": [
    {
     "data": {
      "text/plain": [
       "5"
      ]
     },
     "execution_count": 8,
     "metadata": {},
     "output_type": "execute_result"
    }
   ],
   "source": [
    "next(b)"
   ]
  },
  {
   "cell_type": "code",
   "execution_count": 9,
   "id": "304b8a68",
   "metadata": {},
   "outputs": [
    {
     "data": {
      "text/plain": [
       "5"
      ]
     },
     "execution_count": 9,
     "metadata": {},
     "output_type": "execute_result"
    }
   ],
   "source": [
    "next(b)"
   ]
  },
  {
   "cell_type": "code",
   "execution_count": 10,
   "id": "c1dbb0f0",
   "metadata": {},
   "outputs": [
    {
     "ename": "StopIteration",
     "evalue": "",
     "output_type": "error",
     "traceback": [
      "\u001b[1;31m---------------------------------------------------------------------------\u001b[0m",
      "\u001b[1;31mStopIteration\u001b[0m                             Traceback (most recent call last)",
      "\u001b[1;32mC:\\Users\\ADMINI~1.UPT\\AppData\\Local\\Temp/ipykernel_37976/973617480.py\u001b[0m in \u001b[0;36m<module>\u001b[1;34m\u001b[0m\n\u001b[1;32m----> 1\u001b[1;33m \u001b[0mnext\u001b[0m\u001b[1;33m(\u001b[0m\u001b[0mb\u001b[0m\u001b[1;33m)\u001b[0m\u001b[1;33m\u001b[0m\u001b[1;33m\u001b[0m\u001b[0m\n\u001b[0m",
      "\u001b[1;31mStopIteration\u001b[0m: "
     ]
    }
   ],
   "source": [
    "next(b)"
   ]
  },
  {
   "cell_type": "code",
   "execution_count": 1,
   "id": "5d8e4372",
   "metadata": {},
   "outputs": [
    {
     "ename": "TypeError",
     "evalue": "'int' object is not an iterator",
     "output_type": "error",
     "traceback": [
      "\u001b[1;31m---------------------------------------------------------------------------\u001b[0m",
      "\u001b[1;31mTypeError\u001b[0m                                 Traceback (most recent call last)",
      "\u001b[1;32mC:\\Users\\ADMINI~1.UPT\\AppData\\Local\\Temp/ipykernel_42580/2317411141.py\u001b[0m in \u001b[0;36m<module>\u001b[1;34m\u001b[0m\n\u001b[1;32m----> 1\u001b[1;33m \u001b[0mnext\u001b[0m\u001b[1;33m(\u001b[0m\u001b[1;36m45\u001b[0m\u001b[1;33m)\u001b[0m\u001b[1;33m\u001b[0m\u001b[1;33m\u001b[0m\u001b[0m\n\u001b[0m",
      "\u001b[1;31mTypeError\u001b[0m: 'int' object is not an iterator"
     ]
    }
   ],
   "source": [
    "next(45)"
   ]
  },
  {
   "cell_type": "code",
   "execution_count": 2,
   "id": "9fd7a5f6",
   "metadata": {},
   "outputs": [
    {
     "ename": "TypeError",
     "evalue": "'int' object is not iterable",
     "output_type": "error",
     "traceback": [
      "\u001b[1;31m---------------------------------------------------------------------------\u001b[0m",
      "\u001b[1;31mTypeError\u001b[0m                                 Traceback (most recent call last)",
      "\u001b[1;32mC:\\Users\\ADMINI~1.UPT\\AppData\\Local\\Temp/ipykernel_42580/3186544426.py\u001b[0m in \u001b[0;36m<module>\u001b[1;34m\u001b[0m\n\u001b[1;32m----> 1\u001b[1;33m \u001b[0miter\u001b[0m\u001b[1;33m(\u001b[0m\u001b[1;36m45\u001b[0m\u001b[1;33m)\u001b[0m\u001b[1;33m\u001b[0m\u001b[1;33m\u001b[0m\u001b[0m\n\u001b[0m",
      "\u001b[1;31mTypeError\u001b[0m: 'int' object is not iterable"
     ]
    }
   ],
   "source": [
    "iter(45)"
   ]
  },
  {
   "cell_type": "code",
   "execution_count": 3,
   "id": "c3fed13e",
   "metadata": {},
   "outputs": [
    {
     "ename": "TypeError",
     "evalue": "'int' object is not iterable",
     "output_type": "error",
     "traceback": [
      "\u001b[1;31m---------------------------------------------------------------------------\u001b[0m",
      "\u001b[1;31mTypeError\u001b[0m                                 Traceback (most recent call last)",
      "\u001b[1;32mC:\\Users\\ADMINI~1.UPT\\AppData\\Local\\Temp/ipykernel_42580/2884698999.py\u001b[0m in \u001b[0;36m<module>\u001b[1;34m\u001b[0m\n\u001b[1;32m----> 1\u001b[1;33m \u001b[1;32mfor\u001b[0m \u001b[0mi\u001b[0m \u001b[1;32min\u001b[0m \u001b[1;36m45628\u001b[0m \u001b[1;33m:\u001b[0m\u001b[1;33m\u001b[0m\u001b[1;33m\u001b[0m\u001b[0m\n\u001b[0m\u001b[0;32m      2\u001b[0m     \u001b[0mprint\u001b[0m\u001b[1;33m(\u001b[0m\u001b[0mi\u001b[0m\u001b[1;33m)\u001b[0m\u001b[1;33m\u001b[0m\u001b[1;33m\u001b[0m\u001b[0m\n",
      "\u001b[1;31mTypeError\u001b[0m: 'int' object is not iterable"
     ]
    }
   ],
   "source": [
    "for i in 45628 :\n",
    "    print(i)"
   ]
  },
  {
   "cell_type": "code",
   "execution_count": 4,
   "id": "3905fd5e",
   "metadata": {},
   "outputs": [
    {
     "ename": "NameError",
     "evalue": "name 'l' is not defined",
     "output_type": "error",
     "traceback": [
      "\u001b[1;31m---------------------------------------------------------------------------\u001b[0m",
      "\u001b[1;31mNameError\u001b[0m                                 Traceback (most recent call last)",
      "\u001b[1;32mC:\\Users\\ADMINI~1.UPT\\AppData\\Local\\Temp/ipykernel_42580/3723490112.py\u001b[0m in \u001b[0;36m<module>\u001b[1;34m\u001b[0m\n\u001b[1;32m----> 1\u001b[1;33m \u001b[0ml\u001b[0m\u001b[1;33m\u001b[0m\u001b[1;33m\u001b[0m\u001b[0m\n\u001b[0m",
      "\u001b[1;31mNameError\u001b[0m: name 'l' is not defined"
     ]
    }
   ],
   "source": [
    "l"
   ]
  },
  {
   "cell_type": "code",
   "execution_count": 5,
   "id": "81571915",
   "metadata": {},
   "outputs": [],
   "source": [
    "l = [1,3,4,5,5]"
   ]
  },
  {
   "cell_type": "code",
   "execution_count": 6,
   "id": "077befdb",
   "metadata": {},
   "outputs": [
    {
     "data": {
      "text/plain": [
       "[1, 3, 4, 5, 5]"
      ]
     },
     "execution_count": 6,
     "metadata": {},
     "output_type": "execute_result"
    }
   ],
   "source": [
    "l"
   ]
  },
  {
   "cell_type": "code",
   "execution_count": 7,
   "id": "9aaba81d",
   "metadata": {},
   "outputs": [],
   "source": [
    "s = \"sudh\""
   ]
  },
  {
   "cell_type": "code",
   "execution_count": 8,
   "id": "4f4c1a14",
   "metadata": {},
   "outputs": [
    {
     "ename": "TypeError",
     "evalue": "'str' object is not an iterator",
     "output_type": "error",
     "traceback": [
      "\u001b[1;31m---------------------------------------------------------------------------\u001b[0m",
      "\u001b[1;31mTypeError\u001b[0m                                 Traceback (most recent call last)",
      "\u001b[1;32mC:\\Users\\ADMINI~1.UPT\\AppData\\Local\\Temp/ipykernel_42580/1977886155.py\u001b[0m in \u001b[0;36m<module>\u001b[1;34m\u001b[0m\n\u001b[1;32m----> 1\u001b[1;33m \u001b[0mnext\u001b[0m\u001b[1;33m(\u001b[0m\u001b[0ms\u001b[0m\u001b[1;33m)\u001b[0m\u001b[1;33m\u001b[0m\u001b[1;33m\u001b[0m\u001b[0m\n\u001b[0m",
      "\u001b[1;31mTypeError\u001b[0m: 'str' object is not an iterator"
     ]
    }
   ],
   "source": [
    "next(s)"
   ]
  },
  {
   "cell_type": "code",
   "execution_count": 9,
   "id": "6df76cd2",
   "metadata": {},
   "outputs": [],
   "source": [
    "s = iter(s)"
   ]
  },
  {
   "cell_type": "code",
   "execution_count": 10,
   "id": "131fe427",
   "metadata": {},
   "outputs": [
    {
     "data": {
      "text/plain": [
       "'s'"
      ]
     },
     "execution_count": 10,
     "metadata": {},
     "output_type": "execute_result"
    }
   ],
   "source": [
    "next(s)"
   ]
  },
  {
   "cell_type": "code",
   "execution_count": 11,
   "id": "e9001d7a",
   "metadata": {},
   "outputs": [
    {
     "data": {
      "text/plain": [
       "'u'"
      ]
     },
     "execution_count": 11,
     "metadata": {},
     "output_type": "execute_result"
    }
   ],
   "source": [
    "next(s)"
   ]
  },
  {
   "cell_type": "code",
   "execution_count": 12,
   "id": "759dfd3f",
   "metadata": {},
   "outputs": [
    {
     "data": {
      "text/plain": [
       "'d'"
      ]
     },
     "execution_count": 12,
     "metadata": {},
     "output_type": "execute_result"
    }
   ],
   "source": [
    "next(s)"
   ]
  },
  {
   "cell_type": "code",
   "execution_count": 13,
   "id": "f53e2f4c",
   "metadata": {},
   "outputs": [
    {
     "data": {
      "text/plain": [
       "'h'"
      ]
     },
     "execution_count": 13,
     "metadata": {},
     "output_type": "execute_result"
    }
   ],
   "source": [
    "next(s)"
   ]
  },
  {
   "cell_type": "code",
   "execution_count": 14,
   "id": "2e9ead1f",
   "metadata": {},
   "outputs": [
    {
     "ename": "StopIteration",
     "evalue": "",
     "output_type": "error",
     "traceback": [
      "\u001b[1;31m---------------------------------------------------------------------------\u001b[0m",
      "\u001b[1;31mStopIteration\u001b[0m                             Traceback (most recent call last)",
      "\u001b[1;32mC:\\Users\\ADMINI~1.UPT\\AppData\\Local\\Temp/ipykernel_42580/1977886155.py\u001b[0m in \u001b[0;36m<module>\u001b[1;34m\u001b[0m\n\u001b[1;32m----> 1\u001b[1;33m \u001b[0mnext\u001b[0m\u001b[1;33m(\u001b[0m\u001b[0ms\u001b[0m\u001b[1;33m)\u001b[0m\u001b[1;33m\u001b[0m\u001b[1;33m\u001b[0m\u001b[0m\n\u001b[0m",
      "\u001b[1;31mStopIteration\u001b[0m: "
     ]
    }
   ],
   "source": [
    "next(s)"
   ]
  },
  {
   "cell_type": "code",
   "execution_count": 15,
   "id": "01ce7543",
   "metadata": {},
   "outputs": [
    {
     "name": "stdout",
     "output_type": "stream",
     "text": [
      "s\n",
      "u\n",
      "d\n",
      "h\n"
     ]
    }
   ],
   "source": [
    "s = \"sudh\"\n",
    "for i in s :\n",
    "    print(i)"
   ]
  },
  {
   "cell_type": "code",
   "execution_count": 1,
   "id": "1c55193a",
   "metadata": {},
   "outputs": [],
   "source": [
    "t = (5,6,7,8,9)"
   ]
  },
  {
   "cell_type": "code",
   "execution_count": 2,
   "id": "0a31dbd7",
   "metadata": {},
   "outputs": [
    {
     "ename": "TypeError",
     "evalue": "'tuple' object is not an iterator",
     "output_type": "error",
     "traceback": [
      "\u001b[1;31m---------------------------------------------------------------------------\u001b[0m",
      "\u001b[1;31mTypeError\u001b[0m                                 Traceback (most recent call last)",
      "\u001b[1;32mC:\\Users\\ADMINI~1.UPT\\AppData\\Local\\Temp/ipykernel_10352/2139502855.py\u001b[0m in \u001b[0;36m<module>\u001b[1;34m\u001b[0m\n\u001b[1;32m----> 1\u001b[1;33m \u001b[0mnext\u001b[0m\u001b[1;33m(\u001b[0m\u001b[0mt\u001b[0m\u001b[1;33m)\u001b[0m\u001b[1;33m\u001b[0m\u001b[1;33m\u001b[0m\u001b[0m\n\u001b[0m",
      "\u001b[1;31mTypeError\u001b[0m: 'tuple' object is not an iterator"
     ]
    }
   ],
   "source": [
    "next(t)"
   ]
  },
  {
   "cell_type": "code",
   "execution_count": 3,
   "id": "a7d4c2d3",
   "metadata": {},
   "outputs": [],
   "source": [
    "t = iter(t)"
   ]
  },
  {
   "cell_type": "code",
   "execution_count": 4,
   "id": "f240912a",
   "metadata": {},
   "outputs": [
    {
     "data": {
      "text/plain": [
       "5"
      ]
     },
     "execution_count": 4,
     "metadata": {},
     "output_type": "execute_result"
    }
   ],
   "source": [
    "next(t)"
   ]
  },
  {
   "cell_type": "code",
   "execution_count": 5,
   "id": "1a5f6fe2",
   "metadata": {},
   "outputs": [
    {
     "data": {
      "text/plain": [
       "6"
      ]
     },
     "execution_count": 5,
     "metadata": {},
     "output_type": "execute_result"
    }
   ],
   "source": [
    "next(t)"
   ]
  },
  {
   "cell_type": "code",
   "execution_count": 6,
   "id": "d74731ae",
   "metadata": {},
   "outputs": [
    {
     "data": {
      "text/plain": [
       "7"
      ]
     },
     "execution_count": 6,
     "metadata": {},
     "output_type": "execute_result"
    }
   ],
   "source": [
    "next(t)"
   ]
  },
  {
   "cell_type": "code",
   "execution_count": 7,
   "id": "2447034e",
   "metadata": {},
   "outputs": [
    {
     "data": {
      "text/plain": [
       "8"
      ]
     },
     "execution_count": 7,
     "metadata": {},
     "output_type": "execute_result"
    }
   ],
   "source": [
    "next(t)"
   ]
  },
  {
   "cell_type": "code",
   "execution_count": 8,
   "id": "e756c963",
   "metadata": {},
   "outputs": [
    {
     "data": {
      "text/plain": [
       "9"
      ]
     },
     "execution_count": 8,
     "metadata": {},
     "output_type": "execute_result"
    }
   ],
   "source": [
    "next(t)"
   ]
  },
  {
   "cell_type": "code",
   "execution_count": 9,
   "id": "1ddaabcb",
   "metadata": {},
   "outputs": [
    {
     "ename": "StopIteration",
     "evalue": "",
     "output_type": "error",
     "traceback": [
      "\u001b[1;31m---------------------------------------------------------------------------\u001b[0m",
      "\u001b[1;31mStopIteration\u001b[0m                             Traceback (most recent call last)",
      "\u001b[1;32mC:\\Users\\ADMINI~1.UPT\\AppData\\Local\\Temp/ipykernel_10352/2139502855.py\u001b[0m in \u001b[0;36m<module>\u001b[1;34m\u001b[0m\n\u001b[1;32m----> 1\u001b[1;33m \u001b[0mnext\u001b[0m\u001b[1;33m(\u001b[0m\u001b[0mt\u001b[0m\u001b[1;33m)\u001b[0m\u001b[1;33m\u001b[0m\u001b[1;33m\u001b[0m\u001b[0m\n\u001b[0m",
      "\u001b[1;31mStopIteration\u001b[0m: "
     ]
    }
   ],
   "source": [
    "next(t)"
   ]
  },
  {
   "cell_type": "code",
   "execution_count": 11,
   "id": "0b37160e",
   "metadata": {},
   "outputs": [
    {
     "data": {
      "text/plain": [
       "[1, 2, 3, 4, 5, 6, 7, 8, 9]"
      ]
     },
     "execution_count": 11,
     "metadata": {},
     "output_type": "execute_result"
    }
   ],
   "source": [
    "list(range(1,10))"
   ]
  },
  {
   "cell_type": "code",
   "execution_count": 13,
   "id": "a07951b4",
   "metadata": {},
   "outputs": [],
   "source": [
    "def square(n) :\n",
    "    x = [i*i for i in range(n)]\n",
    "    return x"
   ]
  },
  {
   "cell_type": "code",
   "execution_count": 14,
   "id": "4ec849ba",
   "metadata": {},
   "outputs": [
    {
     "data": {
      "text/plain": [
       "[0, 1, 4, 9]"
      ]
     },
     "execution_count": 14,
     "metadata": {},
     "output_type": "execute_result"
    }
   ],
   "source": [
    "square(4)"
   ]
  },
  {
   "cell_type": "code",
   "execution_count": 15,
   "id": "c532f83f",
   "metadata": {},
   "outputs": [
    {
     "data": {
      "text/plain": [
       "[0, 1, 2, 3]"
      ]
     },
     "execution_count": 15,
     "metadata": {},
     "output_type": "execute_result"
    }
   ],
   "source": [
    "list(range(4))"
   ]
  },
  {
   "cell_type": "code",
   "execution_count": 16,
   "id": "d51d85c3",
   "metadata": {},
   "outputs": [],
   "source": [
    "def square1(n) :\n",
    "    x = [i*i for i in range(n)]\n",
    "    yield x"
   ]
  },
  {
   "cell_type": "code",
   "execution_count": 17,
   "id": "855bf7b2",
   "metadata": {},
   "outputs": [
    {
     "data": {
      "text/plain": [
       "<generator object square1 at 0x00000253914CC200>"
      ]
     },
     "execution_count": 17,
     "metadata": {},
     "output_type": "execute_result"
    }
   ],
   "source": [
    "square1(4)"
   ]
  },
  {
   "cell_type": "code",
   "execution_count": 18,
   "id": "69bc4ee6",
   "metadata": {},
   "outputs": [
    {
     "name": "stdout",
     "output_type": "stream",
     "text": [
      "[0, 1, 4, 9]\n"
     ]
    }
   ],
   "source": [
    "for i in square1(4) :\n",
    "    print(i)"
   ]
  },
  {
   "cell_type": "code",
   "execution_count": 19,
   "id": "6ff7df91",
   "metadata": {},
   "outputs": [
    {
     "name": "stdout",
     "output_type": "stream",
     "text": [
      "0\n",
      "1\n",
      "2\n",
      "3\n"
     ]
    }
   ],
   "source": [
    "for i in range(4) :\n",
    "    print(i)\n",
    "    "
   ]
  },
  {
   "cell_type": "code",
   "execution_count": 20,
   "id": "97e413b1",
   "metadata": {},
   "outputs": [
    {
     "ename": "TypeError",
     "evalue": "'function' object is not an iterator",
     "output_type": "error",
     "traceback": [
      "\u001b[1;31m---------------------------------------------------------------------------\u001b[0m",
      "\u001b[1;31mTypeError\u001b[0m                                 Traceback (most recent call last)",
      "\u001b[1;32mC:\\Users\\ADMINI~1.UPT\\AppData\\Local\\Temp/ipykernel_10352/2056458676.py\u001b[0m in \u001b[0;36m<module>\u001b[1;34m\u001b[0m\n\u001b[1;32m----> 1\u001b[1;33m \u001b[0mnext\u001b[0m\u001b[1;33m(\u001b[0m\u001b[0msquare1\u001b[0m\u001b[1;33m)\u001b[0m\u001b[1;33m\u001b[0m\u001b[1;33m\u001b[0m\u001b[0m\n\u001b[0m",
      "\u001b[1;31mTypeError\u001b[0m: 'function' object is not an iterator"
     ]
    }
   ],
   "source": [
    "next(square1)"
   ]
  },
  {
   "cell_type": "code",
   "execution_count": 21,
   "id": "c6797462",
   "metadata": {},
   "outputs": [],
   "source": [
    "r = iter(range(4))"
   ]
  },
  {
   "cell_type": "code",
   "execution_count": 22,
   "id": "2a12b968",
   "metadata": {},
   "outputs": [
    {
     "data": {
      "text/plain": [
       "0"
      ]
     },
     "execution_count": 22,
     "metadata": {},
     "output_type": "execute_result"
    }
   ],
   "source": [
    "next(r)"
   ]
  },
  {
   "cell_type": "code",
   "execution_count": 23,
   "id": "989138ea",
   "metadata": {},
   "outputs": [
    {
     "data": {
      "text/plain": [
       "1"
      ]
     },
     "execution_count": 23,
     "metadata": {},
     "output_type": "execute_result"
    }
   ],
   "source": [
    "next(r)"
   ]
  },
  {
   "cell_type": "code",
   "execution_count": 24,
   "id": "d1aaf8d5",
   "metadata": {},
   "outputs": [
    {
     "data": {
      "text/plain": [
       "2"
      ]
     },
     "execution_count": 24,
     "metadata": {},
     "output_type": "execute_result"
    }
   ],
   "source": [
    "next(r)"
   ]
  },
  {
   "cell_type": "code",
   "execution_count": 25,
   "id": "f0975980",
   "metadata": {},
   "outputs": [
    {
     "data": {
      "text/plain": [
       "3"
      ]
     },
     "execution_count": 25,
     "metadata": {},
     "output_type": "execute_result"
    }
   ],
   "source": [
    "next(r)"
   ]
  },
  {
   "cell_type": "code",
   "execution_count": 26,
   "id": "7d5e6ad3",
   "metadata": {},
   "outputs": [
    {
     "ename": "StopIteration",
     "evalue": "",
     "output_type": "error",
     "traceback": [
      "\u001b[1;31m---------------------------------------------------------------------------\u001b[0m",
      "\u001b[1;31mStopIteration\u001b[0m                             Traceback (most recent call last)",
      "\u001b[1;32mC:\\Users\\ADMINI~1.UPT\\AppData\\Local\\Temp/ipykernel_10352/4134984757.py\u001b[0m in \u001b[0;36m<module>\u001b[1;34m\u001b[0m\n\u001b[1;32m----> 1\u001b[1;33m \u001b[0mnext\u001b[0m\u001b[1;33m(\u001b[0m\u001b[0mr\u001b[0m\u001b[1;33m)\u001b[0m\u001b[1;33m\u001b[0m\u001b[1;33m\u001b[0m\u001b[0m\n\u001b[0m",
      "\u001b[1;31mStopIteration\u001b[0m: "
     ]
    }
   ],
   "source": [
    "next(r)"
   ]
  },
  {
   "cell_type": "code",
   "execution_count": 27,
   "id": "48c4662e",
   "metadata": {},
   "outputs": [],
   "source": [
    "def genfib(n) :\n",
    "    a = 1\n",
    "    b = 1\n",
    "    l = []\n",
    "    for i in range(n) :\n",
    "        l.append(a)\n",
    "        a,b = b, a+b\n",
    "    return l"
   ]
  },
  {
   "cell_type": "code",
   "execution_count": 28,
   "id": "97cc9b23",
   "metadata": {},
   "outputs": [
    {
     "data": {
      "text/plain": [
       "[1, 1, 2, 3, 5, 8, 13, 21, 34, 55]"
      ]
     },
     "execution_count": 28,
     "metadata": {},
     "output_type": "execute_result"
    }
   ],
   "source": [
    "genfib(10)"
   ]
  },
  {
   "cell_type": "code",
   "execution_count": 29,
   "id": "f6331e32",
   "metadata": {},
   "outputs": [],
   "source": [
    "def genfib1(n) :\n",
    "    a = 1\n",
    "    b = 1\n",
    "    for i in range(n) :\n",
    "        yield a\n",
    "        a,b = b, a+b\n"
   ]
  },
  {
   "cell_type": "code",
   "execution_count": 30,
   "id": "4d3cb903",
   "metadata": {},
   "outputs": [
    {
     "data": {
      "text/plain": [
       "<generator object genfib1 at 0x0000025390FDC3C0>"
      ]
     },
     "execution_count": 30,
     "metadata": {},
     "output_type": "execute_result"
    }
   ],
   "source": [
    "genfib1(10)"
   ]
  },
  {
   "cell_type": "code",
   "execution_count": 31,
   "id": "733c7a7a",
   "metadata": {},
   "outputs": [
    {
     "name": "stdout",
     "output_type": "stream",
     "text": [
      "1\n",
      "1\n",
      "2\n",
      "3\n",
      "5\n",
      "8\n",
      "13\n",
      "21\n",
      "34\n",
      "55\n"
     ]
    }
   ],
   "source": [
    "for i in genfib1(10) :\n",
    "    print(i)"
   ]
  },
  {
   "cell_type": "code",
   "execution_count": 32,
   "id": "3a3f85c7",
   "metadata": {},
   "outputs": [],
   "source": [
    "# file operations "
   ]
  },
  {
   "cell_type": "code",
   "execution_count": 35,
   "id": "bfdf17e0",
   "metadata": {},
   "outputs": [],
   "source": [
    "f = open(\"sudh1.text\",'w')"
   ]
  },
  {
   "cell_type": "code",
   "execution_count": 36,
   "id": "70e63e9b",
   "metadata": {},
   "outputs": [
    {
     "name": "stdout",
     "output_type": "stream",
     "text": [
      " Volume in drive C has no label.\n",
      " Volume Serial Number is A8DF-5E23\n",
      "\n",
      " Directory of C:\\Users\\Administrator.UPTHINK0004\n",
      "\n",
      "06/23/2022  12:01 PM    <DIR>          .\n",
      "06/23/2022  12:01 PM    <DIR>          ..\n",
      "05/03/2022  04:50 PM    <DIR>          .conda\n",
      "05/03/2022  10:46 AM                25 .condarc\n",
      "05/03/2022  10:45 AM    <DIR>          .continuum\n",
      "06/23/2022  08:37 AM    <DIR>          .ipynb_checkpoints\n",
      "05/03/2022  10:47 AM    <DIR>          .ipython\n",
      "05/15/2022  03:05 PM    <DIR>          .jupyter\n",
      "05/20/2022  08:49 AM    <DIR>          .matplotlib\n",
      "06/05/2022  03:17 PM    <DIR>          .spyder-py3\n",
      "01/07/2021  12:58 PM    <DIR>          3D Objects\n",
      "05/18/2022  01:36 PM             7,449 ANOVA.ipynb\n",
      "06/03/2022  05:03 PM             4,641 Assignment 1.ipynb\n",
      "06/15/2022  03:48 PM             3,998 Assignment 2..ipynb\n",
      "05/24/2022  04:30 PM            17,725 Assignment 2.ipynb\n",
      "06/15/2022  05:34 PM            24,028 Assignment 3..ipynb\n",
      "05/24/2022  06:01 PM               814 Assignment 3.ipynb\n",
      "06/16/2022  07:28 PM             5,256 Assignment 4.ipynb\n",
      "01/07/2021  12:58 PM    <DIR>          Contacts\n",
      "05/28/2022  05:28 PM            18,478 Data extraction using for loop.ipynb\n",
      "06/23/2022  11:59 AM    <DIR>          Desktop\n",
      "05/07/2022  03:06 PM    <DIR>          Documents\n",
      "06/22/2022  06:25 PM    <DIR>          Downloads\n",
      "01/07/2021  12:58 PM    <DIR>          Favorites\n",
      "06/05/2022  04:33 PM            21,671 functions .ipynb\n",
      "06/12/2022  01:33 PM            11,616 Hello.mp3\n",
      "01/07/2021  12:58 PM    <DIR>          Links\n",
      "05/27/2022  12:32 PM            54,276 List, Tuples, Dict, Set.ipynb\n",
      "06/03/2022  03:19 PM            26,764 Loops .ipynb\n",
      "01/07/2021  12:58 PM    <DIR>          Music\n",
      "10/01/2021  03:04 PM    <DIR>          OneDrive\n",
      "04/01/2022  09:04 AM    <DIR>          Pictures\n",
      "06/09/2022  03:12 PM           113,561 Revision and task solving (1).ipynb\n",
      "01/07/2021  12:58 PM    <DIR>          Saved Games\n",
      "01/07/2021  12:59 PM    <DIR>          Searches\n",
      "06/23/2022  12:01 PM                 0 sudh1.text\n",
      "06/09/2022  03:10 PM             7,586 Task 2.ipynb\n",
      "06/10/2022  01:01 PM            15,840 Task 3.ipynb\n",
      "06/15/2022  03:52 PM            17,825 Task 4.ipynb\n",
      "06/05/2022  01:08 PM            11,132 Task1.ipynb\n",
      "06/17/2022  10:17 AM             7,845 Theory Assignment 1.ipynb\n",
      "06/17/2022  11:07 PM            12,988 Theory Assignment 2.ipynb\n",
      "06/23/2022  12:00 PM            23,999 Untitled.ipynb\n",
      "05/20/2022  11:36 AM            13,298 Untitled2.ipynb\n",
      "05/12/2022  08:52 AM    <DIR>          Videos\n",
      "06/11/2022  05:26 PM         1,182,021 While loop.ipynb\n",
      "              24 File(s)      1,602,836 bytes\n",
      "              22 Dir(s)  169,368,592,384 bytes free\n"
     ]
    }
   ],
   "source": [
    "ls"
   ]
  },
  {
   "cell_type": "code",
   "execution_count": 37,
   "id": "d8a800c5",
   "metadata": {},
   "outputs": [
    {
     "data": {
      "text/plain": [
       "36"
      ]
     },
     "execution_count": 37,
     "metadata": {},
     "output_type": "execute_result"
    }
   ],
   "source": [
    "f.write(\"This is my very first file operation\")"
   ]
  },
  {
   "cell_type": "code",
   "execution_count": 38,
   "id": "63aaa7c3",
   "metadata": {},
   "outputs": [],
   "source": [
    "f.close()"
   ]
  },
  {
   "cell_type": "code",
   "execution_count": 39,
   "id": "3e84b289",
   "metadata": {},
   "outputs": [
    {
     "name": "stdout",
     "output_type": "stream",
     "text": [
      " Volume in drive C has no label.\n",
      " Volume Serial Number is A8DF-5E23\n",
      "\n",
      " Directory of C:\\Users\\Administrator.UPTHINK0004\n",
      "\n",
      "06/23/2022  12:04 PM    <DIR>          .\n",
      "06/23/2022  12:04 PM    <DIR>          ..\n",
      "05/03/2022  04:50 PM    <DIR>          .conda\n",
      "05/03/2022  10:46 AM                25 .condarc\n",
      "05/03/2022  10:45 AM    <DIR>          .continuum\n",
      "06/23/2022  08:37 AM    <DIR>          .ipynb_checkpoints\n",
      "05/03/2022  10:47 AM    <DIR>          .ipython\n",
      "05/15/2022  03:05 PM    <DIR>          .jupyter\n",
      "05/20/2022  08:49 AM    <DIR>          .matplotlib\n",
      "06/05/2022  03:17 PM    <DIR>          .spyder-py3\n",
      "01/07/2021  12:58 PM    <DIR>          3D Objects\n",
      "05/18/2022  01:36 PM             7,449 ANOVA.ipynb\n",
      "06/03/2022  05:03 PM             4,641 Assignment 1.ipynb\n",
      "06/15/2022  03:48 PM             3,998 Assignment 2..ipynb\n",
      "05/24/2022  04:30 PM            17,725 Assignment 2.ipynb\n",
      "06/15/2022  05:34 PM            24,028 Assignment 3..ipynb\n",
      "05/24/2022  06:01 PM               814 Assignment 3.ipynb\n",
      "06/16/2022  07:28 PM             5,256 Assignment 4.ipynb\n",
      "01/07/2021  12:58 PM    <DIR>          Contacts\n",
      "05/28/2022  05:28 PM            18,478 Data extraction using for loop.ipynb\n",
      "06/23/2022  11:59 AM    <DIR>          Desktop\n",
      "05/07/2022  03:06 PM    <DIR>          Documents\n",
      "06/22/2022  06:25 PM    <DIR>          Downloads\n",
      "01/07/2021  12:58 PM    <DIR>          Favorites\n",
      "06/05/2022  04:33 PM            21,671 functions .ipynb\n",
      "06/12/2022  01:33 PM            11,616 Hello.mp3\n",
      "01/07/2021  12:58 PM    <DIR>          Links\n",
      "05/27/2022  12:32 PM            54,276 List, Tuples, Dict, Set.ipynb\n",
      "06/03/2022  03:19 PM            26,764 Loops .ipynb\n",
      "01/07/2021  12:58 PM    <DIR>          Music\n",
      "10/01/2021  03:04 PM    <DIR>          OneDrive\n",
      "04/01/2022  09:04 AM    <DIR>          Pictures\n",
      "06/09/2022  03:12 PM           113,561 Revision and task solving (1).ipynb\n",
      "01/07/2021  12:58 PM    <DIR>          Saved Games\n",
      "01/07/2021  12:59 PM    <DIR>          Searches\n",
      "06/23/2022  12:05 PM                36 sudh1.text\n",
      "06/09/2022  03:10 PM             7,586 Task 2.ipynb\n",
      "06/10/2022  01:01 PM            15,840 Task 3.ipynb\n",
      "06/15/2022  03:52 PM            17,825 Task 4.ipynb\n",
      "06/05/2022  01:08 PM            11,132 Task1.ipynb\n",
      "06/17/2022  10:17 AM             7,845 Theory Assignment 1.ipynb\n",
      "06/17/2022  11:07 PM            12,988 Theory Assignment 2.ipynb\n",
      "06/23/2022  12:04 PM            26,602 Untitled.ipynb\n",
      "05/20/2022  11:36 AM            13,298 Untitled2.ipynb\n",
      "05/12/2022  08:52 AM    <DIR>          Videos\n",
      "06/11/2022  05:26 PM         1,182,021 While loop.ipynb\n",
      "              24 File(s)      1,605,475 bytes\n",
      "              22 Dir(s)  169,398,280,192 bytes free\n"
     ]
    }
   ],
   "source": [
    "ls"
   ]
  },
  {
   "cell_type": "code",
   "execution_count": 40,
   "id": "30720d95",
   "metadata": {},
   "outputs": [],
   "source": [
    "f1 = open(\"text1.txt\", 'w')"
   ]
  },
  {
   "cell_type": "code",
   "execution_count": 41,
   "id": "c96a9579",
   "metadata": {},
   "outputs": [
    {
     "data": {
      "text/plain": [
       "52"
      ]
     },
     "execution_count": 41,
     "metadata": {},
     "output_type": "execute_result"
    }
   ],
   "source": [
    "f1.write(\"This is my operation I am trying to do in fsds class\")"
   ]
  },
  {
   "cell_type": "code",
   "execution_count": 44,
   "id": "e9ddabb1",
   "metadata": {},
   "outputs": [],
   "source": [
    "f1.close()"
   ]
  },
  {
   "cell_type": "code",
   "execution_count": 45,
   "id": "731f628d",
   "metadata": {},
   "outputs": [
    {
     "name": "stdout",
     "output_type": "stream",
     "text": [
      " Volume in drive C has no label.\n",
      " Volume Serial Number is A8DF-5E23\n",
      "\n",
      " Directory of C:\\Users\\Administrator.UPTHINK0004\n",
      "\n",
      "06/23/2022  12:13 PM    <DIR>          .\n",
      "06/23/2022  12:13 PM    <DIR>          ..\n",
      "05/03/2022  04:50 PM    <DIR>          .conda\n",
      "05/03/2022  10:46 AM                25 .condarc\n",
      "05/03/2022  10:45 AM    <DIR>          .continuum\n",
      "06/23/2022  08:37 AM    <DIR>          .ipynb_checkpoints\n",
      "05/03/2022  10:47 AM    <DIR>          .ipython\n",
      "05/15/2022  03:05 PM    <DIR>          .jupyter\n",
      "05/20/2022  08:49 AM    <DIR>          .matplotlib\n",
      "06/05/2022  03:17 PM    <DIR>          .spyder-py3\n",
      "01/07/2021  12:58 PM    <DIR>          3D Objects\n",
      "05/18/2022  01:36 PM             7,449 ANOVA.ipynb\n",
      "06/03/2022  05:03 PM             4,641 Assignment 1.ipynb\n",
      "06/15/2022  03:48 PM             3,998 Assignment 2..ipynb\n",
      "05/24/2022  04:30 PM            17,725 Assignment 2.ipynb\n",
      "06/15/2022  05:34 PM            24,028 Assignment 3..ipynb\n",
      "05/24/2022  06:01 PM               814 Assignment 3.ipynb\n",
      "06/16/2022  07:28 PM             5,256 Assignment 4.ipynb\n",
      "01/07/2021  12:58 PM    <DIR>          Contacts\n",
      "05/28/2022  05:28 PM            18,478 Data extraction using for loop.ipynb\n",
      "06/23/2022  11:59 AM    <DIR>          Desktop\n",
      "05/07/2022  03:06 PM    <DIR>          Documents\n",
      "06/22/2022  06:25 PM    <DIR>          Downloads\n",
      "01/07/2021  12:58 PM    <DIR>          Favorites\n",
      "06/05/2022  04:33 PM            21,671 functions .ipynb\n",
      "06/12/2022  01:33 PM            11,616 Hello.mp3\n",
      "01/07/2021  12:58 PM    <DIR>          Links\n",
      "05/27/2022  12:32 PM            54,276 List, Tuples, Dict, Set.ipynb\n",
      "06/03/2022  03:19 PM            26,764 Loops .ipynb\n",
      "01/07/2021  12:58 PM    <DIR>          Music\n",
      "10/01/2021  03:04 PM    <DIR>          OneDrive\n",
      "04/01/2022  09:04 AM    <DIR>          Pictures\n",
      "06/09/2022  03:12 PM           113,561 Revision and task solving (1).ipynb\n",
      "01/07/2021  12:58 PM    <DIR>          Saved Games\n",
      "01/07/2021  12:59 PM    <DIR>          Searches\n",
      "06/23/2022  12:05 PM                36 sudh1.text\n",
      "06/09/2022  03:10 PM             7,586 Task 2.ipynb\n",
      "06/10/2022  01:01 PM            15,840 Task 3.ipynb\n",
      "06/15/2022  03:52 PM            17,825 Task 4.ipynb\n",
      "06/05/2022  01:08 PM            11,132 Task1.ipynb\n",
      "06/23/2022  12:14 PM                52 text1.txt\n",
      "06/17/2022  10:17 AM             7,845 Theory Assignment 1.ipynb\n",
      "06/17/2022  11:07 PM            12,988 Theory Assignment 2.ipynb\n",
      "06/23/2022  12:12 PM            30,611 Untitled.ipynb\n",
      "05/20/2022  11:36 AM            13,298 Untitled2.ipynb\n",
      "05/12/2022  08:52 AM    <DIR>          Videos\n",
      "06/11/2022  05:26 PM         1,182,021 While loop.ipynb\n",
      "              25 File(s)      1,609,536 bytes\n",
      "              22 Dir(s)  169,390,587,904 bytes free\n"
     ]
    }
   ],
   "source": [
    "ls"
   ]
  },
  {
   "cell_type": "code",
   "execution_count": 46,
   "id": "81aebdbe",
   "metadata": {},
   "outputs": [],
   "source": [
    "l = [1,2,3,4,5,6,7,8,9,10]"
   ]
  },
  {
   "cell_type": "code",
   "execution_count": 47,
   "id": "8d7f57ab",
   "metadata": {},
   "outputs": [],
   "source": [
    "f2 = open(\"text2.txt\", 'w')"
   ]
  },
  {
   "cell_type": "code",
   "execution_count": 48,
   "id": "99fd3f77",
   "metadata": {},
   "outputs": [
    {
     "ename": "TypeError",
     "evalue": "write() argument must be str, not list",
     "output_type": "error",
     "traceback": [
      "\u001b[1;31m---------------------------------------------------------------------------\u001b[0m",
      "\u001b[1;31mTypeError\u001b[0m                                 Traceback (most recent call last)",
      "\u001b[1;32mC:\\Users\\ADMINI~1.UPT\\AppData\\Local\\Temp/ipykernel_10352/2847691079.py\u001b[0m in \u001b[0;36m<module>\u001b[1;34m\u001b[0m\n\u001b[1;32m----> 1\u001b[1;33m \u001b[0mf2\u001b[0m\u001b[1;33m.\u001b[0m\u001b[0mwrite\u001b[0m\u001b[1;33m(\u001b[0m\u001b[0ml\u001b[0m\u001b[1;33m)\u001b[0m\u001b[1;33m\u001b[0m\u001b[1;33m\u001b[0m\u001b[0m\n\u001b[0m",
      "\u001b[1;31mTypeError\u001b[0m: write() argument must be str, not list"
     ]
    }
   ],
   "source": [
    "f2.write(l)"
   ]
  },
  {
   "cell_type": "code",
   "execution_count": 49,
   "id": "39b63ee4",
   "metadata": {},
   "outputs": [
    {
     "data": {
      "text/plain": [
       "31"
      ]
     },
     "execution_count": 49,
     "metadata": {},
     "output_type": "execute_result"
    }
   ],
   "source": [
    "f2.write(str(l))"
   ]
  },
  {
   "cell_type": "code",
   "execution_count": 50,
   "id": "285b754d",
   "metadata": {},
   "outputs": [],
   "source": [
    "f2.close()"
   ]
  },
  {
   "cell_type": "code",
   "execution_count": 55,
   "id": "c67e0112",
   "metadata": {},
   "outputs": [],
   "source": [
    "f3 = open(\"test.sudh\",'w')\n",
    "f3.write(\"Akshay is my name\")\n",
    "f3.close()"
   ]
  },
  {
   "cell_type": "code",
   "execution_count": 56,
   "id": "7ca97b19",
   "metadata": {},
   "outputs": [
    {
     "name": "stdout",
     "output_type": "stream",
     "text": [
      "Overwriting test5.txt\n"
     ]
    }
   ],
   "source": [
    "%%writefile test5.txt\n",
    "This is my python program to write into a file in different way \n",
    "This is my python program to write into a file in different way\n",
    "This is my python program to write into a file in different way\n",
    "This is my python program to write into a file in different way\n",
    "This is my python program to write into a file in different way\n",
    "This is my python program to write into a file in different way\n",
    "This is my python program to write into a file in different way"
   ]
  },
  {
   "cell_type": "code",
   "execution_count": 58,
   "id": "44633e0b",
   "metadata": {},
   "outputs": [],
   "source": [
    "f = open(\"test5.txt\")"
   ]
  },
  {
   "cell_type": "code",
   "execution_count": 59,
   "id": "f10e7d7e",
   "metadata": {},
   "outputs": [
    {
     "data": {
      "text/plain": [
       "'This is my python program to write into a file in different way \\nThis is my python program to write into a file in different way\\nThis is my python program to write into a file in different way\\nThis is my python program to write into a file in different way\\nThis is my python program to write into a file in different way\\nThis is my python program to write into a file in different way\\nThis is my python program to write into a file in different way\\n'"
      ]
     },
     "execution_count": 59,
     "metadata": {},
     "output_type": "execute_result"
    }
   ],
   "source": [
    "f.read()"
   ]
  },
  {
   "cell_type": "code",
   "execution_count": 60,
   "id": "f453ac0b",
   "metadata": {},
   "outputs": [
    {
     "data": {
      "text/plain": [
       "''"
      ]
     },
     "execution_count": 60,
     "metadata": {},
     "output_type": "execute_result"
    }
   ],
   "source": [
    "f.read()"
   ]
  },
  {
   "cell_type": "code",
   "execution_count": 61,
   "id": "9a0873bd",
   "metadata": {},
   "outputs": [
    {
     "data": {
      "text/plain": [
       "0"
      ]
     },
     "execution_count": 61,
     "metadata": {},
     "output_type": "execute_result"
    }
   ],
   "source": [
    "f.seek(0)"
   ]
  },
  {
   "cell_type": "code",
   "execution_count": 62,
   "id": "8bef747c",
   "metadata": {},
   "outputs": [
    {
     "data": {
      "text/plain": [
       "'This is my python program to write into a file in different way \\nThis is my python program to write into a file in different way\\nThis is my python program to write into a file in different way\\nThis is my python program to write into a file in different way\\nThis is my python program to write into a file in different way\\nThis is my python program to write into a file in different way\\nThis is my python program to write into a file in different way\\n'"
      ]
     },
     "execution_count": 62,
     "metadata": {},
     "output_type": "execute_result"
    }
   ],
   "source": [
    "f.read()"
   ]
  },
  {
   "cell_type": "code",
   "execution_count": 63,
   "id": "d82277a3",
   "metadata": {},
   "outputs": [
    {
     "data": {
      "text/plain": [
       "''"
      ]
     },
     "execution_count": 63,
     "metadata": {},
     "output_type": "execute_result"
    }
   ],
   "source": [
    "f.read()"
   ]
  },
  {
   "cell_type": "code",
   "execution_count": 65,
   "id": "ac132831",
   "metadata": {},
   "outputs": [
    {
     "data": {
      "text/plain": [
       "4"
      ]
     },
     "execution_count": 65,
     "metadata": {},
     "output_type": "execute_result"
    }
   ],
   "source": [
    "f.seek(4)"
   ]
  },
  {
   "cell_type": "code",
   "execution_count": 66,
   "id": "da2e0e17",
   "metadata": {},
   "outputs": [
    {
     "data": {
      "text/plain": [
       "' is my python program to write into a file in different way \\nThis is my python program to write into a file in different way\\nThis is my python program to write into a file in different way\\nThis is my python program to write into a file in different way\\nThis is my python program to write into a file in different way\\nThis is my python program to write into a file in different way\\nThis is my python program to write into a file in different way\\n'"
      ]
     },
     "execution_count": 66,
     "metadata": {},
     "output_type": "execute_result"
    }
   ],
   "source": [
    "f.read()"
   ]
  },
  {
   "cell_type": "code",
   "execution_count": 67,
   "id": "e2028c13",
   "metadata": {},
   "outputs": [
    {
     "data": {
      "text/plain": [
       "58"
      ]
     },
     "execution_count": 67,
     "metadata": {},
     "output_type": "execute_result"
    }
   ],
   "source": [
    "f.seek(58)"
   ]
  },
  {
   "cell_type": "code",
   "execution_count": 68,
   "id": "68c0f532",
   "metadata": {},
   "outputs": [
    {
     "data": {
      "text/plain": [
       "'t way \\nThis is my python program to write into a file in different way\\nThis is my python program to write into a file in different way\\nThis is my python program to write into a file in different way\\nThis is my python program to write into a file in different way\\nThis is my python program to write into a file in different way\\nThis is my python program to write into a file in different way\\n'"
      ]
     },
     "execution_count": 68,
     "metadata": {},
     "output_type": "execute_result"
    }
   ],
   "source": [
    "f.read()"
   ]
  },
  {
   "cell_type": "code",
   "execution_count": 70,
   "id": "4dfb36d8",
   "metadata": {},
   "outputs": [],
   "source": [
    "f1 = open(\"test5.txt\")"
   ]
  },
  {
   "cell_type": "code",
   "execution_count": 71,
   "id": "8f25e6f6",
   "metadata": {},
   "outputs": [
    {
     "data": {
      "text/plain": [
       "0"
      ]
     },
     "execution_count": 71,
     "metadata": {},
     "output_type": "execute_result"
    }
   ],
   "source": [
    "f1.tell()"
   ]
  },
  {
   "cell_type": "code",
   "execution_count": 72,
   "id": "35660578",
   "metadata": {},
   "outputs": [
    {
     "data": {
      "text/plain": [
       "'This is my python program to write into a file in different way \\nThis is my python program to write into a file in different way\\nThis is my python program to write into a file in different way\\nThis is my python program to write into a file in different way\\nThis is my python program to write into a file in different way\\nThis is my python program to write into a file in different way\\nThis is my python program to write into a file in different way\\n'"
      ]
     },
     "execution_count": 72,
     "metadata": {},
     "output_type": "execute_result"
    }
   ],
   "source": [
    "f1.read()"
   ]
  },
  {
   "cell_type": "code",
   "execution_count": 73,
   "id": "4f030e8e",
   "metadata": {},
   "outputs": [
    {
     "data": {
      "text/plain": [
       "456"
      ]
     },
     "execution_count": 73,
     "metadata": {},
     "output_type": "execute_result"
    }
   ],
   "source": [
    "f1.tell()"
   ]
  },
  {
   "cell_type": "code",
   "execution_count": 74,
   "id": "8e167cbb",
   "metadata": {},
   "outputs": [
    {
     "data": {
      "text/plain": [
       "5"
      ]
     },
     "execution_count": 74,
     "metadata": {},
     "output_type": "execute_result"
    }
   ],
   "source": [
    "f1.seek(5)"
   ]
  },
  {
   "cell_type": "code",
   "execution_count": 76,
   "id": "ecc67c8a",
   "metadata": {},
   "outputs": [
    {
     "data": {
      "text/plain": [
       "5"
      ]
     },
     "execution_count": 76,
     "metadata": {},
     "output_type": "execute_result"
    }
   ],
   "source": [
    "f1.tell()"
   ]
  },
  {
   "cell_type": "code",
   "execution_count": 77,
   "id": "91954198",
   "metadata": {},
   "outputs": [
    {
     "data": {
      "text/plain": [
       "'is my python pr'"
      ]
     },
     "execution_count": 77,
     "metadata": {},
     "output_type": "execute_result"
    }
   ],
   "source": [
    "f1.read(15)"
   ]
  },
  {
   "cell_type": "code",
   "execution_count": 78,
   "id": "6dc6947d",
   "metadata": {},
   "outputs": [],
   "source": [
    "f2 = open(\"test5.txt\")"
   ]
  },
  {
   "cell_type": "code",
   "execution_count": 79,
   "id": "13a07f67",
   "metadata": {},
   "outputs": [
    {
     "data": {
      "text/plain": [
       "'This is my python program to write into a file in different way \\nThis is my python program to write into a file in different way\\nThis is my python program to write into a file in different way\\nThis is my python program to write into a file in different way\\nThis is my python program to write into a file in different way\\nThis is my python program to write into a file in different way\\nThis is my python program to write into a file in different way\\n'"
      ]
     },
     "execution_count": 79,
     "metadata": {},
     "output_type": "execute_result"
    }
   ],
   "source": [
    "f2.read()"
   ]
  },
  {
   "cell_type": "code",
   "execution_count": 81,
   "id": "697a7979",
   "metadata": {},
   "outputs": [
    {
     "data": {
      "text/plain": [
       "0"
      ]
     },
     "execution_count": 81,
     "metadata": {},
     "output_type": "execute_result"
    }
   ],
   "source": [
    "f2.seek(0)"
   ]
  },
  {
   "cell_type": "code",
   "execution_count": 82,
   "id": "c223515e",
   "metadata": {},
   "outputs": [
    {
     "data": {
      "text/plain": [
       "'This is my python program to write into a file in different way \\n'"
      ]
     },
     "execution_count": 82,
     "metadata": {},
     "output_type": "execute_result"
    }
   ],
   "source": [
    "f2.readline()"
   ]
  },
  {
   "cell_type": "code",
   "execution_count": 83,
   "id": "dafac630",
   "metadata": {},
   "outputs": [
    {
     "data": {
      "text/plain": [
       "['This is my python program to write into a file in different way\\n',\n",
       " 'This is my python program to write into a file in different way\\n',\n",
       " 'This is my python program to write into a file in different way\\n',\n",
       " 'This is my python program to write into a file in different way\\n',\n",
       " 'This is my python program to write into a file in different way\\n',\n",
       " 'This is my python program to write into a file in different way\\n']"
      ]
     },
     "execution_count": 83,
     "metadata": {},
     "output_type": "execute_result"
    }
   ],
   "source": [
    "f2.readlines()"
   ]
  },
  {
   "cell_type": "code",
   "execution_count": 84,
   "id": "81038eac",
   "metadata": {},
   "outputs": [
    {
     "data": {
      "text/plain": [
       "6"
      ]
     },
     "execution_count": 84,
     "metadata": {},
     "output_type": "execute_result"
    }
   ],
   "source": [
    "f2.fileno()"
   ]
  },
  {
   "cell_type": "code",
   "execution_count": 85,
   "id": "b1c40610",
   "metadata": {},
   "outputs": [],
   "source": [
    "f = open(\"test.txt\",'w')\n"
   ]
  },
  {
   "cell_type": "code",
   "execution_count": 86,
   "id": "70b70108",
   "metadata": {},
   "outputs": [
    {
     "data": {
      "text/plain": [
       "63"
      ]
     },
     "execution_count": 86,
     "metadata": {},
     "output_type": "execute_result"
    }
   ],
   "source": [
    "f.write(\"\"\"This is my python program to write into a file in different way\"\"\")"
   ]
  },
  {
   "cell_type": "code",
   "execution_count": 87,
   "id": "bd3dfb05",
   "metadata": {},
   "outputs": [],
   "source": [
    "f.close()"
   ]
  },
  {
   "cell_type": "code",
   "execution_count": 88,
   "id": "5feb6ac0",
   "metadata": {},
   "outputs": [],
   "source": [
    "# map, reduce, filter"
   ]
  },
  {
   "cell_type": "code",
   "execution_count": 1,
   "id": "46c7c1b8",
   "metadata": {},
   "outputs": [],
   "source": [
    "l = [2,3,4,5,5,6]"
   ]
  },
  {
   "cell_type": "code",
   "execution_count": 2,
   "id": "96397859",
   "metadata": {},
   "outputs": [],
   "source": [
    "l1=[]\n",
    "for i in l :\n",
    "    l1.append(i**2)"
   ]
  },
  {
   "cell_type": "code",
   "execution_count": 3,
   "id": "55df81ef",
   "metadata": {},
   "outputs": [
    {
     "data": {
      "text/plain": [
       "[4, 9, 16, 25, 25, 36]"
      ]
     },
     "execution_count": 3,
     "metadata": {},
     "output_type": "execute_result"
    }
   ],
   "source": [
    "l1"
   ]
  },
  {
   "cell_type": "code",
   "execution_count": 4,
   "id": "6d783035",
   "metadata": {},
   "outputs": [],
   "source": [
    "def sq(n) :\n",
    "    return n**2"
   ]
  },
  {
   "cell_type": "code",
   "execution_count": 5,
   "id": "00f8167d",
   "metadata": {},
   "outputs": [
    {
     "data": {
      "text/plain": [
       "<map at 0x25be3e57a30>"
      ]
     },
     "execution_count": 5,
     "metadata": {},
     "output_type": "execute_result"
    }
   ],
   "source": [
    "map(sq,l)"
   ]
  },
  {
   "cell_type": "code",
   "execution_count": 6,
   "id": "af28d56c",
   "metadata": {},
   "outputs": [
    {
     "data": {
      "text/plain": [
       "[4, 9, 16, 25, 25, 36]"
      ]
     },
     "execution_count": 6,
     "metadata": {},
     "output_type": "execute_result"
    }
   ],
   "source": [
    "list(map(sq,l))"
   ]
  },
  {
   "cell_type": "code",
   "execution_count": 7,
   "id": "66af8161",
   "metadata": {},
   "outputs": [
    {
     "data": {
      "text/plain": [
       "<map at 0x25be3e576a0>"
      ]
     },
     "execution_count": 7,
     "metadata": {},
     "output_type": "execute_result"
    }
   ],
   "source": [
    "map(lambda x : x**2, l)"
   ]
  },
  {
   "cell_type": "code",
   "execution_count": 8,
   "id": "6685ea67",
   "metadata": {},
   "outputs": [
    {
     "data": {
      "text/plain": [
       "[4, 9, 16, 25, 25, 36]"
      ]
     },
     "execution_count": 8,
     "metadata": {},
     "output_type": "execute_result"
    }
   ],
   "source": [
    "list(map(lambda x : x**2, l))"
   ]
  },
  {
   "cell_type": "code",
   "execution_count": 9,
   "id": "22e65d1d",
   "metadata": {},
   "outputs": [
    {
     "data": {
      "text/plain": [
       "[2, 3, 4, 5, 5, 6]"
      ]
     },
     "execution_count": 9,
     "metadata": {},
     "output_type": "execute_result"
    }
   ],
   "source": [
    "l"
   ]
  },
  {
   "cell_type": "code",
   "execution_count": 10,
   "id": "a211e817",
   "metadata": {},
   "outputs": [
    {
     "data": {
      "text/plain": [
       "<map at 0x25be3e57220>"
      ]
     },
     "execution_count": 10,
     "metadata": {},
     "output_type": "execute_result"
    }
   ],
   "source": [
    "map(lambda x : str(x),l)"
   ]
  },
  {
   "cell_type": "code",
   "execution_count": 11,
   "id": "e944999b",
   "metadata": {},
   "outputs": [
    {
     "data": {
      "text/plain": [
       "['2', '3', '4', '5', '5', '6']"
      ]
     },
     "execution_count": 11,
     "metadata": {},
     "output_type": "execute_result"
    }
   ],
   "source": [
    "list(map(lambda x : str(x),l))"
   ]
  },
  {
   "cell_type": "code",
   "execution_count": 12,
   "id": "1005c78c",
   "metadata": {},
   "outputs": [],
   "source": [
    "def str_c(n) :\n",
    "    return str(c)"
   ]
  },
  {
   "cell_type": "code",
   "execution_count": 14,
   "id": "34b583ca",
   "metadata": {},
   "outputs": [
    {
     "data": {
      "text/plain": [
       "['2', '3', '4', '5', '5', '6']"
      ]
     },
     "execution_count": 14,
     "metadata": {},
     "output_type": "execute_result"
    }
   ],
   "source": [
    "list(map(str,l))"
   ]
  },
  {
   "cell_type": "code",
   "execution_count": 15,
   "id": "22c1825c",
   "metadata": {},
   "outputs": [],
   "source": [
    "from functools import reduce"
   ]
  },
  {
   "cell_type": "code",
   "execution_count": 16,
   "id": "02487118",
   "metadata": {},
   "outputs": [],
   "source": [
    "l = [3,4,5,6,7,8,9]"
   ]
  },
  {
   "cell_type": "code",
   "execution_count": 17,
   "id": "16b141d5",
   "metadata": {},
   "outputs": [
    {
     "data": {
      "text/plain": [
       "42"
      ]
     },
     "execution_count": 17,
     "metadata": {},
     "output_type": "execute_result"
    }
   ],
   "source": [
    "sum(l)"
   ]
  },
  {
   "cell_type": "code",
   "execution_count": 18,
   "id": "0ccb0dc6",
   "metadata": {},
   "outputs": [
    {
     "data": {
      "text/plain": [
       "42"
      ]
     },
     "execution_count": 18,
     "metadata": {},
     "output_type": "execute_result"
    }
   ],
   "source": [
    "reduce(lambda a,b : a+b, l)"
   ]
  },
  {
   "cell_type": "code",
   "execution_count": 19,
   "id": "7ee5f4b7",
   "metadata": {},
   "outputs": [
    {
     "data": {
      "text/plain": [
       "181440"
      ]
     },
     "execution_count": 19,
     "metadata": {},
     "output_type": "execute_result"
    }
   ],
   "source": [
    "reduce(lambda a,b : a*b, l)"
   ]
  },
  {
   "cell_type": "code",
   "execution_count": 21,
   "id": "594f3b8a",
   "metadata": {},
   "outputs": [
    {
     "ename": "TypeError",
     "evalue": "<lambda>() missing 1 required positional argument: 'c'",
     "output_type": "error",
     "traceback": [
      "\u001b[1;31m---------------------------------------------------------------------------\u001b[0m",
      "\u001b[1;31mTypeError\u001b[0m                                 Traceback (most recent call last)",
      "\u001b[1;32mC:\\Users\\ADMINI~1.UPT\\AppData\\Local\\Temp/ipykernel_23772/832819315.py\u001b[0m in \u001b[0;36m<module>\u001b[1;34m\u001b[0m\n\u001b[1;32m----> 1\u001b[1;33m \u001b[0mreduce\u001b[0m\u001b[1;33m(\u001b[0m\u001b[1;32mlambda\u001b[0m \u001b[0ma\u001b[0m\u001b[1;33m,\u001b[0m\u001b[0mb\u001b[0m\u001b[1;33m,\u001b[0m\u001b[0mc\u001b[0m \u001b[1;33m:\u001b[0m \u001b[0ma\u001b[0m\u001b[1;33m*\u001b[0m\u001b[0mb\u001b[0m\u001b[1;33m*\u001b[0m\u001b[0mc\u001b[0m\u001b[1;33m,\u001b[0m \u001b[0ml\u001b[0m\u001b[1;33m)\u001b[0m     \u001b[1;31m#In case of reduce use only 2 parameters\u001b[0m\u001b[1;33m\u001b[0m\u001b[1;33m\u001b[0m\u001b[0m\n\u001b[0m",
      "\u001b[1;31mTypeError\u001b[0m: <lambda>() missing 1 required positional argument: 'c'"
     ]
    }
   ],
   "source": [
    "reduce(lambda a,b,c : a*b*c, l)     #In case of reduce use only 2 parameters "
   ]
  },
  {
   "cell_type": "code",
   "execution_count": 22,
   "id": "92aa9ce6",
   "metadata": {},
   "outputs": [],
   "source": [
    "l = [3]"
   ]
  },
  {
   "cell_type": "code",
   "execution_count": 23,
   "id": "e91d960a",
   "metadata": {},
   "outputs": [
    {
     "data": {
      "text/plain": [
       "3"
      ]
     },
     "execution_count": 23,
     "metadata": {},
     "output_type": "execute_result"
    }
   ],
   "source": [
    "sum(l)"
   ]
  },
  {
   "cell_type": "code",
   "execution_count": 24,
   "id": "7b196ed0",
   "metadata": {},
   "outputs": [
    {
     "data": {
      "text/plain": [
       "3"
      ]
     },
     "execution_count": 24,
     "metadata": {},
     "output_type": "execute_result"
    }
   ],
   "source": [
    "reduce(lambda a,b : a*b,l)"
   ]
  },
  {
   "cell_type": "code",
   "execution_count": 25,
   "id": "92ec2f3a",
   "metadata": {},
   "outputs": [],
   "source": [
    "l =[1,2,3,4,45,5]"
   ]
  },
  {
   "cell_type": "code",
   "execution_count": 29,
   "id": "0b3cd86a",
   "metadata": {},
   "outputs": [
    {
     "data": {
      "text/plain": [
       "<filter at 0x25be3e575b0>"
      ]
     },
     "execution_count": 29,
     "metadata": {},
     "output_type": "execute_result"
    }
   ],
   "source": [
    "filter(lambda x : x%2==0 ,l)"
   ]
  },
  {
   "cell_type": "code",
   "execution_count": 28,
   "id": "e2f15db1",
   "metadata": {},
   "outputs": [
    {
     "data": {
      "text/plain": [
       "[2, 4]"
      ]
     },
     "execution_count": 28,
     "metadata": {},
     "output_type": "execute_result"
    }
   ],
   "source": [
    "list(filter(lambda x : x%2 ==0 ,l))"
   ]
  },
  {
   "cell_type": "code",
   "execution_count": 34,
   "id": "3d9e4131",
   "metadata": {},
   "outputs": [],
   "source": [
    "def check_even(n) :\n",
    "    if n%2 == 0 :\n",
    "          return True"
   ]
  },
  {
   "cell_type": "code",
   "execution_count": 35,
   "id": "aea4dd93",
   "metadata": {},
   "outputs": [
    {
     "data": {
      "text/plain": [
       "[2, 4]"
      ]
     },
     "execution_count": 35,
     "metadata": {},
     "output_type": "execute_result"
    }
   ],
   "source": [
    "list(filter(check_even,l))"
   ]
  },
  {
   "cell_type": "code",
   "execution_count": null,
   "id": "503bd2a0",
   "metadata": {},
   "outputs": [],
   "source": []
  }
 ],
 "metadata": {
  "kernelspec": {
   "display_name": "Python 3 (ipykernel)",
   "language": "python",
   "name": "python3"
  },
  "language_info": {
   "codemirror_mode": {
    "name": "ipython",
    "version": 3
   },
   "file_extension": ".py",
   "mimetype": "text/x-python",
   "name": "python",
   "nbconvert_exporter": "python",
   "pygments_lexer": "ipython3",
   "version": "3.9.7"
  }
 },
 "nbformat": 4,
 "nbformat_minor": 5
}
