{
 "cells": [
  {
   "cell_type": "markdown",
   "id": "89b3f82b",
   "metadata": {},
   "source": [
    "#### 1. Add the current date to the text file today.txt as a string."
   ]
  },
  {
   "cell_type": "code",
   "execution_count": 1,
   "id": "051c7749",
   "metadata": {},
   "outputs": [
    {
     "name": "stdout",
     "output_type": "stream",
     "text": [
      "12-01-23\n"
     ]
    }
   ],
   "source": [
    "import datetime\n",
    "\n",
    "# code to add current date to the today.txt file\n",
    "file = open(\"today.txt\",'w')\n",
    "file.write(datetime.datetime.now().strftime('%d-%m-%y'))\n",
    "file.close()\n",
    "\n",
    "# code to read current date from today.txt file\n",
    "file = open(\"today.txt\",'r')\n",
    "print(file.read())\n",
    "file.close()"
   ]
  },
  {
   "cell_type": "markdown",
   "id": "d5f36ae3",
   "metadata": {},
   "source": [
    "#### 2. Read the text file today.txt into the string today_string"
   ]
  },
  {
   "cell_type": "code",
   "execution_count": 2,
   "id": "f71ce8b1",
   "metadata": {},
   "outputs": [
    {
     "name": "stdout",
     "output_type": "stream",
     "text": [
      "12-01-23\n"
     ]
    }
   ],
   "source": [
    "file = open(\"today.txt\",'r')\n",
    "today_string = file.read()\n",
    "print(today_string)"
   ]
  },
  {
   "cell_type": "markdown",
   "id": "866483f5",
   "metadata": {},
   "source": [
    "#### 3. Parse the date from today_string."
   ]
  },
  {
   "cell_type": "code",
   "execution_count": 3,
   "id": "aa0f88bc",
   "metadata": {},
   "outputs": [
    {
     "name": "stdout",
     "output_type": "stream",
     "text": [
      "2023-01-12 00:00:00\n"
     ]
    }
   ],
   "source": [
    "from datetime import datetime\n",
    "parsed_date = datetime.strptime(today_string,\"%d-%m-%y\")\n",
    "print(parsed_date)"
   ]
  },
  {
   "cell_type": "markdown",
   "id": "a0442427",
   "metadata": {},
   "source": [
    "#### 4. List the files in your current directory"
   ]
  },
  {
   "cell_type": "code",
   "execution_count": 4,
   "id": "cd15ebf7",
   "metadata": {},
   "outputs": [
    {
     "name": "stdout",
     "output_type": "stream",
     "text": [
      "Assignment 10.ipynb\n",
      "Assignment 5.ipynb\n",
      "Assignment 6.ipynb\n",
      "Assignment 7.ipynb\n",
      "Assignment 8.ipynb\n",
      "Assignment 9.ipynb\n",
      "books.csv\n",
      "books.db\n",
      "books.db-journal\n",
      "Built in Modules.ipynb\n",
      "Full.pdf\n",
      "Guessing a game.ipynb\n",
      "Multiple Linear Regression on Diabetes data.ipynb\n",
      "Multiple linear regression.ipynb\n",
      "Polynomial Regression .ipynb\n",
      "Python Practice Problems .ipynb\n",
      "Regular Expression.ipynb\n",
      "test.txt\n",
      "Theory Assignment 10.ipynb\n",
      "Theory Assignment 11.ipynb\n",
      "Theory Assignment 12.ipynb\n",
      "Theory Assignment 13.ipynb\n",
      "Theory Assignment 14.ipynb\n",
      "Theory Assignment 15.ipynb\n",
      "Theory Assignment 16.ipynb\n",
      "Theory Assignment 17.ipynb\n",
      "Theory Assignment 18.ipynb\n",
      "Theory Assignment 19.ipynb\n",
      "Theory Assignment 20.ipynb\n",
      "Theory Assignment 21.ipynb\n",
      "Theory Assignment 3.ipynb\n",
      "Theory Assignment 4.ipynb\n",
      "Theory Assignment 5.ipynb\n",
      "Theory Assignment 6.ipynb\n",
      "Theory Assignment 7.ipynb\n",
      "Theory Assignment 8.ipynb\n",
      "Theory Assignment 9.ipynb\n",
      "today.txt\n",
      "Untitled.ipynb\n",
      "Untitled1.ipynb\n",
      "Untitled2.ipynb\n",
      "Untitled3.ipynb\n",
      "Untitled4.ipynb\n",
      "zoo.py\n",
      "desktop.ini\n",
      "Assignment 10-checkpoint.ipynb\n",
      "Assignment 5-checkpoint.ipynb\n",
      "Assignment 6-checkpoint.ipynb\n",
      "Assignment 7-checkpoint.ipynb\n",
      "Assignment 8-checkpoint.ipynb\n",
      "Assignment 9-checkpoint.ipynb\n",
      "Built in Modules-checkpoint.ipynb\n",
      "Guessing a game-checkpoint.ipynb\n",
      "Multiple Linear Regression on Diabetes data-checkpoint.ipynb\n",
      "Multiple linear regression-checkpoint.ipynb\n",
      "Polynomial Regression -checkpoint.ipynb\n",
      "Python Practice Problems -checkpoint.ipynb\n",
      "Regular Expression-checkpoint.ipynb\n",
      "Theory Assignment 10-checkpoint.ipynb\n",
      "Theory Assignment 11-checkpoint.ipynb\n",
      "Theory Assignment 12-checkpoint.ipynb\n",
      "Theory Assignment 13-checkpoint.ipynb\n",
      "Theory Assignment 14-checkpoint.ipynb\n",
      "Theory Assignment 15-checkpoint.ipynb\n",
      "Theory Assignment 16-checkpoint.ipynb\n",
      "Theory Assignment 17-checkpoint.ipynb\n",
      "Theory Assignment 18-checkpoint.ipynb\n",
      "Theory Assignment 19-checkpoint.ipynb\n",
      "Theory Assignment 20-checkpoint.ipynb\n",
      "Theory Assignment 21-checkpoint.ipynb\n",
      "Theory Assignment 3-checkpoint.ipynb\n",
      "Theory Assignment 4-checkpoint.ipynb\n",
      "Theory Assignment 5-checkpoint.ipynb\n",
      "Theory Assignment 6-checkpoint.ipynb\n",
      "Theory Assignment 7-checkpoint.ipynb\n",
      "Theory Assignment 8-checkpoint.ipynb\n",
      "Theory Assignment 9-checkpoint.ipynb\n",
      "Untitled-checkpoint.ipynb\n",
      "Untitled1-checkpoint.ipynb\n",
      "Untitled2-checkpoint.ipynb\n",
      "Untitled3-checkpoint.ipynb\n",
      "Untitled4-checkpoint.ipynb\n",
      "zoo.cpython-39.pyc\n"
     ]
    }
   ],
   "source": [
    "import os\n",
    "for folders, subfolders, files in os.walk(os.getcwd()):\n",
    "    for file in files:\n",
    "        print(file)"
   ]
  },
  {
   "cell_type": "markdown",
   "id": "621cdc27",
   "metadata": {},
   "source": [
    "#### 5. Create a list of all of the files in your parent directory (minimum five files should be available)."
   ]
  },
  {
   "cell_type": "code",
   "execution_count": 5,
   "id": "f2f87fc1",
   "metadata": {},
   "outputs": [
    {
     "data": {
      "text/plain": [
       "['$RECYCLE.BIN',\n",
       " '.ipynb_checkpoints',\n",
       " 'Assignment 10.ipynb',\n",
       " 'Assignment 5.ipynb',\n",
       " 'Assignment 6.ipynb',\n",
       " 'Assignment 7.ipynb',\n",
       " 'Assignment 8.ipynb',\n",
       " 'Assignment 9.ipynb',\n",
       " 'books.csv',\n",
       " 'books.db',\n",
       " 'books.db-journal',\n",
       " 'Built in Modules.ipynb',\n",
       " 'Full.pdf',\n",
       " 'Guessing a game.ipynb',\n",
       " 'Multiple Linear Regression on Diabetes data.ipynb',\n",
       " 'Multiple linear regression.ipynb',\n",
       " 'Polynomial Regression .ipynb',\n",
       " 'Python Practice Problems .ipynb',\n",
       " 'Regular Expression.ipynb',\n",
       " 'System Volume Information',\n",
       " 'test.txt',\n",
       " 'Theory Assignment 10.ipynb',\n",
       " 'Theory Assignment 11.ipynb',\n",
       " 'Theory Assignment 12.ipynb',\n",
       " 'Theory Assignment 13.ipynb',\n",
       " 'Theory Assignment 14.ipynb',\n",
       " 'Theory Assignment 15.ipynb',\n",
       " 'Theory Assignment 16.ipynb',\n",
       " 'Theory Assignment 17.ipynb',\n",
       " 'Theory Assignment 18.ipynb',\n",
       " 'Theory Assignment 19.ipynb',\n",
       " 'Theory Assignment 20.ipynb',\n",
       " 'Theory Assignment 21.ipynb',\n",
       " 'Theory Assignment 3.ipynb',\n",
       " 'Theory Assignment 4.ipynb',\n",
       " 'Theory Assignment 5.ipynb',\n",
       " 'Theory Assignment 6.ipynb',\n",
       " 'Theory Assignment 7.ipynb',\n",
       " 'Theory Assignment 8.ipynb',\n",
       " 'Theory Assignment 9.ipynb',\n",
       " 'today.txt',\n",
       " 'Untitled.ipynb',\n",
       " 'Untitled1.ipynb',\n",
       " 'Untitled2.ipynb',\n",
       " 'Untitled3.ipynb',\n",
       " 'Untitled4.ipynb',\n",
       " 'zoo.py',\n",
       " '__pycache__']"
      ]
     },
     "execution_count": 5,
     "metadata": {},
     "output_type": "execute_result"
    }
   ],
   "source": [
    "import os\n",
    "os.listdir()"
   ]
  },
  {
   "cell_type": "markdown",
   "id": "6e269c3d",
   "metadata": {},
   "source": [
    "#### 6. Use multiprocessing to create three separate processes. Make each one wait a random number of seconds between one and five, print the current time, and then exit."
   ]
  },
  {
   "cell_type": "code",
   "execution_count": 7,
   "id": "d186f6a7",
   "metadata": {},
   "outputs": [],
   "source": [
    "import multiprocessing\n",
    "import time \n",
    "import random\n",
    "import datetime\n",
    "\n",
    "def procOne():\n",
    "    print(f'Proc_one_Starttime -> {datetime.datetime.now()}')\n",
    "    time.sleep(random.randint(1,5))\n",
    "    print(f'Proc_one_Endtime -> {datetime.datetime.now()}')\n",
    "    \n",
    "def procTwo():\n",
    "    print(f'Proc_two_Starttime -> {datetime.datetime.now()}')\n",
    "    time.sleep(random.randint(1,5))\n",
    "    print(f'Proc_two_Endtime -> {datetime.datetime.now()}')\n",
    "\n",
    "def procThree():\n",
    "    print(f'Proc_two_Starttime -> {datetime.datetime.now()}')\n",
    "    time.sleep(random.randint(1,5))\n",
    "    print(f'Proc_two_Endtime -> {datetime.datetime.now()}')\n",
    "    \n",
    "if __name__ == \"__main__\":    \n",
    "    p1 = multiprocessing.Process(target=procOne)\n",
    "    p2 = multiprocessing.Process(target=procTwo)\n",
    "    p3 = multiprocessing.Process(target=procThree)\n",
    "\n",
    "    p1.start()\n",
    "    p2.start()\n",
    "    p3.start()\n",
    "\n",
    "    p1.join()\n",
    "    p2.join()\n",
    "    p3.join()"
   ]
  },
  {
   "cell_type": "markdown",
   "id": "514b0adc",
   "metadata": {},
   "source": [
    "#### 7. Create a date object of your day of birth."
   ]
  },
  {
   "cell_type": "code",
   "execution_count": 11,
   "id": "c15e7090",
   "metadata": {},
   "outputs": [
    {
     "name": "stdout",
     "output_type": "stream",
     "text": [
      "1998-08-04 00:00:00 <class 'datetime.datetime'>\n"
     ]
    }
   ],
   "source": [
    "from datetime import datetime\n",
    "my_dob = datetime.strptime('04/08/1998','%d/%m/%Y')\n",
    "print(my_dob, type(my_dob))"
   ]
  },
  {
   "cell_type": "markdown",
   "id": "dfd0a4a4",
   "metadata": {},
   "source": [
    "#### 8. What day of the week was your day of birth?"
   ]
  },
  {
   "cell_type": "code",
   "execution_count": 12,
   "id": "9213df75",
   "metadata": {},
   "outputs": [
    {
     "data": {
      "text/plain": [
       "'Tuesday'"
      ]
     },
     "execution_count": 12,
     "metadata": {},
     "output_type": "execute_result"
    }
   ],
   "source": [
    "from datetime import datetime\n",
    "my_dob = datetime(1998,8,4)\n",
    "my_dob.strftime(\"%A\")"
   ]
  },
  {
   "cell_type": "markdown",
   "id": "7b6ef0c2",
   "metadata": {},
   "source": [
    "#### 9. When will you be (or when were you) 10,000 days old?"
   ]
  },
  {
   "cell_type": "code",
   "execution_count": 14,
   "id": "8c47335f",
   "metadata": {},
   "outputs": [
    {
     "name": "stdout",
     "output_type": "stream",
     "text": [
      "2025-12-20 00:00:00\n"
     ]
    }
   ],
   "source": [
    "from datetime import datetime, timedelta\n",
    "my_dob = datetime.strptime(\"04/08/1998\",\"%d/%m/%Y\")\n",
    "future_date = my_dob + timedelta(10000)\n",
    "print(future_date)"
   ]
  }
 ],
 "metadata": {
  "kernelspec": {
   "display_name": "Python 3 (ipykernel)",
   "language": "python",
   "name": "python3"
  },
  "language_info": {
   "codemirror_mode": {
    "name": "ipython",
    "version": 3
   },
   "file_extension": ".py",
   "mimetype": "text/x-python",
   "name": "python",
   "nbconvert_exporter": "python",
   "pygments_lexer": "ipython3",
   "version": "3.9.13"
  }
 },
 "nbformat": 4,
 "nbformat_minor": 5
}
