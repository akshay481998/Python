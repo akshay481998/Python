{
 "cells": [
  {
   "cell_type": "markdown",
   "id": "9ab43a9c",
   "metadata": {},
   "source": [
    "#### 1. Write a Python program to Extract Unique values dictionary values?"
   ]
  },
  {
   "cell_type": "code",
   "execution_count": 5,
   "id": "0b50f034",
   "metadata": {},
   "outputs": [
    {
     "name": "stdout",
     "output_type": "stream",
     "text": [
      "The original dictinary is : {'Akshay': [5, 6, 7, 8], 'is': [10, 11, 7, 5], 'best': [6, 12, 10, 8], 'for': [1, 2, 5]}\n",
      "The unique values list is : [1, 2, 5, 6, 7, 8, 10, 11, 12]\n"
     ]
    }
   ],
   "source": [
    "dict = {'Akshay': [5, 6, 7, 8],\n",
    "        'is': [10, 11, 7, 5],\n",
    "        'best': [6, 12, 10, 8],\n",
    "        'for': [1, 2, 5]}\n",
    "\n",
    "print(\"The original dictinary is : \" + str(dict))\n",
    "\n",
    "res = list(sorted({ele for val in dict.values() for ele in val}))\n",
    "\n",
    "print(\"The unique values list is : \" + str(res))\n"
   ]
  },
  {
   "cell_type": "markdown",
   "id": "1bab4491",
   "metadata": {},
   "source": [
    "#### 2. Write a Python program to find the sum of all items in a dictionary?"
   ]
  },
  {
   "cell_type": "code",
   "execution_count": 7,
   "id": "13c86ae1",
   "metadata": {},
   "outputs": [
    {
     "data": {
      "text/plain": [
       "45"
      ]
     },
     "execution_count": 7,
     "metadata": {},
     "output_type": "execute_result"
    }
   ],
   "source": [
    "d = {'a':12,'b':15,'c':18}\n",
    "sum(d.values())"
   ]
  },
  {
   "cell_type": "markdown",
   "id": "ff497886",
   "metadata": {},
   "source": [
    "#### 3. Write a Python program to Merging two Dictionaries?"
   ]
  },
  {
   "cell_type": "code",
   "execution_count": 8,
   "id": "dd3e7ed9",
   "metadata": {},
   "outputs": [],
   "source": [
    "def Merge(dict1,dict2):\n",
    "    res = {**dict1,**dict2}\n",
    "    return res"
   ]
  },
  {
   "cell_type": "code",
   "execution_count": 9,
   "id": "ef44bdf9",
   "metadata": {},
   "outputs": [
    {
     "data": {
      "text/plain": [
       "{'a': 10, 'b': 8, 'd': 6, 'c': 4}"
      ]
     },
     "execution_count": 9,
     "metadata": {},
     "output_type": "execute_result"
    }
   ],
   "source": [
    "dict1 = dict1 = {'a': 10, 'b': 8}\n",
    "dict2 = {'d': 6, 'c': 4}\n",
    "dict3 = Merge(dict1, dict2)\n",
    "dict3"
   ]
  },
  {
   "cell_type": "markdown",
   "id": "b4a82961",
   "metadata": {},
   "source": [
    "#### 4. Write a Python program to convert key-values list to flat dictionary?"
   ]
  },
  {
   "cell_type": "code",
   "execution_count": 4,
   "id": "dcea07a9",
   "metadata": {},
   "outputs": [
    {
     "name": "stdout",
     "output_type": "stream",
     "text": [
      "{1: 'Jan', 2: 'Feb', 3: 'March'}\n"
     ]
    }
   ],
   "source": [
    "d = {'month':[1,2,3], 'name':['Jan','Feb','March']}\n",
    "res = dict(zip(d['month'],d['name']))\n",
    "print(res)"
   ]
  },
  {
   "cell_type": "markdown",
   "id": "94c102ac",
   "metadata": {},
   "source": [
    "#### 5. Write a Python program to insertion at the beginning in OrderedDict?"
   ]
  },
  {
   "cell_type": "code",
   "execution_count": 5,
   "id": "bb98edd3",
   "metadata": {},
   "outputs": [
    {
     "name": "stdout",
     "output_type": "stream",
     "text": [
      "Final Dictinary : OrderedDict([('Vijaya', '3'), ('Akshay', '1'), ('Sudhir', '1')])\n"
     ]
    }
   ],
   "source": [
    "from collections import OrderedDict\n",
    "\n",
    "inordered_dict = OrderedDict([('Akshay','1'),('Sudhir','1')])\n",
    "inordered_dict.update({'Vijaya':'3'})\n",
    "inordered_dict.move_to_end('Vijaya',last=False)                       \n",
    "print(\"Final Dictinary : \" + str(inordered_dict))"
   ]
  },
  {
   "cell_type": "markdown",
   "id": "dbf99342",
   "metadata": {},
   "source": [
    "#### 6. Write a Python program to check order of character in string using OrderedDict()?"
   ]
  },
  {
   "cell_type": "code",
   "execution_count": 7,
   "id": "112f74ff",
   "metadata": {},
   "outputs": [],
   "source": [
    "from collections import OrderedDict\n",
    "\n",
    "def checkorder(input,pattern):\n",
    "    dict = OrderedDict.fromkeys(input)\n",
    "    ptrlen = 0\n",
    "    for key,value in dict.items():\n",
    "        if key == pattern[ptrlen]:\n",
    "            ptrlen = ptrlen + 1\n",
    "        if ptrlen == len(pattern):\n",
    "            return True\n",
    "    return False"
   ]
  },
  {
   "cell_type": "code",
   "execution_count": 10,
   "id": "46db15ae",
   "metadata": {},
   "outputs": [
    {
     "name": "stdout",
     "output_type": "stream",
     "text": [
      "True\n"
     ]
    }
   ],
   "source": [
    "if __name__ == \"__main__\":\n",
    "    \n",
    "    input = \"Sunny rock\"\n",
    "    pattern = \"ck\"\n",
    "    print(checkorder(input,pattern))"
   ]
  },
  {
   "cell_type": "markdown",
   "id": "5571b624",
   "metadata": {},
   "source": [
    "#### 7. Write a Python program to sort Python Dictionaries by Key or Value?"
   ]
  },
  {
   "cell_type": "code",
   "execution_count": 11,
   "id": "2478192f",
   "metadata": {},
   "outputs": [
    {
     "name": "stdout",
     "output_type": "stream",
     "text": [
      "{'Akshay': 10, 'Ramchandra': 9, 'Sidhir': 12, 'Vijaya': 11}\n"
     ]
    }
   ],
   "source": [
    "Dict = {'Akshay':10,\"Sidhir\":12,\"Vijaya\":11,\"Ramchandra\":9}\n",
    "keys = list(Dict.keys())\n",
    "keys.sort()\n",
    "Final_Dict = {i:Dict[i] for i in keys}\n",
    "print(Final_Dict)"
   ]
  }
 ],
 "metadata": {
  "kernelspec": {
   "display_name": "Python 3 (ipykernel)",
   "language": "python",
   "name": "python3"
  },
  "language_info": {
   "codemirror_mode": {
    "name": "ipython",
    "version": 3
   },
   "file_extension": ".py",
   "mimetype": "text/x-python",
   "name": "python",
   "nbconvert_exporter": "python",
   "pygments_lexer": "ipython3",
   "version": "3.9.13"
  }
 },
 "nbformat": 4,
 "nbformat_minor": 5
}
