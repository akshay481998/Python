{
 "cells": [
  {
   "cell_type": "markdown",
   "id": "76a03a76",
   "metadata": {},
   "source": [
    "#### 1. Write a Python program to find words which are greater than given length k?"
   ]
  },
  {
   "cell_type": "code",
   "execution_count": 1,
   "id": "bfb8e6e7",
   "metadata": {},
   "outputs": [],
   "source": [
    "def string_k(k,str):\n",
    "    string = []\n",
    "    text = str.split(\" \")\n",
    "    for x in text:\n",
    "        if len(x) > k:\n",
    "            string.append(x)\n",
    "    return string"
   ]
  },
  {
   "cell_type": "code",
   "execution_count": 2,
   "id": "dd2ba783",
   "metadata": {},
   "outputs": [
    {
     "data": {
      "text/plain": [
       "['Hello', 'Akshay,']"
      ]
     },
     "execution_count": 2,
     "metadata": {},
     "output_type": "execute_result"
    }
   ],
   "source": [
    "string_k(4,\"Hello Akshay, Nice to meet you!\")"
   ]
  },
  {
   "cell_type": "markdown",
   "id": "d2d7070e",
   "metadata": {},
   "source": [
    "#### 2. Write a Python program for removing i-th character from a string?"
   ]
  },
  {
   "cell_type": "code",
   "execution_count": 3,
   "id": "79b39f3d",
   "metadata": {},
   "outputs": [],
   "source": [
    "def remove(string,i):\n",
    "    for j in range(len(string)):\n",
    "        if j == i :\n",
    "            string = string.replace(string[i],\"\",1)\n",
    "    return string"
   ]
  },
  {
   "cell_type": "code",
   "execution_count": 4,
   "id": "7ae90fcf",
   "metadata": {},
   "outputs": [
    {
     "data": {
      "text/plain": [
       "'Aksay'"
      ]
     },
     "execution_count": 4,
     "metadata": {},
     "output_type": "execute_result"
    }
   ],
   "source": [
    "remove(\"Akshay\",3)"
   ]
  },
  {
   "cell_type": "markdown",
   "id": "ceca2b51",
   "metadata": {},
   "source": [
    "#### 3. Write a Python program to split and join a string?"
   ]
  },
  {
   "cell_type": "code",
   "execution_count": 5,
   "id": "aefd4676",
   "metadata": {},
   "outputs": [
    {
     "name": "stdout",
     "output_type": "stream",
     "text": [
      "['Hello,', 'nice', 'to', 'meet', 'you!']\n",
      "Hello,-nice-to-meet-you!\n"
     ]
    }
   ],
   "source": [
    "s = \"Hello, nice to meet you!\"\n",
    "print(s.split())\n",
    "print(\"-\".join(s.split()))"
   ]
  },
  {
   "cell_type": "markdown",
   "id": "9bca08fe",
   "metadata": {},
   "source": [
    "#### 4. Write a Python program to check if a given string is binary string or not?"
   ]
  },
  {
   "cell_type": "code",
   "execution_count": 6,
   "id": "93946648",
   "metadata": {},
   "outputs": [],
   "source": [
    "def check(string):\n",
    "    p = set(string)\n",
    "    s = {\"0\",\"1\"}\n",
    "    if s == p or p == {'0'} or p == {'1'}:\n",
    "        print(\"Yes\")\n",
    "    else:\n",
    "        print(\"No\")"
   ]
  },
  {
   "cell_type": "markdown",
   "id": "e1770ec5",
   "metadata": {},
   "source": [
    "#### 5. Write a Python program to find uncommon words from two Strings?"
   ]
  },
  {
   "cell_type": "code",
   "execution_count": 7,
   "id": "e5fdd37e",
   "metadata": {},
   "outputs": [],
   "source": [
    "def Uncommonwords(A,B):\n",
    "    A = A.split()\n",
    "    B = B.split()\n",
    "    x = []\n",
    "    for i in A:\n",
    "        if i not in B:\n",
    "            x.append(i)\n",
    "    for i in B:\n",
    "        if i not in A:\n",
    "            x.append(i)\n",
    "    x = list(set(x))\n",
    "    return x"
   ]
  },
  {
   "cell_type": "code",
   "execution_count": 10,
   "id": "d69fe50a",
   "metadata": {},
   "outputs": [
    {
     "data": {
      "text/plain": [
       "['Learn', 'smart,']"
      ]
     },
     "execution_count": 10,
     "metadata": {},
     "output_type": "execute_result"
    }
   ],
   "source": [
    "Uncommonwords(\"Try hard, work hard\",\"Learn smart, Try hard, work hard\")"
   ]
  },
  {
   "cell_type": "markdown",
   "id": "40f68095",
   "metadata": {},
   "source": [
    "#### 6. Write a Python program to find all duplicate characters in string?"
   ]
  },
  {
   "cell_type": "code",
   "execution_count": 11,
   "id": "a0285ad5",
   "metadata": {},
   "outputs": [],
   "source": [
    "def duplicate_char(input):\n",
    "    x = []\n",
    "    for i in input:\n",
    "        if i not in x and input.count(i)>1:\n",
    "            x.append(i)\n",
    "    print(\" \".join(x))"
   ]
  },
  {
   "cell_type": "code",
   "execution_count": 13,
   "id": "7eb78d2e",
   "metadata": {},
   "outputs": [
    {
     "name": "stdout",
     "output_type": "stream",
     "text": [
      "l\n"
     ]
    }
   ],
   "source": [
    "duplicate_char(\"Hello\")"
   ]
  },
  {
   "cell_type": "markdown",
   "id": "1eda601a",
   "metadata": {},
   "source": [
    "#### 7. Write a Python Program to check if a string contains any special character?"
   ]
  },
  {
   "cell_type": "code",
   "execution_count": 14,
   "id": "90317881",
   "metadata": {},
   "outputs": [],
   "source": [
    "import re\n",
    "def run(string):\n",
    "    regex = re.compile('[@_!#$%^&*()<>?/\\|}{~:]')\n",
    "    if regex.search(string) == None:\n",
    "        print(\"String is accepted\")\n",
    "    else:\n",
    "        print(\"String is not accepted\")"
   ]
  },
  {
   "cell_type": "code",
   "execution_count": 15,
   "id": "2f8d98cb",
   "metadata": {},
   "outputs": [
    {
     "name": "stdout",
     "output_type": "stream",
     "text": [
      "String is not accepted\n"
     ]
    }
   ],
   "source": [
    "run(\"@Akshay\")"
   ]
  }
 ],
 "metadata": {
  "kernelspec": {
   "display_name": "Python 3 (ipykernel)",
   "language": "python",
   "name": "python3"
  },
  "language_info": {
   "codemirror_mode": {
    "name": "ipython",
    "version": 3
   },
   "file_extension": ".py",
   "mimetype": "text/x-python",
   "name": "python",
   "nbconvert_exporter": "python",
   "pygments_lexer": "ipython3",
   "version": "3.9.13"
  }
 },
 "nbformat": 4,
 "nbformat_minor": 5
}
