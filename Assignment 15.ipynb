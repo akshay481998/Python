{
 "cells": [
  {
   "cell_type": "markdown",
   "id": "703fb8cc",
   "metadata": {},
   "source": [
    "#### 1) Please write a program using generator to print the numbers which can be divisible by 5 and 7 between 0 and n in comma separated form while n is input by console.\n",
    "- Example: If the following n is given as input to the program:100 Then, the output of the program should be: 0,35,70"
   ]
  },
  {
   "cell_type": "code",
   "execution_count": 2,
   "id": "fcf7a301",
   "metadata": {},
   "outputs": [
    {
     "name": "stdout",
     "output_type": "stream",
     "text": [
      "100\n",
      "0,35,70\n"
     ]
    }
   ],
   "source": [
    "# use yeild to produce next value in generator.\n",
    "\n",
    "def generator(n):\n",
    "    for i in range(n+1):\n",
    "        if i%35 == 0:      #5*7=35, if num is divisible by a and b then it is also divisible by a*b\n",
    "            yield i\n",
    "\n",
    "            \n",
    "n = int(input())\n",
    "resp = [str(i) for i in generator(n)]\n",
    "print(\",\".join(resp))"
   ]
  },
  {
   "cell_type": "markdown",
   "id": "ce17b98e",
   "metadata": {},
   "source": [
    "#### 2) Please write a program using generator to print the even numbers between 0 and n in comma separated form while n is input by console.\n",
    "- Example: If the following n is given as input to the program: 10\n",
    "- Then, the output of the program should be: 0,2,4,6,8,10"
   ]
  },
  {
   "cell_type": "code",
   "execution_count": 3,
   "id": "c66a2e80",
   "metadata": {},
   "outputs": [
    {
     "name": "stdout",
     "output_type": "stream",
     "text": [
      "10\n",
      "0,2,4,6,8,10\n"
     ]
    }
   ],
   "source": [
    "# use yield to produce next generator.\n",
    "\n",
    "def generator1(n):\n",
    "    for i in range(n+1):\n",
    "        if i%2 == 0:\n",
    "            yield i\n",
    "            \n",
    "n = int(input())            \n",
    "resp1 = [str(i) for i in generator1(n)]\n",
    "print(\",\".join(resp1))"
   ]
  },
  {
   "cell_type": "markdown",
   "id": "fd235043",
   "metadata": {},
   "source": [
    "#### Question 3:\n",
    "- The Fibonacci Sequence is computed based on the following formula:\n",
    "f(n)=0 if n=0  ||\n",
    "f(n)=1 if n=1  ||\n",
    "f(n)=f(n-1)+f(n-2) if n&gt;1\n",
    "- Please write a program using list comprehension to print the Fibonacci Sequence in comma separated form with a given n input by console.\n",
    "\n",
    "- Example:\n",
    "If the following n is given as input to the program:\n",
    "7\n",
    "\n",
    "- Then, the output of the program should be:\n",
    "0,1,1,2,3,5,8,13"
   ]
  },
  {
   "cell_type": "code",
   "execution_count": 4,
   "id": "d8cb644c",
   "metadata": {},
   "outputs": [
    {
     "name": "stdout",
     "output_type": "stream",
     "text": [
      "[0, 1, 1, 2, 3, 5, 8, 13]\n"
     ]
    }
   ],
   "source": [
    "def fibonacci(n):\n",
    "    if n == 0:\n",
    "        return [0]\n",
    "    if n == 1:\n",
    "        return [0,1]\n",
    "    sequence = [0,1]\n",
    "    a,b = 0,1\n",
    "    for x in range(2,n+1):\n",
    "        c = a+b\n",
    "        sequence.append(c)\n",
    "        a,b = b,c\n",
    "    return sequence\n",
    "\n",
    "print(fibonacci(7))"
   ]
  },
  {
   "cell_type": "markdown",
   "id": "a57efcb2",
   "metadata": {},
   "source": [
    "#### Question 4:\n",
    "Assuming that we have some email addresses in the &quot;username@companyname.com&quot; format,\n",
    "please write program to print the user name of a given email address. Both user names and\n",
    "company names are composed of letters only.\n",
    "\n",
    "- Example:\n",
    "If the following email address is given as input to the program:\n",
    "john@google.com\n",
    "Then, the output of the program should be:\n",
    "john"
   ]
  },
  {
   "cell_type": "code",
   "execution_count": 9,
   "id": "7e73d49e",
   "metadata": {},
   "outputs": [
    {
     "name": "stdout",
     "output_type": "stream",
     "text": [
      "['john']\n"
     ]
    }
   ],
   "source": [
    "import re\n",
    "\n",
    "email = \"john@google.com\"\n",
    "pattern = \"(\\w+)@\\w+.com\"\n",
    "ans = re.findall(pattern,email)\n",
    "print(ans)"
   ]
  },
  {
   "cell_type": "markdown",
   "id": "4dc3cf76",
   "metadata": {},
   "source": [
    "#### Question 5:\n",
    "Define a class named Shape and its subclass Square. The Square class has an init function\n",
    "which takes a length as argument. Both classes have a area function which can print the area\n",
    "of the shape where Shape&#39;s area is 0 by default."
   ]
  },
  {
   "cell_type": "code",
   "execution_count": 13,
   "id": "0b3647be",
   "metadata": {},
   "outputs": [
    {
     "name": "stdout",
     "output_type": "stream",
     "text": [
      "25\n",
      "0\n"
     ]
    }
   ],
   "source": [
    "class Shape(object):\n",
    "    def __init__(self):\n",
    "        pass\n",
    "    \n",
    "    def area(self):\n",
    "        return 0\n",
    "    \n",
    "class Square(Shape):\n",
    "    def __init__(self,length=0):\n",
    "        Shape.__init__(self)\n",
    "        self.length = length\n",
    "            \n",
    "    def area(self):\n",
    "        return self.length*self.length\n",
    "        \n",
    "Asqr = Square(5)\n",
    "print(Asqr.area()) # print 25 as given argument\n",
    "print(Square().area()) # print 0 by default"
   ]
  }
 ],
 "metadata": {
  "kernelspec": {
   "display_name": "Python 3 (ipykernel)",
   "language": "python",
   "name": "python3"
  },
  "language_info": {
   "codemirror_mode": {
    "name": "ipython",
    "version": 3
   },
   "file_extension": ".py",
   "mimetype": "text/x-python",
   "name": "python",
   "nbconvert_exporter": "python",
   "pygments_lexer": "ipython3",
   "version": "3.9.13"
  }
 },
 "nbformat": 4,
 "nbformat_minor": 5
}
