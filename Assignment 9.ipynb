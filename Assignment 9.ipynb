{
 "cells": [
  {
   "cell_type": "markdown",
   "id": "678da58b",
   "metadata": {},
   "source": [
    "#### 1) Write a Python program to check if the given number is a Disarium Number?"
   ]
  },
  {
   "cell_type": "code",
   "execution_count": 1,
   "id": "5dc22194",
   "metadata": {},
   "outputs": [],
   "source": [
    "import math \n",
    "\n",
    "def check(n):\n",
    "    count_digit = len(str(n))\n",
    "    sum = 0\n",
    "    x = n\n",
    "    while x!= 0:\n",
    "        r = x%10   #shifting to the last digit\n",
    "        sum = int(sum + math.pow(r,count_digit))\n",
    "        x=x//10\n",
    "        count_digit=count_digit-1\n",
    "    if sum == n:\n",
    "        print(\"Yes, this is a disarium number\")\n",
    "    else:\n",
    "        print(\"No, this is not a disarium number\")"
   ]
  },
  {
   "cell_type": "code",
   "execution_count": 2,
   "id": "891d7884",
   "metadata": {},
   "outputs": [
    {
     "name": "stdout",
     "output_type": "stream",
     "text": [
      "Yes, this is a disarium number\n"
     ]
    }
   ],
   "source": [
    "check(135)"
   ]
  },
  {
   "cell_type": "markdown",
   "id": "4433d00b",
   "metadata": {},
   "source": [
    "#### 2) Write a Python program to print all disarium numbers between 1 to 100?"
   ]
  },
  {
   "cell_type": "code",
   "execution_count": 3,
   "id": "52ad4ec6",
   "metadata": {},
   "outputs": [],
   "source": [
    "import math \n",
    "\n",
    "def check(n):\n",
    "    count_digit = len(str(n))\n",
    "    sum = 0\n",
    "    x = n\n",
    "    while x!= 0:\n",
    "        r = x%10   #shifting to the last digit\n",
    "        sum = int(sum + math.pow(r,count_digit))\n",
    "        x=x//10\n",
    "        count_digit=count_digit-1\n",
    "    if sum == n:\n",
    "        return n"
   ]
  },
  {
   "cell_type": "code",
   "execution_count": 4,
   "id": "4ab50853",
   "metadata": {},
   "outputs": [
    {
     "name": "stdout",
     "output_type": "stream",
     "text": [
      "1\n",
      "2\n",
      "3\n",
      "4\n",
      "5\n",
      "6\n",
      "7\n",
      "8\n",
      "9\n",
      "89\n"
     ]
    }
   ],
   "source": [
    "for i in range(1,100):\n",
    "    result = check(i)\n",
    "    if check(i) == i:\n",
    "        print(i)"
   ]
  },
  {
   "cell_type": "markdown",
   "id": "4c717540",
   "metadata": {},
   "source": [
    "#### 3) Write a Python program to check if the given number is Happy Number?"
   ]
  },
  {
   "cell_type": "code",
   "execution_count": 5,
   "id": "40d01396",
   "metadata": {},
   "outputs": [],
   "source": [
    "def is_happy_num(n):\n",
    "    past = set()\n",
    "    while n != 1:\n",
    "        n = sum(int(i)**2 for i in str(n))\n",
    "        if n in past:\n",
    "            return False\n",
    "        past.add(n)\n",
    "    return True"
   ]
  },
  {
   "cell_type": "code",
   "execution_count": 6,
   "id": "ee345b53",
   "metadata": {},
   "outputs": [
    {
     "data": {
      "text/plain": [
       "True"
      ]
     },
     "execution_count": 6,
     "metadata": {},
     "output_type": "execute_result"
    }
   ],
   "source": [
    "is_happy_num(7)"
   ]
  },
  {
   "cell_type": "markdown",
   "id": "211e8537",
   "metadata": {},
   "source": [
    "#### 4) Write a Python program to print all happy numbers between 1 and 100?"
   ]
  },
  {
   "cell_type": "code",
   "execution_count": 7,
   "id": "1e3afa97",
   "metadata": {},
   "outputs": [],
   "source": [
    "def is_happy_num(n):\n",
    "    past = set()\n",
    "    while n != 1:\n",
    "        n = sum(int(i)**2 for i in str(n))\n",
    "        if n in past:\n",
    "            return False\n",
    "        past.add(n)\n",
    "    return True"
   ]
  },
  {
   "cell_type": "code",
   "execution_count": 8,
   "id": "2c226b0e",
   "metadata": {},
   "outputs": [
    {
     "name": "stdout",
     "output_type": "stream",
     "text": [
      "[1, 7, 10, 13, 19, 23, 28, 31, 32, 44, 49, 68, 70, 79, 82, 86, 91, 94, 97, 100]\n"
     ]
    }
   ],
   "source": [
    "print([n for n in range(101) if is_happy_num(n)])"
   ]
  },
  {
   "cell_type": "markdown",
   "id": "7ac68cb7",
   "metadata": {},
   "source": [
    "#### 5) Write a Python program to determine whether the given number is a Harshad Number?"
   ]
  },
  {
   "cell_type": "code",
   "execution_count": 9,
   "id": "6e03ab7f",
   "metadata": {},
   "outputs": [],
   "source": [
    "def test(n):\n",
    "    if (n>0):\n",
    "        a = 0\n",
    "        b = n\n",
    "        while b > 0:\n",
    "            a = a +  b % 10\n",
    "            b = b // 10\n",
    "        return not n % a"
   ]
  },
  {
   "cell_type": "code",
   "execution_count": 10,
   "id": "25c3ddc4",
   "metadata": {},
   "outputs": [
    {
     "data": {
      "text/plain": [
       "True"
      ]
     },
     "execution_count": 10,
     "metadata": {},
     "output_type": "execute_result"
    }
   ],
   "source": [
    "test(18)"
   ]
  },
  {
   "cell_type": "markdown",
   "id": "e698c117",
   "metadata": {},
   "source": [
    "#### 6) Write a Python program to print all pronic numbers between 1 and 100?"
   ]
  },
  {
   "cell_type": "code",
   "execution_count": 13,
   "id": "fe08af7a",
   "metadata": {},
   "outputs": [],
   "source": [
    "def isPronicno(n):\n",
    "    flag = False\n",
    "    for j in range(n+1):\n",
    "        if j*(j-1) == n:\n",
    "            return n"
   ]
  },
  {
   "cell_type": "code",
   "execution_count": 14,
   "id": "ac8f2740",
   "metadata": {},
   "outputs": [
    {
     "data": {
      "text/plain": [
       "[2, 6, 12, 20, 30, 42, 56, 72, 90]"
      ]
     },
     "execution_count": 14,
     "metadata": {},
     "output_type": "execute_result"
    }
   ],
   "source": [
    "l = [n for n in range(101) if isPronicno(n)]\n",
    "l"
   ]
  }
 ],
 "metadata": {
  "kernelspec": {
   "display_name": "Python 3 (ipykernel)",
   "language": "python",
   "name": "python3"
  },
  "language_info": {
   "codemirror_mode": {
    "name": "ipython",
    "version": 3
   },
   "file_extension": ".py",
   "mimetype": "text/x-python",
   "name": "python",
   "nbconvert_exporter": "python",
   "pygments_lexer": "ipython3",
   "version": "3.9.13"
  }
 },
 "nbformat": 4,
 "nbformat_minor": 5
}
