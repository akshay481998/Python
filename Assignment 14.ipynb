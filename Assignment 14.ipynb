{
 "cells": [
  {
   "cell_type": "markdown",
   "id": "396f6960",
   "metadata": {},
   "source": [
    "#### Question 1:\n",
    "- Define a class with a generator which can iterate the numbers, which are divisible by 7, between a given range 0 and n."
   ]
  },
  {
   "cell_type": "code",
   "execution_count": 2,
   "id": "223deea4",
   "metadata": {},
   "outputs": [
    {
     "name": "stdout",
     "output_type": "stream",
     "text": [
      "Enter the Max : 100\n",
      "[0, 7, 14, 21, 28, 35, 42, 49, 56, 63, 70, 77, 84, 91, 98]\n"
     ]
    }
   ],
   "source": [
    "n = int(input(\"Enter the Max : \"))\n",
    "Divby7 = [i for i in range(0,n+1) if i%7 == 0]\n",
    "print(Divby7)"
   ]
  },
  {
   "cell_type": "code",
   "execution_count": 3,
   "id": "4769d4cd",
   "metadata": {},
   "outputs": [],
   "source": [
    "# Method 2\n",
    "\n",
    "def DivChecker(n):\n",
    "    for i in range(n+1):\n",
    "        if i%7 == 0:\n",
    "            value = True\n",
    "        else :\n",
    "            value = False\n",
    "        print(i,value)"
   ]
  },
  {
   "cell_type": "code",
   "execution_count": 6,
   "id": "8eb41c79",
   "metadata": {},
   "outputs": [
    {
     "name": "stdout",
     "output_type": "stream",
     "text": [
      "0 True\n",
      "1 False\n",
      "2 False\n",
      "3 False\n",
      "4 False\n",
      "5 False\n",
      "6 False\n",
      "7 True\n",
      "8 False\n",
      "9 False\n",
      "10 False\n"
     ]
    }
   ],
   "source": [
    "DivChecker(10)"
   ]
  },
  {
   "cell_type": "markdown",
   "id": "63c01b10",
   "metadata": {},
   "source": [
    "#### Question 2:\n",
    "- Write a program to compute the frequency of the words from the input. The output should output after sorting the key alphanumerically.\n",
    "- Suppose the following input is supplied to the program:\n",
    "- New to Python or choosing between Python 2 and Python 3? Read Python 2 or Python 3.\n",
    "- Then, the output should be:\n",
    "- 2:2\n",
    "- 3.:1\n",
    "- 3?:1\n",
    "- New:1\n",
    "- Python:5\n",
    "- Read:1\n",
    "- and:1\n",
    "- between:1\n",
    "- choosing:1\n",
    "- or:2\n",
    "- to:1"
   ]
  },
  {
   "cell_type": "code",
   "execution_count": 7,
   "id": "816fca27",
   "metadata": {},
   "outputs": [
    {
     "name": "stdout",
     "output_type": "stream",
     "text": [
      "New to Python or choosing between Python 2 and Python 3? Read Python 2 or Python 3.\n",
      "{'2': 2,\n",
      " '3.': 1,\n",
      " '3?': 1,\n",
      " 'New': 1,\n",
      " 'Python': 5,\n",
      " 'Read': 1,\n",
      " 'and': 1,\n",
      " 'between': 1,\n",
      " 'choosing': 1,\n",
      " 'or': 2,\n",
      " 'to': 1}\n"
     ]
    }
   ],
   "source": [
    "from pprint import pprint\n",
    "p = input().split()\n",
    "pprint({i:p.count(i) for i in p})"
   ]
  },
  {
   "cell_type": "markdown",
   "id": "3e3bd89d",
   "metadata": {},
   "source": [
    "#### Question 3:\n",
    "- Define a class Person and its two child classes: Male and Female. All classes have a method &quot;getGender&quot; which can print &quot;Male&quot; for Male class and &quot;Female&quot; for Female class."
   ]
  },
  {
   "cell_type": "code",
   "execution_count": 13,
   "id": "770f843f",
   "metadata": {},
   "outputs": [
    {
     "name": "stdout",
     "output_type": "stream",
     "text": [
      "Female\n",
      "Male\n"
     ]
    }
   ],
   "source": [
    "class Person(object):\n",
    "    def __init__(self):\n",
    "        self.gender = \"unknown\"\n",
    "\n",
    "    def getGender(self):\n",
    "        print(self.gender)\n",
    "\n",
    "class Male(Person):\n",
    "    def __init__(self):\n",
    "        self.gender = \"Male\"\n",
    "\n",
    "class Female(Person):\n",
    "    def __init__(self):\n",
    "        self.gender = \"Female\"\n",
    "\n",
    "swati = Female()\n",
    "akshay = Male()\n",
    "swati.getGender()\n",
    "akshay.getGender()"
   ]
  },
  {
   "cell_type": "markdown",
   "id": "d5b86c97",
   "metadata": {},
   "source": [
    "#### Question 4:\n",
    "- Please write a program to generate all sentences where subject is in [&quot;I&quot;, &quot;You&quot;] and verb is in [&quot;Play&quot;, &quot;Love&quot;] and the object is in [&quot;Hockey&quot;,&quot;Football&quot;]."
   ]
  },
  {
   "cell_type": "code",
   "execution_count": 15,
   "id": "180124f2",
   "metadata": {},
   "outputs": [
    {
     "name": "stdout",
     "output_type": "stream",
     "text": [
      "I Play Hockey\n",
      "I Play Football\n",
      "I Love Hockey\n",
      "I Love Football\n",
      "You Play Hockey\n",
      "You Play Football\n",
      "You Love Hockey\n",
      "You Love Football\n"
     ]
    }
   ],
   "source": [
    "subject = [\"I\", \"You\"] \n",
    "verb = [\"Play\", \"Love\"] \n",
    "obj =  [\"Hockey\",\"Football\"]\n",
    "\n",
    "sentence_list = [(sub+\" \"+vb+\" \"+ob) for sub in subject for vb in verb for ob in obj]\n",
    "\n",
    "for sentence in sentence_list:\n",
    "    print(sentence)"
   ]
  },
  {
   "cell_type": "markdown",
   "id": "47146334",
   "metadata": {},
   "source": [
    "#### Question 5:\n",
    "- Please write a program to compress and decompress the string &quot;hello world!hello world!hello world!hello world!&quot;."
   ]
  },
  {
   "cell_type": "code",
   "execution_count": 18,
   "id": "252f7357",
   "metadata": {},
   "outputs": [
    {
     "name": "stdout",
     "output_type": "stream",
     "text": [
      "b'x\\x9c\\xcbH\\xcd\\xc9\\xc9W(\\xcf/\\xcaIQ\\xcc \\x82\\r\\x00\\xbd[\\x11\\xf5'\n",
      "b'hello world!hello world!hello world!hello world!'\n"
     ]
    }
   ],
   "source": [
    "import zlib\n",
    "s =  \"hello world!hello world!hello world!hello world!\"\n",
    "# In Python 3 zlib.compress() accepts only DataType <bytes>\n",
    "s1 = bytes(s,'utf-8')\n",
    "t = zlib.compress(s1)\n",
    "print(t)\n",
    "print(zlib.decompress(t))"
   ]
  },
  {
   "cell_type": "markdown",
   "id": "7583de07",
   "metadata": {},
   "source": [
    "#### Question 6:\n",
    "- Please write a binary search function which searches an item in a sorted list. The function should return the index of element to be searched in the list."
   ]
  },
  {
   "cell_type": "code",
   "execution_count": 20,
   "id": "1902f589",
   "metadata": {},
   "outputs": [
    {
     "name": "stdout",
     "output_type": "stream",
     "text": [
      "None\n"
     ]
    }
   ],
   "source": [
    "def binary_search(lst, item):\n",
    "    low = 0\n",
    "    high = len(lst) - 1\n",
    "    \n",
    "    while low <= high:\n",
    "        mid = round((low + high) / 2)\n",
    "        \n",
    "        if lst[mid] == item:\n",
    "            return mid\n",
    "        elif lst[mid] > item:\n",
    "            high = mid - 1\n",
    "        else:\n",
    "            low = mid + 1\n",
    "    return None\n",
    "    \n",
    "lst = [1,3,5,7,]\n",
    "print(binary_search(lst, 9))   "
   ]
  },
  {
   "cell_type": "code",
   "execution_count": 21,
   "id": "3cbc1fbb",
   "metadata": {},
   "outputs": [
    {
     "name": "stdout",
     "output_type": "stream",
     "text": [
      "Array Length: 14\n",
      "Middle Value: 7\n",
      "Middle Value: 10\n",
      "The Value Found at Index: 10\n"
     ]
    }
   ],
   "source": [
    "def binary_search_Ascending(array, target):\n",
    "    lower = 0\n",
    "    upper = len(array)\n",
    "    print('Array Length:',upper)\n",
    "    while lower < upper:\n",
    "        x = (lower + upper) // 2\n",
    "        print('Middle Value:',x)\n",
    "        value = array[x]\n",
    "        if target == value:\n",
    "            return x\n",
    "        elif target > value:\n",
    "            lower = x\n",
    "        elif target < value:\n",
    "            upper = x\n",
    "\n",
    "Array = [1,5,8,10,12,13,55,66,73,78,82,85,88,99]\n",
    "print('The Value Found at Index:',binary_search_Ascending(Array, 82))\n"
   ]
  }
 ],
 "metadata": {
  "kernelspec": {
   "display_name": "Python 3 (ipykernel)",
   "language": "python",
   "name": "python3"
  },
  "language_info": {
   "codemirror_mode": {
    "name": "ipython",
    "version": 3
   },
   "file_extension": ".py",
   "mimetype": "text/x-python",
   "name": "python",
   "nbconvert_exporter": "python",
   "pygments_lexer": "ipython3",
   "version": "3.9.13"
  }
 },
 "nbformat": 4,
 "nbformat_minor": 5
}
