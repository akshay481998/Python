{
 "cells": [
  {
   "cell_type": "markdown",
   "id": "c40b4a9b",
   "metadata": {},
   "source": [
    "#### 1. To what does a relative path refer?"
   ]
  },
  {
   "cell_type": "markdown",
   "id": "f938094e",
   "metadata": {},
   "source": [
    "- Relative paths are relative to the current working directory"
   ]
  },
  {
   "cell_type": "markdown",
   "id": "ccb77b7c",
   "metadata": {},
   "source": [
    "#### 2. What does an absolute path start with your operating system?"
   ]
  },
  {
   "cell_type": "markdown",
   "id": "8306e66e",
   "metadata": {},
   "source": [
    "- Absolute paths start with the root folder, such as / or C:\\ ."
   ]
  },
  {
   "cell_type": "markdown",
   "id": "05ca4b0d",
   "metadata": {},
   "source": [
    "#### 3. What do the functions os.getcwd() and os.chdir() do?"
   ]
  },
  {
   "cell_type": "markdown",
   "id": "fb118612",
   "metadata": {},
   "source": [
    "- The os.getcwd() function returns the current working directory. The os.chdir() function changes the current working directory"
   ]
  },
  {
   "cell_type": "markdown",
   "id": "acf43bcc",
   "metadata": {},
   "source": [
    "#### 4. What are the . and .. folders?"
   ]
  },
  {
   "cell_type": "markdown",
   "id": "cbd54fdf",
   "metadata": {},
   "source": [
    "- The . folder is the current folder, and .. is the parent folder"
   ]
  },
  {
   "cell_type": "markdown",
   "id": "5e0693f4",
   "metadata": {},
   "source": [
    "#### 5. In C:\\bacon\\eggs\\spam.txt, which part is the dir name, and which part is the base name?"
   ]
  },
  {
   "cell_type": "markdown",
   "id": "d3bf628b",
   "metadata": {},
   "source": [
    "- C:\\bacon\\eggs is the dir name, while spam.txt is the base name."
   ]
  },
  {
   "cell_type": "markdown",
   "id": "5f159d00",
   "metadata": {},
   "source": [
    "#### 6. What are the three “mode” arguments that can be passed to the open() function?"
   ]
  },
  {
   "cell_type": "markdown",
   "id": "76a25121",
   "metadata": {},
   "source": [
    "- The string 'r' for read mode, 'w' for write mode, and 'a' for append mode."
   ]
  },
  {
   "cell_type": "markdown",
   "id": "cf1992fc",
   "metadata": {},
   "source": [
    "#### 7. What happens if an existing file is opened in write mode?"
   ]
  },
  {
   "cell_type": "markdown",
   "id": "c3e5596b",
   "metadata": {},
   "source": [
    "- An existing file opened in write mode is erased and completely overwritten."
   ]
  },
  {
   "cell_type": "markdown",
   "id": "424c07b1",
   "metadata": {},
   "source": [
    "#### 8. How do you tell the difference between read() and readlines()?"
   ]
  },
  {
   "cell_type": "markdown",
   "id": "9f6d8472",
   "metadata": {},
   "source": [
    "- The read() method returns the file’s entire contents as a single string value. The readlines() method returns a list of strings, where each string is a line from the file’s contents."
   ]
  },
  {
   "cell_type": "markdown",
   "id": "074a3df2",
   "metadata": {},
   "source": [
    "#### 9. What data structure does a shelf value resemble?"
   ]
  },
  {
   "cell_type": "markdown",
   "id": "12aa808b",
   "metadata": {},
   "source": [
    "- A shelf value resembles a dictionary value; it has keys and values, along with keys() and values() methods that work similarly to the dictionary methods of the same names."
   ]
  }
 ],
 "metadata": {
  "kernelspec": {
   "display_name": "Python 3 (ipykernel)",
   "language": "python",
   "name": "python3"
  },
  "language_info": {
   "codemirror_mode": {
    "name": "ipython",
    "version": 3
   },
   "file_extension": ".py",
   "mimetype": "text/x-python",
   "name": "python",
   "nbconvert_exporter": "python",
   "pygments_lexer": "ipython3",
   "version": "3.9.13"
  }
 },
 "nbformat": 4,
 "nbformat_minor": 5
}
