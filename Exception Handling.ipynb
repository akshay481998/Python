{
 "cells": [
  {
   "cell_type": "code",
   "execution_count": 1,
   "id": "696ca238",
   "metadata": {},
   "outputs": [
    {
     "ename": "ZeroDivisionError",
     "evalue": "division by zero",
     "output_type": "error",
     "traceback": [
      "\u001b[1;31m---------------------------------------------------------------------------\u001b[0m",
      "\u001b[1;31mZeroDivisionError\u001b[0m                         Traceback (most recent call last)",
      "\u001b[1;32mC:\\Users\\ADMINI~1.UPT\\AppData\\Local\\Temp/ipykernel_856/532118508.py\u001b[0m in \u001b[0;36m<module>\u001b[1;34m\u001b[0m\n\u001b[0;32m      1\u001b[0m \u001b[0ma\u001b[0m \u001b[1;33m=\u001b[0m \u001b[1;36m10\u001b[0m\u001b[1;33m\u001b[0m\u001b[1;33m\u001b[0m\u001b[0m\n\u001b[1;32m----> 2\u001b[1;33m \u001b[0ma\u001b[0m\u001b[1;33m/\u001b[0m\u001b[1;36m0\u001b[0m\u001b[1;33m\u001b[0m\u001b[1;33m\u001b[0m\u001b[0m\n\u001b[0m",
      "\u001b[1;31mZeroDivisionError\u001b[0m: division by zero"
     ]
    }
   ],
   "source": [
    "a = 10\n",
    "a/0"
   ]
  },
  {
   "cell_type": "code",
   "execution_count": 2,
   "id": "0cc86ecd",
   "metadata": {},
   "outputs": [
    {
     "ename": "FileNotFoundError",
     "evalue": "[Errno 2] No such file or directory: 'sudh345.txt'",
     "output_type": "error",
     "traceback": [
      "\u001b[1;31m---------------------------------------------------------------------------\u001b[0m",
      "\u001b[1;31mFileNotFoundError\u001b[0m                         Traceback (most recent call last)",
      "\u001b[1;32mC:\\Users\\ADMINI~1.UPT\\AppData\\Local\\Temp/ipykernel_856/2986943750.py\u001b[0m in \u001b[0;36m<module>\u001b[1;34m\u001b[0m\n\u001b[1;32m----> 1\u001b[1;33m \u001b[0mf\u001b[0m \u001b[1;33m=\u001b[0m \u001b[0mopen\u001b[0m\u001b[1;33m(\u001b[0m\u001b[1;34m\"sudh345.txt\"\u001b[0m\u001b[1;33m,\u001b[0m \u001b[1;34m\"r\"\u001b[0m\u001b[1;33m)\u001b[0m\u001b[1;33m\u001b[0m\u001b[1;33m\u001b[0m\u001b[0m\n\u001b[0m",
      "\u001b[1;31mFileNotFoundError\u001b[0m: [Errno 2] No such file or directory: 'sudh345.txt'"
     ]
    }
   ],
   "source": [
    "f = open(\"sudh345.txt\", \"r\")\n",
    "print(\"This is my code to handle an exception\")"
   ]
  },
  {
   "cell_type": "code",
   "execution_count": 8,
   "id": "f71ffc44",
   "metadata": {},
   "outputs": [
    {
     "name": "stdout",
     "output_type": "stream",
     "text": [
      "division by zero\n",
      "This will be my final exception handling code\n"
     ]
    }
   ],
   "source": [
    "try :\n",
    "    a = 10\n",
    "    a/0\n",
    "except Exception as e :\n",
    "    print(e)\n",
    "    print(\"This will be my final exception handling code\")"
   ]
  },
  {
   "cell_type": "code",
   "execution_count": 10,
   "id": "c1b9e5a4",
   "metadata": {},
   "outputs": [
    {
     "name": "stdout",
     "output_type": "stream",
     "text": [
      "1.0\n"
     ]
    }
   ],
   "source": [
    "try :\n",
    "    a = 10\n",
    "    print(a/10)\n",
    "except Exception as e :\n",
    "    print(e)\n",
    "    print(\"This will be my final exception handling code\")"
   ]
  },
  {
   "cell_type": "code",
   "execution_count": 11,
   "id": "fcf947a8",
   "metadata": {},
   "outputs": [
    {
     "name": "stdout",
     "output_type": "stream",
     "text": [
      "[Errno 2] No such file or directory: 'sudhanshu.txt'\n"
     ]
    }
   ],
   "source": [
    "try :\n",
    "    open(\"sudhanshu.txt\",\"r\")\n",
    "except Exception as e :\n",
    "    print(e)"
   ]
  },
  {
   "cell_type": "code",
   "execution_count": 12,
   "id": "7200d4c2",
   "metadata": {},
   "outputs": [
    {
     "ename": "FileNotFoundError",
     "evalue": "[Errno 2] No such file or directory: 'sudh.txt'",
     "output_type": "error",
     "traceback": [
      "\u001b[1;31m---------------------------------------------------------------------------\u001b[0m",
      "\u001b[1;31mFileNotFoundError\u001b[0m                         Traceback (most recent call last)",
      "\u001b[1;32mC:\\Users\\ADMINI~1.UPT\\AppData\\Local\\Temp/ipykernel_856/560056139.py\u001b[0m in \u001b[0;36m<module>\u001b[1;34m\u001b[0m\n\u001b[1;32m----> 1\u001b[1;33m \u001b[0mf\u001b[0m \u001b[1;33m=\u001b[0m \u001b[0mopen\u001b[0m\u001b[1;33m(\u001b[0m\u001b[1;34m\"sudh.txt\"\u001b[0m\u001b[1;33m,\u001b[0m\u001b[1;34m\"r\"\u001b[0m\u001b[1;33m)\u001b[0m\u001b[1;33m\u001b[0m\u001b[1;33m\u001b[0m\u001b[0m\n\u001b[0m\u001b[0;32m      2\u001b[0m \u001b[0mf\u001b[0m\u001b[1;33m.\u001b[0m\u001b[0mwrite\u001b[0m\u001b[1;33m(\u001b[0m\u001b[1;34m\"This is my suspicious code\"\u001b[0m\u001b[1;33m)\u001b[0m\u001b[1;33m\u001b[0m\u001b[1;33m\u001b[0m\u001b[0m\n",
      "\u001b[1;31mFileNotFoundError\u001b[0m: [Errno 2] No such file or directory: 'sudh.txt'"
     ]
    }
   ],
   "source": [
    "f = open(\"sudh.txt\",\"r\")\n",
    "f.write(\"This is my suspicious code\")"
   ]
  },
  {
   "cell_type": "code",
   "execution_count": 13,
   "id": "c0dba16c",
   "metadata": {},
   "outputs": [
    {
     "name": "stdout",
     "output_type": "stream",
     "text": [
      "[Errno 2] No such file or directory: 'sudh.txt'\n",
      "This is not my suspicious code\n"
     ]
    }
   ],
   "source": [
    "try :\n",
    "    f = open(\"sudh.txt\",\"r\")\n",
    "    f.write(\"This is my suspicious code\")\n",
    "except Exception as e :\n",
    "    print(e)\n",
    "    print(\"This is not my suspicious code\")\n",
    "    "
   ]
  },
  {
   "cell_type": "code",
   "execution_count": 14,
   "id": "3a90d3f9",
   "metadata": {},
   "outputs": [
    {
     "name": "stdout",
     "output_type": "stream",
     "text": [
      "[Errno 2] No such file or directory: 'sudh.txt'\n",
      "This is not my suspicious code\n",
      "This block will be executed anytime\n"
     ]
    }
   ],
   "source": [
    "try :\n",
    "    f = open(\"sudh.txt\",\"r\")\n",
    "    f.write(\"This is my suspicious code\")\n",
    "except Exception as e :\n",
    "    print(e)\n",
    "    print(\"This is not my suspicious code\")\n",
    "finally :\n",
    "    print(\"This block will be executed anytime\")"
   ]
  },
  {
   "cell_type": "code",
   "execution_count": 1,
   "id": "1c670a0e",
   "metadata": {},
   "outputs": [],
   "source": [
    "def askint() :\n",
    "    try :\n",
    "        val = int(input(\"Please inter an integer\"))\n",
    "    except :\n",
    "        print(\"No you have not entered integer\")\n",
    "        try :\n",
    "            val = int(input(\"Please inter an integer\"))\n",
    "        except :\n",
    "            print(\"No you have not entered integer\")    \n",
    "    finally :\n",
    "        print(\"finally will be executed anyhow\")\n",
    "        "
   ]
  },
  {
   "cell_type": "code",
   "execution_count": 2,
   "id": "badacf4b",
   "metadata": {},
   "outputs": [
    {
     "name": "stdout",
     "output_type": "stream",
     "text": [
      "Please inter an integershdhdhhd\n",
      "No you have not entered integer\n",
      "Please inter an integerdgdhfdjhfj\n",
      "No you have not entered integer\n",
      "finally will be executed anyhow\n"
     ]
    }
   ],
   "source": [
    "askint()"
   ]
  },
  {
   "cell_type": "code",
   "execution_count": 3,
   "id": "fa521da5",
   "metadata": {},
   "outputs": [],
   "source": [
    "def askint1() :\n",
    "    while True :\n",
    "        try :\n",
    "            val = int(input(\"Please try to input integer\"))\n",
    "            break\n",
    "        except :\n",
    "            print(\"Looks like you have not entered an integer\")\n",
    "            continue"
   ]
  },
  {
   "cell_type": "code",
   "execution_count": 4,
   "id": "77634dfc",
   "metadata": {},
   "outputs": [
    {
     "name": "stdout",
     "output_type": "stream",
     "text": [
      "Please try to input integerdggfhfghfh\n",
      "Looks like you have not entered an integer\n",
      "Please try to input integer6565555445%%%%6/\n",
      "Looks like you have not entered an integer\n",
      "Please try to input integer246484848\n"
     ]
    }
   ],
   "source": [
    "askint1()"
   ]
  },
  {
   "cell_type": "code",
   "execution_count": null,
   "id": "9dd146b3",
   "metadata": {},
   "outputs": [],
   "source": []
  }
 ],
 "metadata": {
  "kernelspec": {
   "display_name": "Python 3 (ipykernel)",
   "language": "python",
   "name": "python3"
  },
  "language_info": {
   "codemirror_mode": {
    "name": "ipython",
    "version": 3
   },
   "file_extension": ".py",
   "mimetype": "text/x-python",
   "name": "python",
   "nbconvert_exporter": "python",
   "pygments_lexer": "ipython3",
   "version": "3.9.7"
  }
 },
 "nbformat": 4,
 "nbformat_minor": 5
}
