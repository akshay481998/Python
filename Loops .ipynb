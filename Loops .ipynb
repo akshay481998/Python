{
 "cells": [
  {
   "cell_type": "code",
   "execution_count": 2,
   "id": "16492b45",
   "metadata": {},
   "outputs": [
    {
     "name": "stdout",
     "output_type": "stream",
     "text": [
      "This is my first condition\n"
     ]
    }
   ],
   "source": [
    "a = 10\n",
    "if a == 10 :\n",
    "    print(\"This is my first condition\")"
   ]
  },
  {
   "cell_type": "code",
   "execution_count": 3,
   "id": "8a99e5dd",
   "metadata": {},
   "outputs": [],
   "source": [
    "a = 10\n",
    "if a == 11 :\n",
    "    print(\"This is my first condition\")"
   ]
  },
  {
   "cell_type": "code",
   "execution_count": 4,
   "id": "123b0e49",
   "metadata": {},
   "outputs": [
    {
     "name": "stdout",
     "output_type": "stream",
     "text": [
      "Otherwise do this\n"
     ]
    }
   ],
   "source": [
    "a = 10\n",
    "if a == 11 :\n",
    "    print(\"This is my first condition\")\n",
    "else :\n",
    "    print(\"Otherwise do this\")"
   ]
  },
  {
   "cell_type": "code",
   "execution_count": 5,
   "id": "997a9bfa",
   "metadata": {},
   "outputs": [],
   "source": [
    "a = 10\n",
    "if a > 5:\n",
    "    pass"
   ]
  },
  {
   "cell_type": "code",
   "execution_count": 6,
   "id": "f7527d26",
   "metadata": {},
   "outputs": [
    {
     "name": "stdout",
     "output_type": "stream",
     "text": [
      "print this if condition is true\n"
     ]
    }
   ],
   "source": [
    "a = 10\n",
    "if a > 8 :\n",
    "    print(\"print this if condition is true\")"
   ]
  },
  {
   "cell_type": "code",
   "execution_count": 7,
   "id": "82ed8c18",
   "metadata": {},
   "outputs": [
    {
     "name": "stdout",
     "output_type": "stream",
     "text": [
      "print this\n"
     ]
    }
   ],
   "source": [
    "a = 10\n",
    "if a == 11 :\n",
    "    print(\"my condition is true\")\n",
    "else :\n",
    "    print(\"print this\")"
   ]
  },
  {
   "cell_type": "code",
   "execution_count": 8,
   "id": "0dedb134",
   "metadata": {},
   "outputs": [
    {
     "name": "stdout",
     "output_type": "stream",
     "text": [
      "If all bocks are fail then do this\n"
     ]
    }
   ],
   "source": [
    "a = 10\n",
    "if a == 12 :\n",
    "    print(\"We are trying to compare 10 with 12\")\n",
    "elif a == 11:\n",
    "    print(\"We are tryong to compaer 10 with 11\")\n",
    "else :\n",
    "    print(\"If all bocks are fail then do this\")"
   ]
  },
  {
   "cell_type": "code",
   "execution_count": 9,
   "id": "d1738461",
   "metadata": {},
   "outputs": [
    {
     "name": "stdout",
     "output_type": "stream",
     "text": [
      "We are tryong to compaer 10 with 10\n"
     ]
    }
   ],
   "source": [
    "a = 10\n",
    "if a == 12 :\n",
    "    print(\"We are trying to compare 10 with 12\")\n",
    "elif a == 10:\n",
    "    print(\"We are tryong to compaer 10 with 10\")\n",
    "else :\n",
    "    print(\"If all bocks are fail then do this\")"
   ]
  },
  {
   "cell_type": "code",
   "execution_count": 10,
   "id": "9e812f9b",
   "metadata": {},
   "outputs": [
    {
     "name": "stdout",
     "output_type": "stream",
     "text": [
      "We are trying to compare 10 with 12\n"
     ]
    }
   ],
   "source": [
    "a = 10\n",
    "if a == 10 :\n",
    "    print(\"We are trying to compare 10 with 12\")\n",
    "elif a == 10:\n",
    "    print(\"We are tryong to compaer 10 with 11\")\n",
    "else :\n",
    "    print(\"If all bocks are fail then do this\")"
   ]
  },
  {
   "cell_type": "code",
   "execution_count": 11,
   "id": "1e241d51",
   "metadata": {},
   "outputs": [
    {
     "name": "stdout",
     "output_type": "stream",
     "text": [
      "For sure I will able to buy it\n"
     ]
    }
   ],
   "source": [
    "price = 500\n",
    "if price > 500 :\n",
    "    print(\"May be I won't be able to buy a jacket\")\n",
    "elif price < 500 :\n",
    "    print(\"I will be able to buy a Jacket\")\n",
    "elif price == 500 :\n",
    "    print(\"For sure I will able to buy it\")\n",
    "else :\n",
    "    print(\"I don't know\")\n"
   ]
  },
  {
   "cell_type": "code",
   "execution_count": 12,
   "id": "1a945b78",
   "metadata": {},
   "outputs": [
    {
     "data": {
      "text/plain": [
       "False"
      ]
     },
     "execution_count": 12,
     "metadata": {},
     "output_type": "execute_result"
    }
   ],
   "source": [
    "price > 500"
   ]
  },
  {
   "cell_type": "code",
   "execution_count": 13,
   "id": "2aedbd56",
   "metadata": {},
   "outputs": [
    {
     "data": {
      "text/plain": [
       "False"
      ]
     },
     "execution_count": 13,
     "metadata": {},
     "output_type": "execute_result"
    }
   ],
   "source": [
    "price < 500"
   ]
  },
  {
   "cell_type": "code",
   "execution_count": 14,
   "id": "9f2c1e45",
   "metadata": {},
   "outputs": [
    {
     "data": {
      "text/plain": [
       "True"
      ]
     },
     "execution_count": 14,
     "metadata": {},
     "output_type": "execute_result"
    }
   ],
   "source": [
    "price == 500"
   ]
  },
  {
   "cell_type": "code",
   "execution_count": 15,
   "id": "f45bd7e7",
   "metadata": {},
   "outputs": [
    {
     "data": {
      "text/plain": [
       "True"
      ]
     },
     "execution_count": 15,
     "metadata": {},
     "output_type": "execute_result"
    }
   ],
   "source": [
    "l = [1,2,3,4,5,6]\n",
    "2 in l"
   ]
  },
  {
   "cell_type": "code",
   "execution_count": 16,
   "id": "fb7d93c0",
   "metadata": {},
   "outputs": [
    {
     "name": "stdout",
     "output_type": "stream",
     "text": [
      "Try to perform task\n"
     ]
    }
   ],
   "source": [
    "if 2 in l :\n",
    "    print(\"Try to perform task\")\n",
    "else :\n",
    "    print(\"Do not perfomr task\")"
   ]
  },
  {
   "cell_type": "code",
   "execution_count": 17,
   "id": "f5e615be",
   "metadata": {},
   "outputs": [
    {
     "name": "stdout",
     "output_type": "stream",
     "text": [
      "Do not perfomr task\n"
     ]
    }
   ],
   "source": [
    "if 60 in l :\n",
    "    print(\"Try to perform task\")\n",
    "else :\n",
    "    print(\"Do not perfomr task\")"
   ]
  },
  {
   "cell_type": "code",
   "execution_count": 18,
   "id": "1ce8e3e8",
   "metadata": {},
   "outputs": [
    {
     "data": {
      "text/plain": [
       "False"
      ]
     },
     "execution_count": 18,
     "metadata": {},
     "output_type": "execute_result"
    }
   ],
   "source": [
    "60 in l"
   ]
  },
  {
   "cell_type": "code",
   "execution_count": 20,
   "id": "57b65e1b",
   "metadata": {},
   "outputs": [
    {
     "name": "stdout",
     "output_type": "stream",
     "text": [
      "Try to do sub\n"
     ]
    }
   ],
   "source": [
    "if 10 in l :\n",
    "    print(\"Try to do an additoion\")\n",
    "elif 2 in l :\n",
    "    print(\"Try to do sub\")\n",
    "elif 3 in l :\n",
    "    print(\"try to do multiplication\")"
   ]
  },
  {
   "cell_type": "code",
   "execution_count": null,
   "id": "310776f6",
   "metadata": {},
   "outputs": [],
   "source": [
    "#It will check first condition and if it is true then it won't be do the next thing"
   ]
  },
  {
   "cell_type": "code",
   "execution_count": 21,
   "id": "ba88e313",
   "metadata": {},
   "outputs": [
    {
     "name": "stdout",
     "output_type": "stream",
     "text": [
      "Try to do sub\n",
      "This is new statement\n"
     ]
    }
   ],
   "source": [
    "if 10 in l :\n",
    "    print(\"Try to do an additoion\")\n",
    "elif 2 in l :\n",
    "    print(\"Try to do sub\")\n",
    "elif 3 in l :\n",
    "    print(\"try to do multiplication\")\n",
    "if 4 in l :\n",
    "    print(\"This is new statement\")"
   ]
  },
  {
   "cell_type": "code",
   "execution_count": 22,
   "id": "57d3b6f2",
   "metadata": {},
   "outputs": [],
   "source": [
    "# Here the last if is completely treated as new block."
   ]
  },
  {
   "cell_type": "code",
   "execution_count": 23,
   "id": "b8ccd75d",
   "metadata": {},
   "outputs": [],
   "source": [
    "a = 400"
   ]
  },
  {
   "cell_type": "code",
   "execution_count": 1,
   "id": "434188ab",
   "metadata": {},
   "outputs": [
    {
     "name": "stdout",
     "output_type": "stream",
     "text": [
      "345\n"
     ]
    }
   ],
   "source": [
    "b = int(input())"
   ]
  },
  {
   "cell_type": "code",
   "execution_count": 2,
   "id": "d83de99c",
   "metadata": {},
   "outputs": [
    {
     "data": {
      "text/plain": [
       "345"
      ]
     },
     "execution_count": 2,
     "metadata": {},
     "output_type": "execute_result"
    }
   ],
   "source": [
    "b"
   ]
  },
  {
   "cell_type": "code",
   "execution_count": 3,
   "id": "fcbb10e4",
   "metadata": {},
   "outputs": [
    {
     "data": {
      "text/plain": [
       "int"
      ]
     },
     "execution_count": 3,
     "metadata": {},
     "output_type": "execute_result"
    }
   ],
   "source": [
    "type(b)"
   ]
  },
  {
   "cell_type": "code",
   "execution_count": 6,
   "id": "16dbfdf6",
   "metadata": {},
   "outputs": [
    {
     "name": "stdout",
     "output_type": "stream",
     "text": [
      "600\n",
      "I won't be able to buy anything with this price tag\n"
     ]
    }
   ],
   "source": [
    "price = int(input())\n",
    "if price < 500 :\n",
    "    print(\"I will be able to buy something\")\n",
    "    if price < 400 :\n",
    "        print(\"I will be able to buy jacket\")\n",
    "    elif price < 300 :\n",
    "        print(\"I will be able to buy a shirt\")\n",
    "    else :\n",
    "        print(\"I won't be able to buy anything\")\n",
    "else :\n",
    "    print(\"I won't be able to buy anything with this price tag\")"
   ]
  },
  {
   "cell_type": "code",
   "execution_count": 7,
   "id": "df3d950e",
   "metadata": {},
   "outputs": [
    {
     "name": "stdout",
     "output_type": "stream",
     "text": [
      "500\n",
      "I won't be able to buy anything with this price tag\n"
     ]
    }
   ],
   "source": [
    "price = int(input())\n",
    "if price < 500 :\n",
    "    print(\"I will be able to buy something\")\n",
    "    if price < 400 :\n",
    "        print(\"I will be able to buy jacket\")\n",
    "    elif price < 300 :\n",
    "        print(\"I will be able to buy a shirt\")\n",
    "    else :\n",
    "        print(\"I won't be able to buy anything\")\n",
    "else :\n",
    "    print(\"I won't be able to buy anything with this price tag\")"
   ]
  },
  {
   "cell_type": "code",
   "execution_count": 8,
   "id": "92b8a2a8",
   "metadata": {},
   "outputs": [
    {
     "name": "stdout",
     "output_type": "stream",
     "text": [
      "490\n",
      "I will be able to buy something\n",
      "I won't be able to buy anything\n"
     ]
    }
   ],
   "source": [
    "price = int(input())\n",
    "if price < 500 :\n",
    "    print(\"I will be able to buy something\")\n",
    "    if price < 400 :\n",
    "        print(\"I will be able to buy jacket\")\n",
    "    elif price < 300 :\n",
    "        print(\"I will be able to buy a shirt\")\n",
    "    else :\n",
    "        print(\"I won't be able to buy anything\")\n",
    "else :\n",
    "    print(\"I won't be able to buy anything with this price tag\")"
   ]
  },
  {
   "cell_type": "code",
   "execution_count": 9,
   "id": "0728bd27",
   "metadata": {},
   "outputs": [
    {
     "name": "stdout",
     "output_type": "stream",
     "text": [
      "300\n",
      "I will be able to buy something\n",
      "I will be able to buy jacket\n"
     ]
    }
   ],
   "source": [
    "price = int(input())\n",
    "if price < 500 :\n",
    "    print(\"I will be able to buy something\")\n",
    "    if price < 400 :\n",
    "        print(\"I will be able to buy jacket\")\n",
    "    elif price < 300 :\n",
    "        print(\"I will be able to buy a shirt\")\n",
    "    else :\n",
    "        print(\"I won't be able to buy anything\")\n",
    "else :\n",
    "    print(\"I won't be able to buy anything with this price tag\")"
   ]
  },
  {
   "cell_type": "code",
   "execution_count": 10,
   "id": "c50c79f3",
   "metadata": {},
   "outputs": [
    {
     "name": "stdout",
     "output_type": "stream",
     "text": [
      "600\n",
      "I won't be able to buy anything with this price tag\n",
      "Lets try something else\n"
     ]
    }
   ],
   "source": [
    "price = int(input())\n",
    "if price < 500 :\n",
    "    print(\"I will be able to buy something\")\n",
    "    if price < 400 :\n",
    "        print(\"I will be able to buy jacket\")\n",
    "    elif price < 300 :\n",
    "        print(\"I will be able to buy a shirt\")\n",
    "    else :\n",
    "        print(\"I won't be able to buy anything\")\n",
    "else :\n",
    "    print(\"I won't be able to buy anything with this price tag\")\n",
    "    if price > 500 :\n",
    "        print(\"Lets try something else\")"
   ]
  },
  {
   "cell_type": "code",
   "execution_count": 11,
   "id": "6fe850e5",
   "metadata": {},
   "outputs": [
    {
     "name": "stdout",
     "output_type": "stream",
     "text": [
      "700\n",
      "GRE\n"
     ]
    }
   ],
   "source": [
    "marks = int(input())\n",
    "if marks < 600 :\n",
    "    print(\"NO GRE\")\n",
    "    if marks < 500 :\n",
    "        print(\"TOFFEL\")\n",
    "    elif marks < 400 :\n",
    "        print(\"Try something else\")\n",
    "else :\n",
    "    if marks > 600 :\n",
    "        print(\"GRE\")"
   ]
  },
  {
   "cell_type": "code",
   "execution_count": 18,
   "id": "9b3a23fd",
   "metadata": {},
   "outputs": [
    {
     "name": "stdout",
     "output_type": "stream",
     "text": [
      "500\n",
      "NO GRE\n",
      "You got tofel\n"
     ]
    }
   ],
   "source": [
    "marks = int(input())\n",
    "if marks < 600 :\n",
    "    print(\"NO GRE\")\n",
    "    if marks < 500 :\n",
    "        print(\"TOFFEL\")\n",
    "        if marks < 400 :\n",
    "            print(\"try something else\")\n",
    "    else :\n",
    "        print(\"You got tofel\")\n",
    "else :\n",
    "    if marks > 600 :\n",
    "        print(\"You got GRE congartulations!\")"
   ]
  },
  {
   "cell_type": "code",
   "execution_count": 20,
   "id": "e8f15fe0",
   "metadata": {},
   "outputs": [
    {
     "name": "stdout",
     "output_type": "stream",
     "text": [
      "600\n",
      "You got GRE congartulations!\n"
     ]
    }
   ],
   "source": [
    "marks = int(input())\n",
    "if marks < 600 :\n",
    "    print(\"NO GRE\")\n",
    "    if marks < 500 :\n",
    "        print(\"TOFFEL\")\n",
    "        if marks < 400 :\n",
    "            print(\"try something else\")\n",
    "    else :\n",
    "        print(\"You got tofel\")\n",
    "else :\n",
    "     print(\"You got GRE congartulations!\")"
   ]
  },
  {
   "cell_type": "code",
   "execution_count": 21,
   "id": "38357d24",
   "metadata": {},
   "outputs": [
    {
     "name": "stdout",
     "output_type": "stream",
     "text": [
      "300\n",
      "NO GRE\n",
      "TOFFEL\n",
      "try something else\n"
     ]
    }
   ],
   "source": [
    "marks = int(input())\n",
    "if marks < 600 :\n",
    "    print(\"NO GRE\")\n",
    "    if marks < 500 :\n",
    "        print(\"TOFFEL\")\n",
    "        if marks < 400 :\n",
    "            print(\"try something else\")\n",
    "    else :\n",
    "        print(\"You got tofel\")\n",
    "else :\n",
    "     print(\"You got GRE congartulations!\")"
   ]
  },
  {
   "cell_type": "code",
   "execution_count": 22,
   "id": "0d547197",
   "metadata": {},
   "outputs": [
    {
     "name": "stdout",
     "output_type": "stream",
     "text": [
      "Enter a floating point number-345\n",
      "Entered numaber is negative\n"
     ]
    }
   ],
   "source": [
    "val = float(input(\"Enter a floating point number\"))\n",
    "if val >= 0 :\n",
    "    if val == 0 :\n",
    "        print(\"enterd val is zero\")\n",
    "    else :\n",
    "        print(\"enterd val is positive number\")\n",
    "else :\n",
    "    print(\"Entered numaber is negative\")"
   ]
  },
  {
   "cell_type": "code",
   "execution_count": 23,
   "id": "288c96cd",
   "metadata": {},
   "outputs": [
    {
     "name": "stdout",
     "output_type": "stream",
     "text": [
      "Enter a floating point number0\n",
      "enterd val is zero\n"
     ]
    }
   ],
   "source": [
    "val = float(input(\"Enter a floating point number\"))\n",
    "if val >= 0 :\n",
    "    if val == 0 :\n",
    "        print(\"enterd val is zero\")\n",
    "    else :\n",
    "        print(\"enterd val is positive number\")\n",
    "else :\n",
    "    print(\"Entered numaber is negative\")"
   ]
  },
  {
   "cell_type": "code",
   "execution_count": 24,
   "id": "a5880367",
   "metadata": {},
   "outputs": [
    {
     "name": "stdout",
     "output_type": "stream",
     "text": [
      "Enter a floating point number324\n",
      "enterd val is positive number\n"
     ]
    }
   ],
   "source": [
    "val = float(input(\"Enter a floating point number\"))\n",
    "if val >= 0 :\n",
    "    if val == 0 :\n",
    "        print(\"enterd val is zero\")\n",
    "    else :\n",
    "        print(\"enterd val is positive number\")\n",
    "else :\n",
    "    print(\"Entered numaber is negative\")"
   ]
  },
  {
   "cell_type": "code",
   "execution_count": 25,
   "id": "fe97aad8",
   "metadata": {},
   "outputs": [
    {
     "name": "stdout",
     "output_type": "stream",
     "text": [
      "try to do something\n"
     ]
    }
   ],
   "source": [
    "a = 10\n",
    "if a <= 10 :\n",
    "    print(\"try to do something\")"
   ]
  },
  {
   "cell_type": "code",
   "execution_count": 26,
   "id": "6a20a794",
   "metadata": {},
   "outputs": [
    {
     "name": "stdout",
     "output_type": "stream",
     "text": [
      "try to do something\n"
     ]
    }
   ],
   "source": [
    "a = 10\n",
    "if a < 10 or a == 10 :\n",
    "    print(\"try to do something\")"
   ]
  },
  {
   "cell_type": "code",
   "execution_count": 27,
   "id": "2ba50344",
   "metadata": {},
   "outputs": [],
   "source": [
    "a = 10\n",
    "if a < 10 or a > 10 :\n",
    "    print(\"try to do something\")"
   ]
  },
  {
   "cell_type": "code",
   "execution_count": 28,
   "id": "ba313567",
   "metadata": {},
   "outputs": [],
   "source": [
    "a = 10\n",
    "if a < 10 and a > 10 :\n",
    "    print(\"try to do something\")"
   ]
  },
  {
   "cell_type": "code",
   "execution_count": 29,
   "id": "2a968673",
   "metadata": {},
   "outputs": [],
   "source": [
    "a = 10                             # In case of \"and\" F T = F\n",
    "if a < 10 and a == 10 :\n",
    "    print(\"try to do something\")"
   ]
  },
  {
   "cell_type": "code",
   "execution_count": 30,
   "id": "38173574",
   "metadata": {},
   "outputs": [],
   "source": [
    "a = \"sudh\"\n",
    "if a == \"sudh\" and a == \"Sudh\" :\n",
    "    print(\"This is sudh\")"
   ]
  },
  {
   "cell_type": "code",
   "execution_count": 31,
   "id": "6f5eb8c1",
   "metadata": {},
   "outputs": [],
   "source": [
    "#python is case sensetive \"Sudh\" here S is capital."
   ]
  },
  {
   "cell_type": "code",
   "execution_count": 32,
   "id": "f7b6dc99",
   "metadata": {},
   "outputs": [
    {
     "name": "stdout",
     "output_type": "stream",
     "text": [
      "This is sudh\n"
     ]
    }
   ],
   "source": [
    "a = \"sudh\"\n",
    "if a == \"sudh\" or a == \"Sudh\" :\n",
    "    print(\"This is sudh\")"
   ]
  },
  {
   "cell_type": "code",
   "execution_count": 33,
   "id": "97e0568f",
   "metadata": {},
   "outputs": [],
   "source": [
    "# this is \"or\" condition here T F = T"
   ]
  },
  {
   "cell_type": "code",
   "execution_count": 34,
   "id": "6ae81854",
   "metadata": {},
   "outputs": [],
   "source": [
    "a = 10 \n",
    "b = 11\n",
    "c = 12\n",
    "d = 13\n",
    "if a == 9 and b == 11 and c == 12 and d == 13 :\n",
    "    print(\"Let's do something\")"
   ]
  },
  {
   "cell_type": "code",
   "execution_count": 35,
   "id": "9cc8659f",
   "metadata": {},
   "outputs": [],
   "source": [
    "# This is \"and\" condition and a == 9 is false that's why entire statement is false"
   ]
  },
  {
   "cell_type": "code",
   "execution_count": 36,
   "id": "65185c0c",
   "metadata": {},
   "outputs": [
    {
     "name": "stdout",
     "output_type": "stream",
     "text": [
      "Let's do something\n"
     ]
    }
   ],
   "source": [
    "a = 10 \n",
    "b = 11\n",
    "c = 12\n",
    "d = 13\n",
    "if a == 9 or b == 11 and c == 12 and d == 13 :\n",
    "    print(\"Let's do something\")"
   ]
  },
  {
   "cell_type": "code",
   "execution_count": 37,
   "id": "db276edc",
   "metadata": {},
   "outputs": [],
   "source": [
    "# this is \"or\" logical condition."
   ]
  },
  {
   "cell_type": "code",
   "execution_count": 39,
   "id": "a9751c04",
   "metadata": {},
   "outputs": [],
   "source": [
    "d = {\"key1\":\"value\",\"key2\":\"sudh\",\"key3\":\"iNeuron\"}"
   ]
  },
  {
   "cell_type": "code",
   "execution_count": 42,
   "id": "d5e2e012",
   "metadata": {},
   "outputs": [
    {
     "data": {
      "text/plain": [
       "'value'"
      ]
     },
     "execution_count": 42,
     "metadata": {},
     "output_type": "execute_result"
    }
   ],
   "source": [
    "d['key1']"
   ]
  },
  {
   "cell_type": "code",
   "execution_count": 46,
   "id": "5b5939f3",
   "metadata": {},
   "outputs": [
    {
     "name": "stdout",
     "output_type": "stream",
     "text": [
      "All the values are verified\n",
      "dict_values(['value', 'sudh', 'iNeuron'])\n"
     ]
    }
   ],
   "source": [
    "if d['key1'] == \"value\" and d['key2'] == \"sudh\" and d['key3'] == \"iNeuron\" :\n",
    "    print(\"All the values are verified\")\n",
    "    print(d.values())"
   ]
  },
  {
   "cell_type": "code",
   "execution_count": 48,
   "id": "34dc2902",
   "metadata": {},
   "outputs": [
    {
     "name": "stdout",
     "output_type": "stream",
     "text": [
      "All the values are not verified\n"
     ]
    }
   ],
   "source": [
    "if d['key1'] == \"value\" and d['key2'] == \"Sudh\" and d['key3'] == \"iNeuron\" :\n",
    "    print(\"All the values are verified\")\n",
    "    print(d.values())\n",
    "else :\n",
    "    print(\"All the values are not verified\")"
   ]
  },
  {
   "cell_type": "code",
   "execution_count": 49,
   "id": "d68bbcad",
   "metadata": {},
   "outputs": [],
   "source": [
    "l = [1,2,3,4,5,\"sudh\",234.45]"
   ]
  },
  {
   "cell_type": "code",
   "execution_count": 50,
   "id": "2811738b",
   "metadata": {},
   "outputs": [
    {
     "data": {
      "text/plain": [
       "1"
      ]
     },
     "execution_count": 50,
     "metadata": {},
     "output_type": "execute_result"
    }
   ],
   "source": [
    "l[0]"
   ]
  },
  {
   "cell_type": "code",
   "execution_count": 51,
   "id": "8b2888e1",
   "metadata": {},
   "outputs": [
    {
     "data": {
      "text/plain": [
       "[3, 5]"
      ]
     },
     "execution_count": 51,
     "metadata": {},
     "output_type": "execute_result"
    }
   ],
   "source": [
    "l[2:5:2]"
   ]
  },
  {
   "cell_type": "code",
   "execution_count": 52,
   "id": "b1bd2e68",
   "metadata": {},
   "outputs": [
    {
     "name": "stdout",
     "output_type": "stream",
     "text": [
      "1\n",
      "2\n",
      "3\n",
      "4\n",
      "5\n",
      "sudh\n",
      "234.45\n"
     ]
    }
   ],
   "source": [
    "for i in l :\n",
    "    print(i)"
   ]
  },
  {
   "cell_type": "code",
   "execution_count": 53,
   "id": "f4b201d2",
   "metadata": {},
   "outputs": [
    {
     "name": "stdout",
     "output_type": "stream",
     "text": [
      "2\n",
      "3\n",
      "4\n",
      "5\n",
      "6\n"
     ]
    },
    {
     "ename": "TypeError",
     "evalue": "can only concatenate str (not \"int\") to str",
     "output_type": "error",
     "traceback": [
      "\u001b[1;31m---------------------------------------------------------------------------\u001b[0m",
      "\u001b[1;31mTypeError\u001b[0m                                 Traceback (most recent call last)",
      "\u001b[1;32mC:\\Users\\ADMINI~1.UPT\\AppData\\Local\\Temp/ipykernel_7540/918082190.py\u001b[0m in \u001b[0;36m<module>\u001b[1;34m\u001b[0m\n\u001b[0;32m      1\u001b[0m \u001b[1;32mfor\u001b[0m \u001b[0mi\u001b[0m \u001b[1;32min\u001b[0m \u001b[0ml\u001b[0m \u001b[1;33m:\u001b[0m\u001b[1;33m\u001b[0m\u001b[1;33m\u001b[0m\u001b[0m\n\u001b[1;32m----> 2\u001b[1;33m     \u001b[0mprint\u001b[0m\u001b[1;33m(\u001b[0m\u001b[0mi\u001b[0m\u001b[1;33m+\u001b[0m\u001b[1;36m1\u001b[0m\u001b[1;33m)\u001b[0m\u001b[1;33m\u001b[0m\u001b[1;33m\u001b[0m\u001b[0m\n\u001b[0m",
      "\u001b[1;31mTypeError\u001b[0m: can only concatenate str (not \"int\") to str"
     ]
    }
   ],
   "source": [
    "for i in l :\n",
    "    print(i+1)"
   ]
  },
  {
   "cell_type": "code",
   "execution_count": 58,
   "id": "72e944c9",
   "metadata": {},
   "outputs": [
    {
     "name": "stdout",
     "output_type": "stream",
     "text": [
      "2\n",
      "3\n",
      "4\n",
      "5\n",
      "6\n",
      "sudh1\n",
      "235.45\n"
     ]
    }
   ],
   "source": [
    "for i in l :\n",
    "    if type(i) == int or type(i) == float:\n",
    "        print(i+1)\n",
    "    elif type(i) == str :\n",
    "        print(i + str(1))"
   ]
  },
  {
   "cell_type": "code",
   "execution_count": 59,
   "id": "726a40be",
   "metadata": {},
   "outputs": [
    {
     "data": {
      "text/plain": [
       "[1, 2, 3, 4, 5, 'sudh', 234.45]"
      ]
     },
     "execution_count": 59,
     "metadata": {},
     "output_type": "execute_result"
    }
   ],
   "source": [
    "l"
   ]
  },
  {
   "cell_type": "code",
   "execution_count": 62,
   "id": "758b4c97",
   "metadata": {},
   "outputs": [
    {
     "data": {
      "text/plain": [
       "[1, 2, 3, 4, 5]"
      ]
     },
     "execution_count": 62,
     "metadata": {},
     "output_type": "execute_result"
    }
   ],
   "source": [
    "l1 = []\n",
    "for i in l :\n",
    "    if type(i) == int :\n",
    "        l1.append(i)\n",
    "l1"
   ]
  },
  {
   "cell_type": "code",
   "execution_count": null,
   "id": "883de63d",
   "metadata": {},
   "outputs": [],
   "source": []
  }
 ],
 "metadata": {
  "kernelspec": {
   "display_name": "Python 3 (ipykernel)",
   "language": "python",
   "name": "python3"
  },
  "language_info": {
   "codemirror_mode": {
    "name": "ipython",
    "version": 3
   },
   "file_extension": ".py",
   "mimetype": "text/x-python",
   "name": "python",
   "nbconvert_exporter": "python",
   "pygments_lexer": "ipython3",
   "version": "3.9.7"
  }
 },
 "nbformat": 4,
 "nbformat_minor": 5
}
