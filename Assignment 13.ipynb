{
 "cells": [
  {
   "cell_type": "markdown",
   "id": "a61f9b6e",
   "metadata": {},
   "source": [
    "#### Question 1:\n",
    "- Write a program that calculates and prints the value according to the given formula:\n",
    "- Q = Square root of [(2 * C * D)/H]\n",
    "- Following are the fixed values of C and H:\n",
    "- C is 50. H is 30.\n",
    "- D is the variable whose values should be input to your program in a comma-separated sequence.\n",
    "- Example\n",
    "- Let us assume the following comma separated input sequence is given to the program: 100,150,180\n",
    "- The output of the program should be: 18,22,24"
   ]
  },
  {
   "cell_type": "code",
   "execution_count": 1,
   "id": "83318d5e",
   "metadata": {},
   "outputs": [
    {
     "name": "stdout",
     "output_type": "stream",
     "text": [
      "Provide D : 100,150,180\n",
      "[18, 22, 24]\n"
     ]
    }
   ],
   "source": [
    "import math\n",
    "numbers = input(\"Provide D : \")\n",
    "numbers = numbers.split(\",\")\n",
    "\n",
    "result = []\n",
    "for D in numbers:\n",
    "    Q = round(math.sqrt(2*50*int(D)/30))\n",
    "    result.append(Q)\n",
    "print(result)"
   ]
  },
  {
   "cell_type": "markdown",
   "id": "0389a00e",
   "metadata": {},
   "source": [
    "#### Question 2:\n",
    "- Write a program which takes 2 digits, X,Y as input and generates a 2-dimensional array. The\n",
    "- element value in the i-th row and j-th column of the array should be i*j.\n",
    "- Note: i=0,1.., X-1; j=0,1,¡Y-1.\n",
    "- Example\n",
    "- Suppose the following inputs are given to the program:3,5\n",
    "- Then, the output of the program should be: [[0, 0, 0, 0, 0], [0, 1, 2, 3, 4], [0, 2, 4, 6, 8]]"
   ]
  },
  {
   "cell_type": "code",
   "execution_count": 3,
   "id": "4f41a42b",
   "metadata": {},
   "outputs": [
    {
     "name": "stdout",
     "output_type": "stream",
     "text": [
      "Enter first number : 3\n",
      "Enter Second number : 5\n",
      "[[0, 0, 0, 0, 0], [0, 1, 2, 3, 4], [0, 2, 4, 6, 8]]\n"
     ]
    }
   ],
   "source": [
    "X = int(input(\"Enter first number : \"))\n",
    "Y = int(input(\"Enter Second number : \"))\n",
    "matrix = [[0 for col in range(Y)] for row in range(X)]\n",
    "for row in range(X):\n",
    "    for col in range(Y):\n",
    "        matrix[row][col]=row*col\n",
    "print(matrix)"
   ]
  },
  {
   "cell_type": "markdown",
   "id": "b7b4abba",
   "metadata": {},
   "source": [
    "#### Question 3:\n",
    "- Write a program that accepts a comma separated sequence of words as input and prints the words in a comma-separated sequence after sorting them alphabetically.\n",
    "- Suppose the following input is supplied to the program:\n",
    "- without,hello,bag,world\n",
    "- Then, the output should be:\n",
    "- bag,hello,without,world"
   ]
  },
  {
   "cell_type": "code",
   "execution_count": 10,
   "id": "d89e13e3",
   "metadata": {},
   "outputs": [
    {
     "name": "stdout",
     "output_type": "stream",
     "text": [
      "Enter the words : without,hello,bag,world\n",
      "bag,hello,without,world\n"
     ]
    }
   ],
   "source": [
    "words = input(\"Enter the words : \")\n",
    "Final =words.split(\",\")\n",
    "Final.sort()\n",
    "print((',').join(Final))"
   ]
  },
  {
   "cell_type": "markdown",
   "id": "0bbccb4a",
   "metadata": {},
   "source": [
    "#### Question 4:\n",
    "- Write a program that accepts a sequence of whitespace separated words as input and prints the words after removing all duplicate words and sorting them alphanumerically.\n",
    "- Suppose the following input is supplied to the program:\n",
    "- hello world and practice makes perfect and hello world again\n",
    "- Then, the output should be:\n",
    "- again and hello makes perfect practice world"
   ]
  },
  {
   "cell_type": "code",
   "execution_count": 13,
   "id": "758e1e33",
   "metadata": {},
   "outputs": [
    {
     "name": "stdout",
     "output_type": "stream",
     "text": [
      "Type in: hello world practice makes perfect hello world\n",
      "hello makes perfect practice world\n"
     ]
    }
   ],
   "source": [
    "phrase = input(\"Type in: \")\n",
    "phrase_splited = phrase.split(' ')\n",
    "\n",
    "word_list = []\n",
    "for i in phrase_splited:\n",
    "    if i not in word_list:\n",
    "        word_list.append(i)\n",
    "    else:\n",
    "        continue\n",
    "word_list.sort()\n",
    "print((' ').join(word_list))"
   ]
  },
  {
   "cell_type": "markdown",
   "id": "adac88b9",
   "metadata": {},
   "source": [
    "#### Question 5:\n",
    "- Write a program that accepts a sentence and calculate the number of letters and digits.\n",
    "- Suppose the following input is supplied to the program: hello world! 123\n",
    "- Then, the output should be: LETTERS 10, DIGITS 3"
   ]
  },
  {
   "cell_type": "code",
   "execution_count": 14,
   "id": "019f874a",
   "metadata": {},
   "outputs": [
    {
     "name": "stdout",
     "output_type": "stream",
     "text": [
      "Type here : hello world! 123\n",
      "LETTERS 10\n",
      "DIGITS 3\n"
     ]
    }
   ],
   "source": [
    "sentence = input(\"Type here : \")\n",
    "sentence = list(sentence)\n",
    "\n",
    "l,d = 0,0\n",
    "for i in sentence:\n",
    "    if i.isalpha():\n",
    "        l = l+1\n",
    "    if i.isdigit():\n",
    "        d = d + 1\n",
    "    else: \n",
    "        pass\n",
    "print(\"LETTERS\",l)\n",
    "print(\"DIGITS\",d)"
   ]
  },
  {
   "cell_type": "markdown",
   "id": "c75f305f",
   "metadata": {},
   "source": [
    "#### Question 6:\n",
    "- A website requires the users to input username and password to register. Write a program to check the validity of password input by users.\n",
    "Following are the criteria for checking the password:\n",
    "- 1. At least 1 letter between [a-z]\n",
    "- 2. At least 1 number between [0-9]\n",
    "- 1. At least 1 letter between [A-Z]\n",
    "- 3. At least 1 character from [$#@]\n",
    "- 4. Minimum length of transaction password: 6\n",
    "- 5. Maximum length of transaction password: 12\n",
    "- Your program should accept a sequence of comma separated passwords and will check them according to the above criteria. Passwords that match the criteria are to be printed, each separated by a comma.\n",
    "- Example\n",
    "- If the following passwords are given as input to the program:\n",
    "- ABd1234@1,a F1#,2w3E*,2We3345\n",
    "- Then, the output of the program should be:\n",
    "- ABd1234@1"
   ]
  },
  {
   "cell_type": "code",
   "execution_count": 15,
   "id": "00e31a5e",
   "metadata": {},
   "outputs": [
    {
     "name": "stdout",
     "output_type": "stream",
     "text": [
      "Type here : ABd1234@1,a F1#,2w3E*,2We3345\n",
      "ABd1234@1,a\n"
     ]
    }
   ],
   "source": [
    "import re\n",
    "password = input(\"Type here : \")\n",
    "password = password.split(\" \")\n",
    "\n",
    "password_accepted = []\n",
    "\n",
    "for i in password:\n",
    "    \n",
    "    if len(i)<6 or len(i)>12:\n",
    "        continue\n",
    "        \n",
    "    elif not re.search(\"([a-z])+\",i):\n",
    "        continue\n",
    "        \n",
    "    elif not re.search(\"([A-z])+\",i):\n",
    "        continue\n",
    "        \n",
    "    elif not re.search(\"([0-9])+\",i):\n",
    "        continue\n",
    "        \n",
    "    elif not re.search(\"([!@$%^&])+\",i):\n",
    "        continue\n",
    "        \n",
    "    else :\n",
    "        password_accepted.append(i)\n",
    "print((\" \").join(password_accepted))"
   ]
  }
 ],
 "metadata": {
  "kernelspec": {
   "display_name": "Python 3 (ipykernel)",
   "language": "python",
   "name": "python3"
  },
  "language_info": {
   "codemirror_mode": {
    "name": "ipython",
    "version": 3
   },
   "file_extension": ".py",
   "mimetype": "text/x-python",
   "name": "python",
   "nbconvert_exporter": "python",
   "pygments_lexer": "ipython3",
   "version": "3.9.13"
  }
 },
 "nbformat": 4,
 "nbformat_minor": 5
}
