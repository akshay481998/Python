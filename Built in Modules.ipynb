{
 "cells": [
  {
   "cell_type": "markdown",
   "id": "e8640a7e",
   "metadata": {},
   "source": [
    "# What are modules?"
   ]
  },
  {
   "cell_type": "markdown",
   "id": "bb80285a",
   "metadata": {},
   "source": [
    "### Consider a module to be the as a code library"
   ]
  },
  {
   "cell_type": "markdown",
   "id": "7cbd4c10",
   "metadata": {},
   "source": [
    "### A file containing set of functions you want to include in your application"
   ]
  },
  {
   "cell_type": "markdown",
   "id": "f6ffc2fc",
   "metadata": {},
   "source": [
    "### Examples of python modules"
   ]
  },
  {
   "cell_type": "markdown",
   "id": "ecc83cd2",
   "metadata": {},
   "source": [
    "#### [] Math"
   ]
  },
  {
   "cell_type": "markdown",
   "id": "273b859e",
   "metadata": {},
   "source": [
    "#### [] Random"
   ]
  },
  {
   "cell_type": "markdown",
   "id": "769197f4",
   "metadata": {},
   "source": [
    "#### [] os"
   ]
  },
  {
   "cell_type": "markdown",
   "id": "cba9ceea",
   "metadata": {},
   "source": [
    "#### [] time"
   ]
  },
  {
   "cell_type": "code",
   "execution_count": 1,
   "id": "03bb48a4",
   "metadata": {},
   "outputs": [],
   "source": [
    "import math"
   ]
  },
  {
   "cell_type": "code",
   "execution_count": 2,
   "id": "7a7900b4",
   "metadata": {},
   "outputs": [
    {
     "data": {
      "text/plain": [
       "10.0"
      ]
     },
     "execution_count": 2,
     "metadata": {},
     "output_type": "execute_result"
    }
   ],
   "source": [
    "math.sqrt(100)"
   ]
  },
  {
   "cell_type": "code",
   "execution_count": 3,
   "id": "436b6b96",
   "metadata": {},
   "outputs": [
    {
     "data": {
      "text/plain": [
       "7"
      ]
     },
     "execution_count": 3,
     "metadata": {},
     "output_type": "execute_result"
    }
   ],
   "source": [
    "math.ceil(6.9)"
   ]
  },
  {
   "cell_type": "code",
   "execution_count": 4,
   "id": "ebdb3463",
   "metadata": {},
   "outputs": [
    {
     "data": {
      "text/plain": [
       "8"
      ]
     },
     "execution_count": 4,
     "metadata": {},
     "output_type": "execute_result"
    }
   ],
   "source": [
    "math.floor(8.2)"
   ]
  },
  {
   "cell_type": "code",
   "execution_count": 5,
   "id": "ddea10a7",
   "metadata": {},
   "outputs": [],
   "source": [
    "import random"
   ]
  },
  {
   "cell_type": "code",
   "execution_count": 11,
   "id": "05461e67",
   "metadata": {},
   "outputs": [
    {
     "data": {
      "text/plain": [
       "[4, 1, 7, 5]"
      ]
     },
     "execution_count": 11,
     "metadata": {},
     "output_type": "execute_result"
    }
   ],
   "source": [
    "a = [1,4,5,7]\n",
    "random.shuffle(a)\n",
    "a"
   ]
  },
  {
   "cell_type": "code",
   "execution_count": 16,
   "id": "0eaad372",
   "metadata": {},
   "outputs": [
    {
     "data": {
      "text/plain": [
       "86"
      ]
     },
     "execution_count": 16,
     "metadata": {},
     "output_type": "execute_result"
    }
   ],
   "source": [
    "random.randint(1,100)"
   ]
  },
  {
   "cell_type": "code",
   "execution_count": 17,
   "id": "e505d81a",
   "metadata": {},
   "outputs": [],
   "source": [
    "import time"
   ]
  },
  {
   "cell_type": "code",
   "execution_count": 18,
   "id": "18fc19ab",
   "metadata": {},
   "outputs": [
    {
     "data": {
      "text/plain": [
       "'Fri Dec  2 10:46:57 2022'"
      ]
     },
     "execution_count": 18,
     "metadata": {},
     "output_type": "execute_result"
    }
   ],
   "source": [
    "time.ctime()                            # Display curret time and date"
   ]
  },
  {
   "cell_type": "code",
   "execution_count": 22,
   "id": "a8af62d5",
   "metadata": {},
   "outputs": [
    {
     "data": {
      "text/plain": [
       "1669958240.2695637"
      ]
     },
     "execution_count": 22,
     "metadata": {},
     "output_type": "execute_result"
    }
   ],
   "source": [
    "time.time()"
   ]
  },
  {
   "cell_type": "code",
   "execution_count": 23,
   "id": "2ac53c05",
   "metadata": {},
   "outputs": [
    {
     "name": "stdout",
     "output_type": "stream",
     "text": [
      "Hello\n",
      "World\n"
     ]
    }
   ],
   "source": [
    "print(\"Hello\")                         # it will take 3 sec to print world word.\n",
    "time.sleep(3)\n",
    "print(\"World\")"
   ]
  },
  {
   "cell_type": "code",
   "execution_count": 24,
   "id": "c7c76fbe",
   "metadata": {},
   "outputs": [],
   "source": [
    "import os"
   ]
  },
  {
   "cell_type": "code",
   "execution_count": 25,
   "id": "4a51ebe1",
   "metadata": {},
   "outputs": [
    {
     "data": {
      "text/plain": [
       "'D:\\\\'"
      ]
     },
     "execution_count": 25,
     "metadata": {},
     "output_type": "execute_result"
    }
   ],
   "source": [
    "os.getcwd()                         # to get current working directory so my directory is d."
   ]
  },
  {
   "cell_type": "code",
   "execution_count": 26,
   "id": "40f84a9e",
   "metadata": {},
   "outputs": [
    {
     "data": {
      "text/plain": [
       "['$RECYCLE.BIN',\n",
       " '.ipynb_checkpoints',\n",
       " 'Built in Modules.ipynb',\n",
       " 'System Volume Information',\n",
       " 'Untitled.ipynb',\n",
       " 'Untitled1.ipynb']"
      ]
     },
     "execution_count": 26,
     "metadata": {},
     "output_type": "execute_result"
    }
   ],
   "source": [
    "os.listdir()                       # it will list all the files of current directory."
   ]
  },
  {
   "cell_type": "code",
   "execution_count": null,
   "id": "75ecf2e8",
   "metadata": {},
   "outputs": [],
   "source": []
  }
 ],
 "metadata": {
  "kernelspec": {
   "display_name": "Python 3 (ipykernel)",
   "language": "python",
   "name": "python3"
  },
  "language_info": {
   "codemirror_mode": {
    "name": "ipython",
    "version": 3
   },
   "file_extension": ".py",
   "mimetype": "text/x-python",
   "name": "python",
   "nbconvert_exporter": "python",
   "pygments_lexer": "ipython3",
   "version": "3.9.13"
  }
 },
 "nbformat": 4,
 "nbformat_minor": 5
}
