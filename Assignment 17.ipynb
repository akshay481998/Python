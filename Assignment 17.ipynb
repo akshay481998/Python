{
 "cells": [
  {
   "cell_type": "markdown",
   "id": "6abccf79",
   "metadata": {},
   "source": [
    "### Question1 Create a function that takes three arguments a, b, c and returns the sum of the numbers that are evenly divided by c from the range a, b inclusive."
   ]
  },
  {
   "cell_type": "markdown",
   "id": "3b013ac0",
   "metadata": {},
   "source": [
    "**Examples**\n",
    "- evenly_divisible(1, 10, 20) ➞ 0\n",
    "--> No number between 1 and 10 can be evenly divided by 20.\n",
    "- evenly_divisible(1, 10, 2) ➞ 30\n",
    "--> 2 + 4 + 6 + 8 + 10 = 30\n",
    "- evenly_divisible(1, 10, 3) ➞ 18\n",
    "--> 3 + 6 + 9 = 18"
   ]
  },
  {
   "cell_type": "code",
   "execution_count": 1,
   "id": "b6fbb369",
   "metadata": {},
   "outputs": [],
   "source": [
    "def evenly_div_by_c(a,b,c):\n",
    "    sum1 = 0\n",
    "    for i in range(a,b+1):\n",
    "        if i%c == 0:\n",
    "            sum1 = sum1 + i\n",
    "    return sum1          "
   ]
  },
  {
   "cell_type": "code",
   "execution_count": 2,
   "id": "c2f47491",
   "metadata": {},
   "outputs": [
    {
     "data": {
      "text/plain": [
       "0"
      ]
     },
     "execution_count": 2,
     "metadata": {},
     "output_type": "execute_result"
    }
   ],
   "source": [
    "evenly_div_by_c(1,10,20)"
   ]
  },
  {
   "cell_type": "code",
   "execution_count": 3,
   "id": "b9f42fb5",
   "metadata": {},
   "outputs": [
    {
     "data": {
      "text/plain": [
       "30"
      ]
     },
     "execution_count": 3,
     "metadata": {},
     "output_type": "execute_result"
    }
   ],
   "source": [
    "evenly_div_by_c(1,10,2)"
   ]
  },
  {
   "cell_type": "markdown",
   "id": "9fbf199e",
   "metadata": {},
   "source": [
    "### Question2. Create a function that returns True if a given inequality expression is correct and False otherwise.\n",
    "- Examples\n",
    "- correct_signs(&quot;3 &lt; 7 &lt; 11&quot;) ➞ True\n",
    "- correct_signs(&quot;13 &gt; 44 &gt; 33 &gt; 1&quot;) ➞ False\n",
    "- correct_signs(&quot;1 &lt; 2 &lt; 6 &lt; 9 &gt; 3&quot;) ➞ True"
   ]
  },
  {
   "cell_type": "code",
   "execution_count": 4,
   "id": "ea4623fe",
   "metadata": {},
   "outputs": [],
   "source": [
    "def correct_signs(inequality):\n",
    "    return eval(inequality)"
   ]
  },
  {
   "cell_type": "code",
   "execution_count": 5,
   "id": "e3735cae",
   "metadata": {},
   "outputs": [
    {
     "data": {
      "text/plain": [
       "True"
      ]
     },
     "execution_count": 5,
     "metadata": {},
     "output_type": "execute_result"
    }
   ],
   "source": [
    "correct_signs(\"3 < 7 < 11\")"
   ]
  },
  {
   "cell_type": "code",
   "execution_count": 6,
   "id": "1a36e316",
   "metadata": {},
   "outputs": [
    {
     "data": {
      "text/plain": [
       "False"
      ]
     },
     "execution_count": 6,
     "metadata": {},
     "output_type": "execute_result"
    }
   ],
   "source": [
    "correct_signs(\"13 > 44 > 33 > 1\") "
   ]
  },
  {
   "cell_type": "markdown",
   "id": "38807212",
   "metadata": {},
   "source": [
    "### Question3. Create a function that replaces all the vowels in a string with a specified character.\n",
    "- Examples\n",
    "- replace_vowels(&quot;the aardvark&quot;, &quot;#&quot;) ➞ &quot;th# ##rdv#rk&quot;\n",
    "- replace_vowels(&quot;minnie mouse&quot;, &quot;?&quot;) ➞ &quot;m?nn?? m??s?&quot;\n",
    "- replace_vowels(&quot;shakespeare&quot;, &quot;*&quot;) ➞ &quot;sh*k*sp**r*&quot;"
   ]
  },
  {
   "cell_type": "code",
   "execution_count": 9,
   "id": "acb25bb8",
   "metadata": {},
   "outputs": [],
   "source": [
    "def replace_vowels(string,char):\n",
    "    vowels = 'aeiouAEIOU'\n",
    "    for i in vowels:\n",
    "        string = string.replace(i,char)\n",
    "    return string"
   ]
  },
  {
   "cell_type": "code",
   "execution_count": 10,
   "id": "04428e93",
   "metadata": {},
   "outputs": [
    {
     "data": {
      "text/plain": [
       "'th# ##rdv#rk'"
      ]
     },
     "execution_count": 10,
     "metadata": {},
     "output_type": "execute_result"
    }
   ],
   "source": [
    "replace_vowels(\"the aardvark\", \"#\") "
   ]
  },
  {
   "cell_type": "code",
   "execution_count": 11,
   "id": "e18fa2f4",
   "metadata": {},
   "outputs": [
    {
     "data": {
      "text/plain": [
       "'m?nn?? m??s?'"
      ]
     },
     "execution_count": 11,
     "metadata": {},
     "output_type": "execute_result"
    }
   ],
   "source": [
    "replace_vowels(\"minnie mouse\", \"?\")"
   ]
  },
  {
   "cell_type": "code",
   "execution_count": 12,
   "id": "209a3ade",
   "metadata": {},
   "outputs": [
    {
     "data": {
      "text/plain": [
       "'shkspr'"
      ]
     },
     "execution_count": 12,
     "metadata": {},
     "output_type": "execute_result"
    }
   ],
   "source": [
    "replace_vowels(\"shakespeare\", \"\") "
   ]
  },
  {
   "cell_type": "markdown",
   "id": "1ba4f8c9",
   "metadata": {},
   "source": [
    "###  Question4. Write a function that calculates the factorial of a number recursively.\n",
    "- Examples\n",
    "- factorial(5) ➞ 120\n",
    "- factorial(3) ➞ 6\n",
    "- factorial(1) ➞ 1\n",
    "- factorial(0) ➞ 1"
   ]
  },
  {
   "cell_type": "code",
   "execution_count": 1,
   "id": "32f33d49",
   "metadata": {},
   "outputs": [],
   "source": [
    "def fact(a):\n",
    "    if a == 0 or a == 1:\n",
    "        return 1\n",
    "    return a*fact(a-1)"
   ]
  },
  {
   "cell_type": "code",
   "execution_count": 2,
   "id": "fb5fce5b",
   "metadata": {},
   "outputs": [
    {
     "data": {
      "text/plain": [
       "120"
      ]
     },
     "execution_count": 2,
     "metadata": {},
     "output_type": "execute_result"
    }
   ],
   "source": [
    "fact(5)"
   ]
  },
  {
   "cell_type": "markdown",
   "id": "8ac96bc5",
   "metadata": {},
   "source": [
    "### Question5. Hamming distance is the number of characters that differ between two strings.\n",
    "- To illustrate:\n",
    "- String1: &quot;abcbba&quot;\n",
    "- String2: &quot;abcbda&quot;\n",
    "- Hamming Distance: 1 - &quot;b&quot; vs. &quot;d&quot; is the only difference.\n",
    "- Create a function that computes the hamming distance between two strings."
   ]
  },
  {
   "cell_type": "code",
   "execution_count": 3,
   "id": "e4d1d499",
   "metadata": {},
   "outputs": [],
   "source": [
    "def Hamming_Distance(str1,str2):\n",
    "    if len(str1) != len(str2):\n",
    "        raise ValueError('Strings must have the same length')\n",
    "    \n",
    "    distance = 0\n",
    "    for i in range(len(str1)):\n",
    "        if str1[i] != str2[i]:\n",
    "            distance += 1\n",
    "    return distance"
   ]
  },
  {
   "cell_type": "code",
   "execution_count": 4,
   "id": "a59df03c",
   "metadata": {},
   "outputs": [
    {
     "data": {
      "text/plain": [
       "1"
      ]
     },
     "execution_count": 4,
     "metadata": {},
     "output_type": "execute_result"
    }
   ],
   "source": [
    "Hamming_Distance(\"abcbba\",\"abcbda\")"
   ]
  },
  {
   "cell_type": "code",
   "execution_count": 6,
   "id": "3d88417e",
   "metadata": {},
   "outputs": [
    {
     "data": {
      "text/plain": [
       "5"
      ]
     },
     "execution_count": 6,
     "metadata": {},
     "output_type": "execute_result"
    }
   ],
   "source": [
    "Hamming_Distance(\"abcde\",\"bcdef\")"
   ]
  }
 ],
 "metadata": {
  "kernelspec": {
   "display_name": "Python 3 (ipykernel)",
   "language": "python",
   "name": "python3"
  },
  "language_info": {
   "codemirror_mode": {
    "name": "ipython",
    "version": 3
   },
   "file_extension": ".py",
   "mimetype": "text/x-python",
   "name": "python",
   "nbconvert_exporter": "python",
   "pygments_lexer": "ipython3",
   "version": "3.9.13"
  }
 },
 "nbformat": 4,
 "nbformat_minor": 5
}
