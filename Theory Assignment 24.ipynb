{
 "cells": [
  {
   "cell_type": "markdown",
   "id": "67ebc658",
   "metadata": {},
   "source": [
    "#### 1. What is the relationship between def statements and lambda expressions ?"
   ]
  },
  {
   "cell_type": "markdown",
   "id": "8c83736c",
   "metadata": {},
   "source": [
    "- Ans:- def statement is used to create a normal function. where as lamba expressions are used to create Anonymous functions. which can be assigned to a variable and can be called using the variable later in function.\n",
    "\n",
    "- Lambda's body is a single expression and not a block of statements like def statement. The lambda expression's body is similar to what we'd put in a def body's return statement. We simply type the result as an expression instead of explicitly returning it. Because it is limited to an expression, a lambda is less general than a def statement."
   ]
  },
  {
   "cell_type": "markdown",
   "id": "ff1e17e8",
   "metadata": {},
   "source": [
    "#### 2. What is the benefit of lambda?"
   ]
  },
  {
   "cell_type": "markdown",
   "id": "8f4cda7d",
   "metadata": {},
   "source": [
    "- Ans: The following are some of the benefits of lambda expressions:\n",
    "\n",
    "1) Can be used to create Nameless/Anonymous functions inside some complex functions if we are planning to use it only once.\n",
    "\n",
    "2) Moderate to small functions can be created in a single line\n",
    "\n",
    "3) Fuctions created using lambda expressions can be assigned to a variable and can be used by simply calling the variable"
   ]
  },
  {
   "cell_type": "markdown",
   "id": "900e456a",
   "metadata": {},
   "source": [
    "#### 3. Compare and contrast map, filter, and reduce."
   ]
  },
  {
   "cell_type": "markdown",
   "id": "89384dd7",
   "metadata": {},
   "source": [
    "- The differences between map, filter and reduce are:\n",
    "\n",
    "1) map(): The map() function is a type of higher-order. This function takes another function as a parameter along with a sequence of iterables and returns an output after applying the function to each iterable present in the sequence.\n",
    "\n",
    "2) filter(): The filter() function is used to create an output list consisting of values for which the function returns true.\n",
    "\n",
    "3) reduce(): The reduce() function, as the name describes, applies a given function to the iterables and returns a single value"
   ]
  },
  {
   "cell_type": "markdown",
   "id": "747eb930",
   "metadata": {},
   "source": [
    "#### 4. What are function annotations, and how are they used?"
   ]
  },
  {
   "cell_type": "markdown",
   "id": "16ebd8f6",
   "metadata": {},
   "source": [
    "- Ans: Function annotations provide a way of associating various parts of a function with arbitrary pythoncexpressions at compile time. Annotations of simple parameters def func(x: expression, y: expression = 20): Whereas the annotations for excess parameters are as − def func (**args: expression, **kwargs: expression):"
   ]
  },
  {
   "cell_type": "markdown",
   "id": "a0bd075d",
   "metadata": {},
   "source": [
    "#### 5. What are recursive functions, and how are they used?"
   ]
  },
  {
   "cell_type": "markdown",
   "id": "cea8d8b5",
   "metadata": {},
   "source": [
    "- Ans:- Ans: A recursive function is a function that calls itself during its execution. The process may repeat several times, outputting the result and the end of each iteration."
   ]
  },
  {
   "cell_type": "markdown",
   "id": "9f94249f",
   "metadata": {},
   "source": [
    "#### 6. What are some general design guidelines for coding functions?"
   ]
  },
  {
   "cell_type": "markdown",
   "id": "c1890670",
   "metadata": {},
   "source": [
    "- Ans:- Some of the general design guidelines for coding functions are:\n",
    "\n",
    "1) Always use a docstring to explain the functionality of the function\n",
    "\n",
    "2) avoid using or limited use of global variables\n",
    "\n",
    "3) Proper Identation to increase the code readability\n",
    "\n",
    "4) try to follow a naming convention for function names (pascalCase or camelCase) and stick with the same convention throughout the application.\n",
    "\n",
    "5) Avoid using digits while choosing a variable name\n",
    "\n",
    "6) try to use a name for the function which conveys the purpose of the function \n",
    "\n",
    "7) Local variables should be named using camelCase format (ex: localVariable) whereas Global variables names should be using PascalCase (ex:GlobalVariable).\n",
    "\n",
    "8) Constant should be represented in allcaps (ex:CONSTANT)."
   ]
  },
  {
   "cell_type": "markdown",
   "id": "4db954e3",
   "metadata": {},
   "source": [
    "#### 7. Name three or more ways that functions can communicate results to a caller."
   ]
  },
  {
   "cell_type": "markdown",
   "id": "b61ff4de",
   "metadata": {},
   "source": [
    "- Ans:- Some of the ways in which a function can communicate with the calling function is:\n",
    "\n",
    "1) print\n",
    "\n",
    "2) return\n",
    "\n",
    "3) yield"
   ]
  }
 ],
 "metadata": {
  "kernelspec": {
   "display_name": "Python 3 (ipykernel)",
   "language": "python",
   "name": "python3"
  },
  "language_info": {
   "codemirror_mode": {
    "name": "ipython",
    "version": 3
   },
   "file_extension": ".py",
   "mimetype": "text/x-python",
   "name": "python",
   "nbconvert_exporter": "python",
   "pygments_lexer": "ipython3",
   "version": "3.9.13"
  }
 },
 "nbformat": 4,
 "nbformat_minor": 5
}
