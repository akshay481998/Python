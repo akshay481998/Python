{
 "cells": [
  {
   "cell_type": "markdown",
   "id": "602d102a",
   "metadata": {},
   "source": [
    "#### 1) Write a Python Program to Display Fibonacci Sequence Using Recursion?"
   ]
  },
  {
   "cell_type": "code",
   "execution_count": 13,
   "id": "46634c65",
   "metadata": {},
   "outputs": [
    {
     "name": "stdout",
     "output_type": "stream",
     "text": [
      "How many terms you want? 10\n",
      "Febonacci sequence\n",
      "0\n",
      "1\n",
      "1\n",
      "2\n",
      "3\n",
      "5\n",
      "8\n",
      "13\n",
      "21\n",
      "34\n"
     ]
    }
   ],
   "source": [
    "def Febonacci(n):\n",
    "    if n <= 1:\n",
    "        return n\n",
    "    else:\n",
    "        return Febonacci(n-1) + Febonacci(n-2)\n",
    "nterms = int(input(\"How many terms you want? \"))\n",
    "if nterms <= 0:\n",
    "    print(\"Please enter a positive integer\")\n",
    "else:\n",
    "    print(\"Febonacci sequence\")\n",
    "    for i in range(nterms):\n",
    "        print(Febonacci(i))"
   ]
  },
  {
   "cell_type": "markdown",
   "id": "95c17682",
   "metadata": {},
   "source": [
    "#### 2) Write a Python Program to Find Factorial of Number Using Recursion?"
   ]
  },
  {
   "cell_type": "code",
   "execution_count": 15,
   "id": "3da2c882",
   "metadata": {},
   "outputs": [],
   "source": [
    "def fact(n):\n",
    "    if n < 0:\n",
    "        print(\"Sorry, The factorial does not exists for negative numbers.\")\n",
    "    elif n <= 1:\n",
    "        return 1\n",
    "    else:\n",
    "        return n*fact(n-1)"
   ]
  },
  {
   "cell_type": "code",
   "execution_count": 19,
   "id": "ac2b722c",
   "metadata": {},
   "outputs": [
    {
     "data": {
      "text/plain": [
       "24"
      ]
     },
     "execution_count": 19,
     "metadata": {},
     "output_type": "execute_result"
    }
   ],
   "source": [
    "fact(4)"
   ]
  },
  {
   "cell_type": "markdown",
   "id": "a460be6f",
   "metadata": {},
   "source": [
    "#### 3) Write a Python Program to calculate your Body Mass Index?"
   ]
  },
  {
   "cell_type": "code",
   "execution_count": 32,
   "id": "e831aee5",
   "metadata": {},
   "outputs": [],
   "source": [
    "# where weight in kg and height in meters.\n",
    "\n",
    "def BMI(height,weight):\n",
    "    bmi = weight/(height**2)\n",
    "    return bmi"
   ]
  },
  {
   "cell_type": "code",
   "execution_count": 33,
   "id": "acb77d1f",
   "metadata": {},
   "outputs": [
    {
     "data": {
      "text/plain": [
       "21.64532402096181"
      ]
     },
     "execution_count": 33,
     "metadata": {},
     "output_type": "execute_result"
    }
   ],
   "source": [
    "BMI(1.79832,70)"
   ]
  },
  {
   "cell_type": "markdown",
   "id": "d237d241",
   "metadata": {},
   "source": [
    "#### 4) Write a Python Program to calculate the natural logarithm of any number?"
   ]
  },
  {
   "cell_type": "code",
   "execution_count": 38,
   "id": "961c4438",
   "metadata": {},
   "outputs": [
    {
     "name": "stdout",
     "output_type": "stream",
     "text": [
      "Enter the number 10\n",
      "The log 10 is 2.302585092994046\n"
     ]
    }
   ],
   "source": [
    "import math\n",
    "number = int(input(\"Enter the number \"))\n",
    "ans = math.log(number)\n",
    "print(\"The log\",number,\"is\",ans)"
   ]
  },
  {
   "cell_type": "markdown",
   "id": "bae39e20",
   "metadata": {},
   "source": [
    "#### 5) Write a Python Program for cube sum of first n natural numbers?"
   ]
  },
  {
   "cell_type": "code",
   "execution_count": 45,
   "id": "b62bd734",
   "metadata": {},
   "outputs": [],
   "source": [
    "def cube_sum(n):\n",
    "    sum = 0\n",
    "    for i in range(1,n+1):\n",
    "        sum = sum + pow(i,3)\n",
    "    return sum"
   ]
  },
  {
   "cell_type": "code",
   "execution_count": 46,
   "id": "7fc4d077",
   "metadata": {},
   "outputs": [
    {
     "data": {
      "text/plain": [
       "225"
      ]
     },
     "execution_count": 46,
     "metadata": {},
     "output_type": "execute_result"
    }
   ],
   "source": [
    "cube_sum(5)"
   ]
  }
 ],
 "metadata": {
  "kernelspec": {
   "display_name": "Python 3 (ipykernel)",
   "language": "python",
   "name": "python3"
  },
  "language_info": {
   "codemirror_mode": {
    "name": "ipython",
    "version": 3
   },
   "file_extension": ".py",
   "mimetype": "text/x-python",
   "name": "python",
   "nbconvert_exporter": "python",
   "pygments_lexer": "ipython3",
   "version": "3.9.13"
  }
 },
 "nbformat": 4,
 "nbformat_minor": 5
}
