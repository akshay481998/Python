{
 "cells": [
  {
   "cell_type": "markdown",
   "id": "1fb7e97a",
   "metadata": {},
   "source": [
    "### Q1"
   ]
  },
  {
   "cell_type": "code",
   "execution_count": 3,
   "id": "d1107815",
   "metadata": {},
   "outputs": [
    {
     "name": "stdout",
     "output_type": "stream",
     "text": [
      "Enter the value of kilometers: 6\n",
      "The Entered value in miles:  3.7282260000000003\n"
     ]
    }
   ],
   "source": [
    "km = float(input(\"Enter the value of kilometers: \"))\n",
    "#1 km = 0.621371 miles\n",
    "miles = km*0.621371\n",
    "print(\"The Entered value in miles: \",miles)"
   ]
  },
  {
   "cell_type": "markdown",
   "id": "20f3b9af",
   "metadata": {},
   "source": [
    "### Q2"
   ]
  },
  {
   "cell_type": "code",
   "execution_count": 6,
   "id": "157bb8aa",
   "metadata": {},
   "outputs": [
    {
     "name": "stdout",
     "output_type": "stream",
     "text": [
      "Enter the value of temperature in degree of celsius: 34\n",
      "The 34.00 degree Celsius is equal to: 93.20 Fahrenheit\n"
     ]
    }
   ],
   "source": [
    "Celsius = float(input(\"Enter the value of temperature in degree of celsius: \"))\n",
    "#formula \n",
    "Fahrenheit = (Celsius*9/5) + 32 \n",
    "print ('The %.2f degree Celsius is equal to: %.2f Fahrenheit'  \n",
    "      %(Celsius, Fahrenheit))  "
   ]
  },
  {
   "cell_type": "markdown",
   "id": "23b0ef9d",
   "metadata": {},
   "source": [
    "### Q3"
   ]
  },
  {
   "cell_type": "code",
   "execution_count": 13,
   "id": "54be5507",
   "metadata": {},
   "outputs": [
    {
     "name": "stdout",
     "output_type": "stream",
     "text": [
      "Enter year: 2022\n",
      "Enter month: 06\n",
      "     June 2022\n",
      "Mo Tu We Th Fr Sa Su\n",
      "       1  2  3  4  5\n",
      " 6  7  8  9 10 11 12\n",
      "13 14 15 16 17 18 19\n",
      "20 21 22 23 24 25 26\n",
      "27 28 29 30\n",
      "\n"
     ]
    }
   ],
   "source": [
    "import calendar\n",
    "Year = int(input(\"Enter year: \"))\n",
    "Month = int(input(\"Enter month: \"))\n",
    "print(calendar.month(Year,Month))"
   ]
  },
  {
   "cell_type": "markdown",
   "id": "8058af59",
   "metadata": {},
   "source": [
    "### Q4"
   ]
  },
  {
   "cell_type": "code",
   "execution_count": 14,
   "id": "69ccde65",
   "metadata": {},
   "outputs": [
    {
     "name": "stdout",
     "output_type": "stream",
     "text": [
      "Enter the value of a: 1\n",
      "Enter the value of b: 5\n",
      "Enter the value of c: 6\n",
      "The solution are (-3+0j) and (-2+0j)\n"
     ]
    }
   ],
   "source": [
    "import cmath\n",
    "a = int(input(\"Enter the value of a: \"))\n",
    "b = int(input(\"Enter the value of b: \"))\n",
    "c = int(input(\"Enter the value of c: \"))\n",
    "\n",
    "# calculate the discriminant\n",
    "d = (b**2) - (4*a*c)\n",
    "\n",
    "# find two solutions\n",
    "sol_x = (-b-cmath.sqrt(d))/(2*a)\n",
    "sol_y = (-b+cmath.sqrt(d))/(2*a)\n",
    "\n",
    "print('The solution are {0} and {1}'.format(sol_x,sol_y))\n"
   ]
  },
  {
   "cell_type": "markdown",
   "id": "1ef9bb8f",
   "metadata": {},
   "source": [
    "### Q5"
   ]
  },
  {
   "cell_type": "code",
   "execution_count": 16,
   "id": "92b9ba3e",
   "metadata": {},
   "outputs": [
    {
     "name": "stdout",
     "output_type": "stream",
     "text": [
      "The value of x :  6 and y :  5\n"
     ]
    }
   ],
   "source": [
    "x = 5\n",
    "y = 6\n",
    "x,y = y,x\n",
    "print(\"The value of x : \",x,\"and y : \", y)"
   ]
  }
 ],
 "metadata": {
  "kernelspec": {
   "display_name": "Python 3 (ipykernel)",
   "language": "python",
   "name": "python3"
  },
  "language_info": {
   "codemirror_mode": {
    "name": "ipython",
    "version": 3
   },
   "file_extension": ".py",
   "mimetype": "text/x-python",
   "name": "python",
   "nbconvert_exporter": "python",
   "pygments_lexer": "ipython3",
   "version": "3.9.7"
  }
 },
 "nbformat": 4,
 "nbformat_minor": 5
}
