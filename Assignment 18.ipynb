{
 "cells": [
  {
   "cell_type": "markdown",
   "id": "7be7ed40",
   "metadata": {},
   "source": [
    "### Question1. Create a function that takes a list of non-negative integers and strings and return a new list without the strings.\n",
    "- Examples\n",
    "- filter_list([1, 2, &quot;a&quot;, &quot;b&quot;]) ➞ [1, 2]\n",
    "- filter_list([1, &quot;a&quot;, &quot;b&quot;, 0, 15]) ➞ [1, 0, 15]\n",
    "- filter_list([1, 2, &quot;aasf&quot;, &quot;1&quot;, &quot;123&quot;, 123]) ➞ [1, 2, 123]"
   ]
  },
  {
   "cell_type": "code",
   "execution_count": 1,
   "id": "5673e6ea",
   "metadata": {},
   "outputs": [],
   "source": [
    "def filter_list(lst):\n",
    "    return [x for x in lst if isinstance(x,int)]"
   ]
  },
  {
   "cell_type": "code",
   "execution_count": 2,
   "id": "fec6665f",
   "metadata": {},
   "outputs": [
    {
     "data": {
      "text/plain": [
       "[1, 2]"
      ]
     },
     "execution_count": 2,
     "metadata": {},
     "output_type": "execute_result"
    }
   ],
   "source": [
    "filter_list([1, 2, \"a\", \"b\"])"
   ]
  },
  {
   "cell_type": "markdown",
   "id": "1123a278",
   "metadata": {},
   "source": [
    "### Question2. The &quot;Reverser&quot; takes a string as input and returns that string in reverse order, with the opposite case.\n",
    "- Examples\n",
    "- reverse(&quot;Hello World&quot;) ➞ &quot;DLROw OLLEh&quot;\n",
    "- reverse(&quot;ReVeRsE&quot;) ➞ &quot;eSrEvEr&quot;\n",
    "- reverse(&quot;Radar&quot;) ➞ &quot;RADAr&quot;"
   ]
  },
  {
   "cell_type": "code",
   "execution_count": 11,
   "id": "d33f52ef",
   "metadata": {},
   "outputs": [],
   "source": [
    "def reverse(string):\n",
    "    reversed_string = string[::-1]\n",
    "    result = \"\"\n",
    "    for char in reversed_string:\n",
    "        if char.islower():\n",
    "            result += char.upper()\n",
    "        else:\n",
    "            result += char.lower()\n",
    "    return result"
   ]
  },
  {
   "cell_type": "code",
   "execution_count": 12,
   "id": "14407f34",
   "metadata": {},
   "outputs": [
    {
     "data": {
      "text/plain": [
       "'DLROw OLLEh'"
      ]
     },
     "execution_count": 12,
     "metadata": {},
     "output_type": "execute_result"
    }
   ],
   "source": [
    "reverse(\"Hello World\")"
   ]
  },
  {
   "cell_type": "markdown",
   "id": "21569d34",
   "metadata": {},
   "source": [
    "### Question3. You can assign variables from lists like this:\n",
    "- lst = [1, 2, 3, 4, 5, 6]\n",
    "- first = lst[0]\n",
    "- middle = lst[1:-1]\n",
    "- last = lst[-1]\n",
    "- print(first) ➞ outputs 1\n",
    "- print(middle) ➞ outputs [2, 3, 4, 5]\n",
    "- print(last) ➞ outputs 6\n",
    "\n",
    "- With Python 3, you can assign variables from lists in a much more succinct way. Create variables first, middle and last from the given list using destructuring assignment (check the Resources tab for some examples), where:\n",
    "- first ➞ 1\n",
    "- middle ➞ [2, 3, 4, 5]\n",
    "- last ➞ 6\n",
    "\n",
    "- Your task is to unpack the list writeyourcodehere into three variables, being first, middle, and last, with middle being everything in between the first and last element. Then print all three variables."
   ]
  },
  {
   "cell_type": "code",
   "execution_count": 13,
   "id": "ccfcf0e3",
   "metadata": {},
   "outputs": [
    {
     "name": "stdout",
     "output_type": "stream",
     "text": [
      "1\n",
      "[2, 3, 4, 5]\n",
      "6\n"
     ]
    }
   ],
   "source": [
    "writeyourcodehere = [1, 2, 3, 4, 5, 6]\n",
    "\n",
    "first, *middle, last = writeyourcodehere\n",
    "\n",
    "print(first)  \n",
    "print(middle)  \n",
    "print(last)  "
   ]
  },
  {
   "cell_type": "markdown",
   "id": "321220aa",
   "metadata": {},
   "source": [
    "## Question4. Write a function that calculates the factorial of a number recursively.\n",
    "- Examples\n",
    "- factorial(5) ➞ 120\n",
    "- factorial(3) ➞ 6\n",
    "- factorial(1) ➞ 1\n",
    "- factorial(0) ➞ 1"
   ]
  },
  {
   "cell_type": "code",
   "execution_count": 14,
   "id": "b6953f6c",
   "metadata": {},
   "outputs": [],
   "source": [
    "def fact(a):\n",
    "    if a == 0 or a == 1:\n",
    "        return 1\n",
    "    else:\n",
    "        return a * fact(a-1)"
   ]
  },
  {
   "cell_type": "code",
   "execution_count": 15,
   "id": "a1faad2e",
   "metadata": {},
   "outputs": [
    {
     "data": {
      "text/plain": [
       "120"
      ]
     },
     "execution_count": 15,
     "metadata": {},
     "output_type": "execute_result"
    }
   ],
   "source": [
    "fact(5)"
   ]
  },
  {
   "cell_type": "markdown",
   "id": "6b3a1b86",
   "metadata": {},
   "source": [
    "### Question5. Write a function that moves all elements of one type to the end of the list.\n",
    "- Examples\n",
    "- move_to_end([1, 3, 2, 4, 4, 1], 1) ➞ [3, 2, 4, 4, 1, 1]\n",
    "### Move all the 1s to the end of the array.\n",
    "- move_to_end([7, 8, 9, 1, 2, 3, 4], 9) ➞ [7, 8, 1, 2, 3, 4, 9]\n",
    "- move_to_end([&quot;a&quot;, &quot;a&quot;, &quot;a&quot;, &quot;b&quot;], &quot;a&quot;) ➞ [&quot;b&quot;, &quot;a&quot;, &quot;a&quot;, &quot;a&quot;]"
   ]
  },
  {
   "cell_type": "code",
   "execution_count": 23,
   "id": "983b4312",
   "metadata": {},
   "outputs": [],
   "source": [
    "def move_to_end(lst,element):\n",
    "    count = lst.count(element)\n",
    "    lst = [x for x in lst if x != element]\n",
    "    lst.extend([element]*count)\n",
    "    return lst"
   ]
  },
  {
   "cell_type": "code",
   "execution_count": 25,
   "id": "7e9f934a",
   "metadata": {},
   "outputs": [
    {
     "data": {
      "text/plain": [
       "[7, 8, 1, 2, 3, 4, 9]"
      ]
     },
     "execution_count": 25,
     "metadata": {},
     "output_type": "execute_result"
    }
   ],
   "source": [
    "move_to_end([7, 8, 9, 1, 2, 3, 4], 9)"
   ]
  },
  {
   "cell_type": "code",
   "execution_count": 26,
   "id": "cba8ad25",
   "metadata": {},
   "outputs": [
    {
     "data": {
      "text/plain": [
       "[3, 2, 4, 4, 1, 1]"
      ]
     },
     "execution_count": 26,
     "metadata": {},
     "output_type": "execute_result"
    }
   ],
   "source": [
    "move_to_end([1, 3, 2, 4, 4, 1], 1)"
   ]
  }
 ],
 "metadata": {
  "kernelspec": {
   "display_name": "Python 3 (ipykernel)",
   "language": "python",
   "name": "python3"
  },
  "language_info": {
   "codemirror_mode": {
    "name": "ipython",
    "version": 3
   },
   "file_extension": ".py",
   "mimetype": "text/x-python",
   "name": "python",
   "nbconvert_exporter": "python",
   "pygments_lexer": "ipython3",
   "version": "3.9.13"
  }
 },
 "nbformat": 4,
 "nbformat_minor": 5
}
