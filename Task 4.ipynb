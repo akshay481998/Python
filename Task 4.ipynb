{
 "cells": [
  {
   "cell_type": "raw",
   "id": "dd4db576",
   "metadata": {},
   "source": [
    "q1 : Try to print this by using while loop \n",
    "* \n",
    "* * \n",
    "* * * \n",
    "* * * * \n",
    "* * * * * \n",
    "* * * * * * \n",
    "* * * * * * * \n",
    "* * * * * * * * \n",
    "* * * * * * * * * \n",
    "\n",
    "q2 : try to print below by using while loop : \n",
    "        \n",
    "A\n",
    "B H \n",
    "C I N\n",
    "D J o S\n",
    "E K p T W\n",
    "F L Q U X z\n",
    "G M R V Y \n",
    "\n",
    "q3 : Try to print all the number divisible by 3 in between a range of 40 - 400\n",
    "    \n",
    "q4 : Try to filter out all the vowels form below text by using while loop : \n",
    " \"\"\"Python is a high-level, interpreted, general-purpose programming language. Its design philosophy emphasizes code readability with the use of significant indentation.[32]\n",
    "\n",
    "Python is dynamically-typed and garbage-collected. It supports multiple programming paradigms, including structured (particularly procedural), object-oriented and functional programming. It is often described as a \"batteries included\" language due to its comprehensive standard library.[33][34]\n",
    "\n",
    "Guido van Rossum began working on Python in the late 1980s as a successor to the ABC programming language and first released it in 1991 as Python 0.9.0.[35] Python 2.0 was released in 2000 and introduced new features such as list comprehensions, cycle-detecting garbage collection, reference counting, and Unicode support. Python 3.0, released in 2008, was a major revision that is not completely backward-compatible with earlier versions. Python 2 was discontinued with version 2.7.18 in 2020.[36]\n",
    "\n",
    "Python consistently ranks as one of the most popular programming languagesc\"\"\" \n",
    "\n",
    "\n",
    "q5 : Try to generate all the even number between 1- 1000\n",
    "\n",
    "q6 : Define a function for all the above problem statememnt  . \n",
    "    \n",
    "q7 : write a code to get a time of your system \n",
    "\n",
    "q8 : Write a code to fetch date form your system \n",
    "\n",
    "q9 : Write a code to send a mail to your friend \n",
    "\n",
    "q10 : write a code to trigger alarm for you at scheduled time \n",
    "\n",
    "q11 : write a code to check ip address of your system \n",
    "\n",
    "q12 : Write a code to check a perticular installation in your system\n",
    "\n",
    "q13 : Write a code to convert any text in to voice \n",
    "\n",
    "q14 : you have to write a fun which will take string and return a len of \n",
    "it without using a inbuilt fun len\n",
    "\n",
    "q15 :write a fun which will be able to print an index of all premitive element which you will pass \n",
    "\n",
    "q16 : Write a fun which will take input as a dict and give me out as a list of all the values \n",
    "even in case of 2 level nesting it should work . \n",
    "\n",
    "q17 : write a function whihc will take multiple list as a input and give me concatnation of all the element as \n",
    "and output\n",
    "\n",
    "q18 : Write a function which will whould return list of all the file name from a directory . \n",
    "\n",
    "q19 : write a function whihc will be able to read a image file and show it to you .\n",
    "    \n",
    "q20 : write a function by which you will be able to append two PDF files . \n",
    "    \n",
    "q21 : write a function which can help you to filter only word file from a directory . \n",
    "    \n",
    "q22 : write a function which can read video file and play for you . \n",
    "    \n",
    "q23 : write a function which will be able to shutdonw your system . \n",
    "\n",
    "q24 : Write a function which will whould return list of all the file name from a directory . \n",
    "\n",
    "q25 : write a function whihc will be able to access your mail . \n",
    "        "
   ]
  },
  {
   "cell_type": "raw",
   "id": "61bd15d3",
   "metadata": {},
   "source": [
    "#### Q1 : Try to print this by using while loop \n",
    "* \n",
    "* * \n",
    "* * * \n",
    "* * * * \n",
    "* * * * * \n",
    "* * * * * * \n",
    "* * * * * * * \n",
    "* * * * * * * * \n",
    "* * * * * * * * * "
   ]
  },
  {
   "cell_type": "code",
   "execution_count": 1,
   "id": "65c2a91a",
   "metadata": {},
   "outputs": [
    {
     "name": "stdout",
     "output_type": "stream",
     "text": [
      "The number of rows = 9\n",
      "* \n",
      "* * \n",
      "* * * \n",
      "* * * * \n",
      "* * * * * \n",
      "* * * * * * \n",
      "* * * * * * * \n",
      "* * * * * * * * \n",
      "* * * * * * * * * \n"
     ]
    }
   ],
   "source": [
    "i = int(input(\"The number of rows = \"))\n",
    "n = 1\n",
    "while n <= i :\n",
    "    print('* '*n)\n",
    "    n = n + 1"
   ]
  },
  {
   "cell_type": "raw",
   "id": "7e212ef4",
   "metadata": {},
   "source": [
    "q2 : try to print below by using while loop : \n",
    "        \n",
    "A\n",
    "B H \n",
    "C I N\n",
    "D J o S\n",
    "E K p T W\n",
    "F L Q U X z\n",
    "G M R V Y "
   ]
  },
  {
   "cell_type": "code",
   "execution_count": null,
   "id": "92f96adc",
   "metadata": {},
   "outputs": [],
   "source": [
    "x = 0\n",
    "while x < 8 :\n",
    "    content = \"\"\n",
    "    y=0\n",
    "    while y<x:\n",
    "        z=0\n",
    "        sum=0\n",
    "        while z<y :\n",
    "            sum += 6-z\n",
    "            z+=1\n",
    "        if (x + 64 + sum) <= (64 + 26):\n",
    "            content += \" \" + chr(x + 64 + sum)\n",
    "        y+=1\n",
    "    print(content)\n",
    "    x+=1\n",
    "             "
   ]
  },
  {
   "cell_type": "code",
   "execution_count": null,
   "id": "79b63b9f",
   "metadata": {},
   "outputs": [],
   "source": [
    "i = 0\n",
    "while i < 7 :\n",
    "    c = 65 + i\n",
    "    j = 0\n",
    "    while j < (i+1) :\n",
    "        if c == 91 :\n",
    "            break\n",
    "        print(chr(c),end = \" \")\n",
    "        c = c+6-j\n",
    "        j+=1\n",
    "    i+=1\n",
    "    print()\n",
    "    "
   ]
  },
  {
   "cell_type": "markdown",
   "id": "e991ad50",
   "metadata": {},
   "source": [
    "#### Q3 : Try to print all the number divisible by 3 in between a range of 40 - 400"
   ]
  },
  {
   "cell_type": "code",
   "execution_count": null,
   "id": "957b13ee",
   "metadata": {},
   "outputs": [],
   "source": [
    "i = 40 \n",
    "while i <= 400 :\n",
    "    if i%3 == 0 :\n",
    "        print(i)\n",
    "    i+=1"
   ]
  },
  {
   "cell_type": "markdown",
   "id": "86ae7e9d",
   "metadata": {},
   "source": [
    "#### Q4 : Try to filter out all the vowels form below text by using while loop : \n",
    " \"\"\"Python is a high-level, interpreted, general-purpose programming language. Its design philosophy emphasizes code readability with the use of significant indentation.[32]\n",
    "\n",
    "Python is dynamically-typed and garbage-collected. It supports multiple programming paradigms, including structured (particularly procedural), object-oriented and functional programming. It is often described as a \"batteries included\" language due to its comprehensive standard library.[33][34]\n",
    "\n",
    "Guido van Rossum began working on Python in the late 1980s as a successor to the ABC programming language and first released it in 1991 as Python 0.9.0.[35] Python 2.0 was released in 2000 and introduced new features such as list comprehensions, cycle-detecting garbage collection, reference counting, and Unicode support. Python 3.0, released in 2008, was a major revision that is not completely backward-compatible with earlier versions. Python 2 was discontinued with version 2.7.18 in 2020.[36]\n",
    "\n",
    "Python consistently ranks as one of the most popular programming languagesc\"\"\" "
   ]
  },
  {
   "cell_type": "code",
   "execution_count": null,
   "id": "70bfb0ff",
   "metadata": {},
   "outputs": [],
   "source": [
    "s = \"\"\"Python is a high-level, interpreted, general-purpose programming language. Its design philosophy emphasizes code readability with the use of significant indentation.[32]\n",
    "\n",
    "Python is dynamically-typed and garbage-collected. It supports multiple programming paradigms, including structured (particularly procedural), object-oriented and functional programming. It is often described as a \"batteries included\" language due to its comprehensive standard library.[33][34]\n",
    "\n",
    "Guido van Rossum began working on Python in the late 1980s as a successor to the ABC programming language and first released it in 1991 as Python 0.9.0.[35] Python 2.0 was released in 2000 and introduced new features such as list comprehensions, cycle-detecting garbage collection, reference counting, and Unicode support. Python 3.0, released in 2008, was a major revision that is not completely backward-compatible with earlier versions. Python 2 was discontinued with version 2.7.18 in 2020.[36]\n",
    "\n",
    "Python consistently ranks as one of the most popular programming languagesc\"\"\" \n"
   ]
  },
  {
   "cell_type": "code",
   "execution_count": null,
   "id": "313c4a60",
   "metadata": {},
   "outputs": [],
   "source": [
    "i = 0\n",
    "v = 'aeiou'\n",
    "s = s.lower()\n",
    "while i < len(s) :\n",
    "    if s[i] in v :\n",
    "        print(s[i])\n",
    "    i+=1"
   ]
  },
  {
   "cell_type": "markdown",
   "id": "587cab9f",
   "metadata": {},
   "source": [
    "#### Q5 : Try to generate all the even number between 1- 1000\n"
   ]
  },
  {
   "cell_type": "code",
   "execution_count": null,
   "id": "c16a7382",
   "metadata": {},
   "outputs": [],
   "source": [
    "i = 1\n",
    "while i <= 1000 :\n",
    "    if i%2 == 0 :\n",
    "        print(i)\n",
    "    i+=1"
   ]
  },
  {
   "cell_type": "markdown",
   "id": "2842beab",
   "metadata": {},
   "source": [
    "#### Q6 : Define a function for all the above problem statememnt  . "
   ]
  },
  {
   "cell_type": "code",
   "execution_count": null,
   "id": "601380fc",
   "metadata": {},
   "outputs": [],
   "source": [
    "def vowel(s) :\n",
    "    i = 0\n",
    "    v = 'aeiou'\n",
    "    s = s.lower()\n",
    "    while i < len(s) :\n",
    "        if s[i] in v :\n",
    "            print(s[i])\n",
    "        i+=1\n",
    " "
   ]
  },
  {
   "cell_type": "code",
   "execution_count": null,
   "id": "ff61547e",
   "metadata": {},
   "outputs": [],
   "source": [
    "vowel(s)"
   ]
  },
  {
   "cell_type": "markdown",
   "id": "17d5eb52",
   "metadata": {},
   "source": [
    "#### Q7 : write a code to get a time of your system "
   ]
  },
  {
   "cell_type": "code",
   "execution_count": null,
   "id": "036fc47b",
   "metadata": {},
   "outputs": [],
   "source": [
    "import datetime\n",
    "datetime.datetime.now().time()"
   ]
  },
  {
   "cell_type": "markdown",
   "id": "8ed693e5",
   "metadata": {},
   "source": [
    "#### Q8 : Write a code to fetch date form your system \n"
   ]
  },
  {
   "cell_type": "code",
   "execution_count": null,
   "id": "b6f28457",
   "metadata": {},
   "outputs": [],
   "source": [
    "import datetime\n",
    "datetime.date.today()"
   ]
  },
  {
   "cell_type": "code",
   "execution_count": null,
   "id": "bcadaadc",
   "metadata": {},
   "outputs": [],
   "source": [
    "import smtplib\n",
    "server = smtplib.SMTP('smtp.gmail.com',587)\n",
    "\n",
    "server.starttls()\n",
    "\n",
    "server.login('kadamakshays911@gmail.com',\"Swami@8605\")\n",
    "\n",
    "server.sendmail('akshaykadam481998@gmail.com','TEST EMAIL from Python')\n",
    "\n",
    "print('Mail sent')\n"
   ]
  },
  {
   "cell_type": "markdown",
   "id": "e2a0a1a8",
   "metadata": {},
   "source": [
    "#### Q10 : write a code to trigger alarm for you at scheduled time "
   ]
  },
  {
   "cell_type": "code",
   "execution_count": null,
   "id": "504532ea",
   "metadata": {},
   "outputs": [],
   "source": [
    "!pip install playsound"
   ]
  },
  {
   "cell_type": "code",
   "execution_count": null,
   "id": "472f2062",
   "metadata": {},
   "outputs": [],
   "source": [
    "import time\n",
    "import playsound\n",
    "\n",
    "alarm_time = '10:22'\n",
    "if time.asctime()[11:-8] == alarm_time :\n",
    "    absolute_path = os.path.abspath(\"texttovoice.mp3\")\n",
    "    print(absolute_path)\n",
    "    playsound.playsound(absolute_path)\n"
   ]
  },
  {
   "cell_type": "markdown",
   "id": "d79f6011",
   "metadata": {},
   "source": [
    "#### Q11 : write a code to check ip address of your system \n"
   ]
  },
  {
   "cell_type": "code",
   "execution_count": null,
   "id": "45435f86",
   "metadata": {},
   "outputs": [],
   "source": [
    "import socket\n",
    "host= socket.gethostname()\n",
    "ip = socket.gethostbyname(host)\n",
    "print(\"your ip address is \", ip)\n",
    "print(\"your computer name is \", host)"
   ]
  },
  {
   "cell_type": "markdown",
   "id": "7be2f9ce",
   "metadata": {},
   "source": [
    "#### Q12 : Write a code to check a perticular installation in your system"
   ]
  },
  {
   "cell_type": "code",
   "execution_count": null,
   "id": "a1a49975",
   "metadata": {},
   "outputs": [],
   "source": [
    "import winapps\n",
    "\n",
    "list(winapps.list_installed())"
   ]
  },
  {
   "cell_type": "code",
   "execution_count": null,
   "id": "20ae5deb",
   "metadata": {},
   "outputs": [],
   "source": [
    "!pip install winapps"
   ]
  },
  {
   "cell_type": "markdown",
   "id": "028b2afb",
   "metadata": {},
   "source": [
    "#### Q13 : Write a code to convert any text in to voice "
   ]
  },
  {
   "cell_type": "code",
   "execution_count": null,
   "id": "9dc59d48",
   "metadata": {},
   "outputs": [],
   "source": [
    "import gtts\n",
    "from playsound import playsound\n",
    "def txt_to_voice(str1):\n",
    "    tts=gtts.gTTS(str1)\n",
    "    tts.save(\"Hello.mp3\")\n",
    "    playsound(\"Hello.mp3\")\n",
    "            \n",
    "Text=input(\"Enter the text to convert to voice: \")\n",
    "txt_to_voice(Text)\n"
   ]
  },
  {
   "cell_type": "markdown",
   "id": "a99b20f3",
   "metadata": {},
   "source": [
    "#### Q14 : you have to write a fun which will take string and return a len of it without using a inbuilt fun len"
   ]
  },
  {
   "cell_type": "code",
   "execution_count": null,
   "id": "6627ded0",
   "metadata": {},
   "outputs": [],
   "source": [
    "def str_len(s) :\n",
    "    count=0\n",
    "    for i in s :\n",
    "        count = count+1\n",
    "    return count"
   ]
  },
  {
   "cell_type": "code",
   "execution_count": null,
   "id": "9274d69d",
   "metadata": {},
   "outputs": [],
   "source": [
    "str_len(\"Akshay\")"
   ]
  },
  {
   "cell_type": "markdown",
   "id": "a78d1e7a",
   "metadata": {},
   "source": [
    "#### Q15 :write a fun which will be able to print an index of all premitive element which you will pass "
   ]
  },
  {
   "cell_type": "code",
   "execution_count": null,
   "id": "8f97d363",
   "metadata": {},
   "outputs": [],
   "source": [
    "def print_prim(l) :\n",
    "    for i in range(len(l)):\n",
    "        print(i)"
   ]
  },
  {
   "cell_type": "code",
   "execution_count": null,
   "id": "60d5d0b9",
   "metadata": {},
   "outputs": [],
   "source": [
    "print_prim([12,2,3,5,4,5,5,\"Sudh\",[1,2,3,4,5,6]])"
   ]
  },
  {
   "cell_type": "markdown",
   "id": "0152d807",
   "metadata": {},
   "source": [
    "#### Q16 : Write a fun which will take input as a dict and give me out as a list of all the values even in case of 2 level nesting it should work . "
   ]
  },
  {
   "cell_type": "code",
   "execution_count": null,
   "id": "133c081a",
   "metadata": {},
   "outputs": [],
   "source": [
    "d = {\"k1\" : \"value\", \"k2\":\"values\",\"k3\":{\"k12\":\"sudh\", \"k13\":\"Akshay\"}}"
   ]
  },
  {
   "cell_type": "code",
   "execution_count": null,
   "id": "fc1b65c9",
   "metadata": {},
   "outputs": [],
   "source": [
    "def dict_to_list(d) :\n",
    "    l=[]\n",
    "    for i in d.values() :\n",
    "        if type(i) != dict :\n",
    "            l.append(i)\n",
    "        if type(i) == dict :\n",
    "            for j in i.values() :\n",
    "                l.append(j)\n",
    "    return l"
   ]
  },
  {
   "cell_type": "code",
   "execution_count": null,
   "id": "a70f5cf6",
   "metadata": {},
   "outputs": [],
   "source": [
    "dict_to_list(d)"
   ]
  },
  {
   "cell_type": "code",
   "execution_count": null,
   "id": "126dbad3",
   "metadata": {},
   "outputs": [],
   "source": [
    "d.values()"
   ]
  },
  {
   "cell_type": "markdown",
   "id": "3aa936d4",
   "metadata": {},
   "source": [
    "#### Q19 : write a function whihc will be able to read a image file and show it to you ."
   ]
  },
  {
   "cell_type": "code",
   "execution_count": null,
   "id": "522ae5f5",
   "metadata": {},
   "outputs": [],
   "source": [
    "!pip install opencv-python"
   ]
  },
  {
   "cell_type": "code",
   "execution_count": 2,
   "id": "ca26268b",
   "metadata": {},
   "outputs": [],
   "source": [
    "import cv2\n",
    "def read_img() :\n",
    "    a = cv2.imread('c:/Task.png')\n",
    "    cv2.imshow(\"myimg\",a)\n",
    "    cv2.waitkey(5000)\n",
    "    cv2.destroywindow('myimg')\n"
   ]
  }
 ],
 "metadata": {
  "kernelspec": {
   "display_name": "Python 3 (ipykernel)",
   "language": "python",
   "name": "python3"
  },
  "language_info": {
   "codemirror_mode": {
    "name": "ipython",
    "version": 3
   },
   "file_extension": ".py",
   "mimetype": "text/x-python",
   "name": "python",
   "nbconvert_exporter": "python",
   "pygments_lexer": "ipython3",
   "version": "3.9.7"
  }
 },
 "nbformat": 4,
 "nbformat_minor": 5
}
