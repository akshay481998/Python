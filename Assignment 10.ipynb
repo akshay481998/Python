{
 "cells": [
  {
   "cell_type": "markdown",
   "id": "6ee31996",
   "metadata": {},
   "source": [
    "#### 1) Write a Python program to find sum of elements in list?"
   ]
  },
  {
   "cell_type": "code",
   "execution_count": 1,
   "id": "e47f51eb",
   "metadata": {},
   "outputs": [
    {
     "name": "stdout",
     "output_type": "stream",
     "text": [
      "Sum of all elements in list 81\n"
     ]
    }
   ],
   "source": [
    "List = [11,12,13,14,15,16]\n",
    "total = 0\n",
    "for i in range(0,len(List)):\n",
    "    total = total + List[i]\n",
    "print(\"Sum of all elements in list\",total)"
   ]
  },
  {
   "cell_type": "markdown",
   "id": "f17de21a",
   "metadata": {},
   "source": [
    "#### 2) Write a Python program to Multiply all numbers in the list?"
   ]
  },
  {
   "cell_type": "code",
   "execution_count": 2,
   "id": "11fa89bb",
   "metadata": {},
   "outputs": [
    {
     "name": "stdout",
     "output_type": "stream",
     "text": [
      "Multiplication of all elements in a list 5765760\n"
     ]
    }
   ],
   "source": [
    "List = [11,12,13,14,15,16]\n",
    "mul = 1\n",
    "for i in range(0,len(List)):\n",
    "    mul = mul*List[i]\n",
    "print(\"Multiplication of all elements in a list\",mul)"
   ]
  },
  {
   "cell_type": "markdown",
   "id": "269d9159",
   "metadata": {},
   "source": [
    "#### 3) Write a Python program to find smallest number in a list?"
   ]
  },
  {
   "cell_type": "code",
   "execution_count": 3,
   "id": "6559ede2",
   "metadata": {},
   "outputs": [
    {
     "data": {
      "text/plain": [
       "10"
      ]
     },
     "execution_count": 3,
     "metadata": {},
     "output_type": "execute_result"
    }
   ],
   "source": [
    "List = [11,31,13,10,51,72]\n",
    "List.sort()\n",
    "List[0]"
   ]
  },
  {
   "cell_type": "markdown",
   "id": "da3b4c73",
   "metadata": {},
   "source": [
    "#### 4) Write a Python program to find largest number in a list?"
   ]
  },
  {
   "cell_type": "code",
   "execution_count": 4,
   "id": "f90f483d",
   "metadata": {},
   "outputs": [
    {
     "data": {
      "text/plain": [
       "72"
      ]
     },
     "execution_count": 4,
     "metadata": {},
     "output_type": "execute_result"
    }
   ],
   "source": [
    "List1 = [11,31,13,10,51,72]\n",
    "List1.sort(reverse=True)\n",
    "List1[0]"
   ]
  },
  {
   "cell_type": "markdown",
   "id": "2c826863",
   "metadata": {},
   "source": [
    "#### 5) Write a Python program to find second largest number in a list?"
   ]
  },
  {
   "cell_type": "code",
   "execution_count": 5,
   "id": "817278c7",
   "metadata": {},
   "outputs": [
    {
     "name": "stdout",
     "output_type": "stream",
     "text": [
      "51\n"
     ]
    }
   ],
   "source": [
    "List1 = [11,31,13,10,51,72]\n",
    "secondlarge = 0\n",
    "larger = min(List1)\n",
    "for i in range(len(List1)):\n",
    "    if List1[i] > larger:\n",
    "        secondlarge = larger\n",
    "        larger = List1[i]\n",
    "    else:\n",
    "        secondlarge = max(secondlarge, List1[i])\n",
    "print(secondlarge)"
   ]
  },
  {
   "cell_type": "markdown",
   "id": "4a8bc8c1",
   "metadata": {},
   "source": [
    "#### 6) Write a Python program to find N largest elements from a list?"
   ]
  },
  {
   "cell_type": "code",
   "execution_count": 6,
   "id": "28bf2358",
   "metadata": {},
   "outputs": [],
   "source": [
    "def Nmaxelements(List2,N):\n",
    "    final_list = []\n",
    "    for i in range(0,N):\n",
    "        max1 = 0\n",
    "        for j in range(len(List2)):\n",
    "            if List2[j] > max1:\n",
    "                max1 = List2[j]\n",
    "        List2.remove(max1)\n",
    "        final_list.append(max1)\n",
    "    print(final_list)"
   ]
  },
  {
   "cell_type": "code",
   "execution_count": 7,
   "id": "c72bdae2",
   "metadata": {},
   "outputs": [
    {
     "name": "stdout",
     "output_type": "stream",
     "text": [
      "[72, 51]\n"
     ]
    }
   ],
   "source": [
    "Nmaxelements([11,31,13,10,51,72],2)"
   ]
  },
  {
   "cell_type": "markdown",
   "id": "ce232de8",
   "metadata": {},
   "source": [
    "#### 7) Write a Python program to print even numbers in a list?"
   ]
  },
  {
   "cell_type": "code",
   "execution_count": 8,
   "id": "4f1ed9cc",
   "metadata": {},
   "outputs": [
    {
     "name": "stdout",
     "output_type": "stream",
     "text": [
      "[2, 4, 6, 8, 10]\n"
     ]
    }
   ],
   "source": [
    "l = [1,2,3,4,5,6,7,8,9,10]\n",
    "l1 = []\n",
    "for i in l:\n",
    "    if i%2 == 0:\n",
    "        l1.append(i)\n",
    "print(l1)"
   ]
  },
  {
   "cell_type": "markdown",
   "id": "76881b3a",
   "metadata": {},
   "source": [
    "#### 8) Write a Python program to print odd numbers in a List?"
   ]
  },
  {
   "cell_type": "code",
   "execution_count": 9,
   "id": "303ac8a3",
   "metadata": {},
   "outputs": [
    {
     "name": "stdout",
     "output_type": "stream",
     "text": [
      "[1, 3, 5, 7, 9]\n"
     ]
    }
   ],
   "source": [
    "l2 = [1,2,3,4,5,6,7,8,9,10]\n",
    "l3 = []\n",
    "for i in l2:\n",
    "    if i%2 != 0:\n",
    "        l3.append(i)\n",
    "print(l3)      "
   ]
  },
  {
   "cell_type": "markdown",
   "id": "be680bd3",
   "metadata": {},
   "source": [
    "#### 9) Write a Python program to Remove empty List from List?"
   ]
  },
  {
   "cell_type": "code",
   "execution_count": 10,
   "id": "8a70522d",
   "metadata": {},
   "outputs": [
    {
     "data": {
      "text/plain": [
       "[1, 2, 3, 4, 12]"
      ]
     },
     "execution_count": 10,
     "metadata": {},
     "output_type": "execute_result"
    }
   ],
   "source": [
    "l5 = [1,2,3,4,[],12,[]]\n",
    "while [] in l5:\n",
    "    l5.remove([])\n",
    "l5"
   ]
  },
  {
   "cell_type": "markdown",
   "id": "a1160346",
   "metadata": {},
   "source": [
    "#### 10) Write a Python program to Cloning or Copying a list?"
   ]
  },
  {
   "cell_type": "code",
   "execution_count": 11,
   "id": "06713bed",
   "metadata": {},
   "outputs": [],
   "source": [
    "def copy_list(li1):\n",
    "    li_copy = []\n",
    "    li_copy.extend(li1)\n",
    "    return li_copy, li1"
   ]
  },
  {
   "cell_type": "code",
   "execution_count": 12,
   "id": "20d077bb",
   "metadata": {},
   "outputs": [
    {
     "data": {
      "text/plain": [
       "([2, 5, 7, 83, 5, 8], [2, 5, 7, 83, 5, 8])"
      ]
     },
     "execution_count": 12,
     "metadata": {},
     "output_type": "execute_result"
    }
   ],
   "source": [
    "copy_list([2,5,7,83,5,8])"
   ]
  },
  {
   "cell_type": "markdown",
   "id": "36ac93d1",
   "metadata": {},
   "source": [
    "#### 11) Write a Python program to Count occurrences of an element in a list?"
   ]
  },
  {
   "cell_type": "code",
   "execution_count": 13,
   "id": "fcab7b59",
   "metadata": {},
   "outputs": [
    {
     "data": {
      "text/plain": [
       "{1: 4, 2: 4, 3: 2, 4: 4, 33: 1, 6: 1, 56: 1}"
      ]
     },
     "execution_count": 13,
     "metadata": {},
     "output_type": "execute_result"
    }
   ],
   "source": [
    "l = [1,2,1,2,2,1,2,1,3,4,6,56,4,3,4,4,33]\n",
    "a = set(l)\n",
    "dict = {}\n",
    "for i in a:\n",
    "    dict[i]=l.count(i)\n",
    "dict"
   ]
  }
 ],
 "metadata": {
  "kernelspec": {
   "display_name": "Python 3 (ipykernel)",
   "language": "python",
   "name": "python3"
  },
  "language_info": {
   "codemirror_mode": {
    "name": "ipython",
    "version": 3
   },
   "file_extension": ".py",
   "mimetype": "text/x-python",
   "name": "python",
   "nbconvert_exporter": "python",
   "pygments_lexer": "ipython3",
   "version": "3.9.13"
  }
 },
 "nbformat": 4,
 "nbformat_minor": 5
}
