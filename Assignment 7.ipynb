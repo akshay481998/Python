{
 "cells": [
  {
   "cell_type": "markdown",
   "id": "eeed709d",
   "metadata": {},
   "source": [
    "#### 1) Write a Python Program to find sum of array?"
   ]
  },
  {
   "cell_type": "code",
   "execution_count": 1,
   "id": "a6fed094",
   "metadata": {},
   "outputs": [],
   "source": [
    "def _sum(arr):\n",
    "    sum = 0\n",
    "    for i in arr:\n",
    "        sum = sum + i\n",
    "    return sum"
   ]
  },
  {
   "cell_type": "code",
   "execution_count": 2,
   "id": "753e75bd",
   "metadata": {},
   "outputs": [
    {
     "data": {
      "text/plain": [
       "15"
      ]
     },
     "execution_count": 2,
     "metadata": {},
     "output_type": "execute_result"
    }
   ],
   "source": [
    "_sum([1,2,3,4,5])"
   ]
  },
  {
   "cell_type": "markdown",
   "id": "55bb5744",
   "metadata": {},
   "source": [
    "#### 2) Write a Python Program to find largest element in an array?"
   ]
  },
  {
   "cell_type": "code",
   "execution_count": 3,
   "id": "5a7c642d",
   "metadata": {},
   "outputs": [],
   "source": [
    "def largest(arr):\n",
    "    max = arr[0]\n",
    "    for i in range(1,len(arr)):\n",
    "        if arr[i] > max:\n",
    "            max = arr[i]\n",
    "    return max"
   ]
  },
  {
   "cell_type": "code",
   "execution_count": 4,
   "id": "515ba944",
   "metadata": {},
   "outputs": [
    {
     "data": {
      "text/plain": [
       "56"
      ]
     },
     "execution_count": 4,
     "metadata": {},
     "output_type": "execute_result"
    }
   ],
   "source": [
    "largest([1,2,3,4,56])"
   ]
  },
  {
   "cell_type": "markdown",
   "id": "2632396f",
   "metadata": {},
   "source": [
    "#### 3) Write a Python Program for array rotation?"
   ]
  },
  {
   "cell_type": "code",
   "execution_count": 5,
   "id": "6a2a436e",
   "metadata": {},
   "outputs": [],
   "source": [
    "# arr = array, n= size of array, d= number of elements to be rotate.\n",
    "def rotate_Array(arr,n,d):\n",
    "    temp = []\n",
    "    i=0\n",
    "    while i<d:\n",
    "        temp.append(arr[i])\n",
    "        i = i+1\n",
    "    i=0\n",
    "    while d<n:\n",
    "        arr[i]=arr[d]\n",
    "        i = i+1\n",
    "        d = d+1\n",
    "    arr[:]= arr[:i] + temp\n",
    "    return arr"
   ]
  },
  {
   "cell_type": "code",
   "execution_count": 6,
   "id": "1f88ea37",
   "metadata": {},
   "outputs": [
    {
     "data": {
      "text/plain": [
       "[3, 4, 5, 6, 7, 1, 2]"
      ]
     },
     "execution_count": 6,
     "metadata": {},
     "output_type": "execute_result"
    }
   ],
   "source": [
    "rotate_Array([1,2,3,4,5,6,7],7,2)"
   ]
  },
  {
   "cell_type": "markdown",
   "id": "d8abc906",
   "metadata": {},
   "source": [
    "#### 4) Write a Python Program to Split the array and add the first part to the end?"
   ]
  },
  {
   "cell_type": "code",
   "execution_count": 18,
   "id": "23ed3b25",
   "metadata": {},
   "outputs": [],
   "source": [
    "#where n size of array and k= at which index we want split\n",
    "def splitArr(a, n, k):\n",
    "    b = a[:k]\n",
    "    return (a[k::]+b[::])"
   ]
  },
  {
   "cell_type": "code",
   "execution_count": 19,
   "id": "b78dc947",
   "metadata": {},
   "outputs": [
    {
     "data": {
      "text/plain": [
       "[5, 6, 52, 36, 12, 10]"
      ]
     },
     "execution_count": 19,
     "metadata": {},
     "output_type": "execute_result"
    }
   ],
   "source": [
    "splitArr([12, 10, 5, 6, 52, 36],6,2)"
   ]
  },
  {
   "cell_type": "markdown",
   "id": "4c1b0878",
   "metadata": {},
   "source": [
    "#### 5) Write a Python Program to check if given array is Monotonic?"
   ]
  },
  {
   "cell_type": "code",
   "execution_count": 22,
   "id": "fe765d32",
   "metadata": {},
   "outputs": [],
   "source": [
    "def ismonotonic(A):\n",
    "    x,y = [],[]\n",
    "    x.extend(A)\n",
    "    y.extend(A)\n",
    "    x.sort()\n",
    "    y.sort(reverse=True)\n",
    "    if x == A or y == A:\n",
    "        return True\n",
    "    else:\n",
    "        return False"
   ]
  },
  {
   "cell_type": "code",
   "execution_count": 25,
   "id": "277a9c55",
   "metadata": {},
   "outputs": [
    {
     "data": {
      "text/plain": [
       "False"
      ]
     },
     "execution_count": 25,
     "metadata": {},
     "output_type": "execute_result"
    }
   ],
   "source": [
    "ismonotonic([1,4,3,2,6])"
   ]
  }
 ],
 "metadata": {
  "kernelspec": {
   "display_name": "Python 3 (ipykernel)",
   "language": "python",
   "name": "python3"
  },
  "language_info": {
   "codemirror_mode": {
    "name": "ipython",
    "version": 3
   },
   "file_extension": ".py",
   "mimetype": "text/x-python",
   "name": "python",
   "nbconvert_exporter": "python",
   "pygments_lexer": "ipython3",
   "version": "3.9.13"
  }
 },
 "nbformat": 4,
 "nbformat_minor": 5
}
