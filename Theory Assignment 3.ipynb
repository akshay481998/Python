{
 "cells": [
  {
   "cell_type": "markdown",
   "id": "26b52e93",
   "metadata": {},
   "source": [
    "#### 1) Why are functions advantageous to have in your programs?"
   ]
  },
  {
   "cell_type": "markdown",
   "id": "cf365cfe",
   "metadata": {},
   "source": [
    "- It increase the code reusibility, that means with the help of functions, we cab avoid rewriting the same logic again and again.\n",
    "- We can call python function anywhere and also call multiple times in a program."
   ]
  },
  {
   "cell_type": "markdown",
   "id": "19f05d97",
   "metadata": {},
   "source": [
    "#### 2) When does the code in a function run: when it's specified or when it's called?"
   ]
  },
  {
   "cell_type": "markdown",
   "id": "7e4b0adb",
   "metadata": {},
   "source": [
    "- The code will be executed, when the function is called. "
   ]
  },
  {
   "cell_type": "markdown",
   "id": "e2c0b5e9",
   "metadata": {},
   "source": [
    "#### 3) What statement creates a function?"
   ]
  },
  {
   "cell_type": "markdown",
   "id": "cce434d9",
   "metadata": {},
   "source": [
    "- We define a function with the def keyword, then write the function identifier (name) followed by parentheses and a colon. \n",
    "The next thing you have to do is make sure you indent with a tab or 4 spaces, and then specify what you want the function to do for you.\n",
    "- For example:-\n",
    "Suppose, we want to define function for sum of two numbers, then it will be as follows"
   ]
  },
  {
   "cell_type": "code",
   "execution_count": 1,
   "id": "4e4907a5",
   "metadata": {},
   "outputs": [],
   "source": [
    "def sum(a,b):\n",
    "    sum = a + b\n",
    "    return sum"
   ]
  },
  {
   "cell_type": "markdown",
   "id": "d61e73b5",
   "metadata": {},
   "source": [
    "#### 4) What is the difference between a function and a function call?"
   ]
  },
  {
   "cell_type": "markdown",
   "id": "04ff012b",
   "metadata": {},
   "source": [
    "- A function is a block of code that does a particular operation and returns a result. It usually accepts inputs as parameters and returns a result. The parameters are not mandatory. A function call is the code used to pass control to a function."
   ]
  },
  {
   "cell_type": "markdown",
   "id": "c2a77cee",
   "metadata": {},
   "source": [
    "#### 5) How many global scopes are there in a Python program? How many local scopes?"
   ]
  },
  {
   "cell_type": "markdown",
   "id": "5f4cfd4d",
   "metadata": {},
   "source": [
    "- There's only one global Python scope per program execution. This scope remains in existence until the program terminates and all its names are forgotten. Otherwise, the next time you were to run the program, the names would remember their values from the previous run.\n",
    "- The local scope or function scope is a Python scope created at function calls. Every time you call a function, you’re also creating a new local scope."
   ]
  },
  {
   "cell_type": "markdown",
   "id": "54c26004",
   "metadata": {},
   "source": [
    "#### 6) What happens to variables in a local scope when the function call returns?"
   ]
  },
  {
   "cell_type": "markdown",
   "id": "c79855a4",
   "metadata": {},
   "source": [
    "- If a function is called more than once in a program, the values stored in the function's local variables do not persist between function calls. This is because the local variables are destroyed when the function terminates, and are then re-created when the function starts again"
   ]
  },
  {
   "cell_type": "markdown",
   "id": "1381781a",
   "metadata": {},
   "source": [
    "#### 7) What is the concept of a return value? Is it possible to have a return value in an expression?"
   ]
  },
  {
   "cell_type": "markdown",
   "id": "9f1486f0",
   "metadata": {},
   "source": [
    "- In general, a function takes arguments (if any), performs some operations, and returns a value (or object). The value that a function returns to the caller is generally known as the function's return value. All Python functions have a return value, either explicit or implicit.\n",
    "- A Python function will always have a return value. There is no notion of procedure or routine in Python. So, if you don't explicitly use a return value in a return statement, or if you totally omit the return statement, then Python will implicitly return a default value for you."
   ]
  },
  {
   "cell_type": "markdown",
   "id": "0f0529a0",
   "metadata": {},
   "source": [
    "#### 8) If a function does not have a return statement, what is the return value of a call to that function?"
   ]
  },
  {
   "cell_type": "markdown",
   "id": "9662ef42",
   "metadata": {},
   "source": [
    "- If no return statement appears in a function definition, control automatically returns to the calling function after the last statement of the called function is executed. In this case, the return value of the called function is undefined."
   ]
  },
  {
   "cell_type": "markdown",
   "id": "306af5f6",
   "metadata": {},
   "source": [
    "#### 9) How do you make a function variable refer to the global variable?"
   ]
  },
  {
   "cell_type": "markdown",
   "id": "01eec24d",
   "metadata": {},
   "source": [
    "- The global Keyword\n",
    "- Normally, when you create a variable inside a function, that variable is local, and can only be used inside that function. To create a global variable inside a function, you can use the global keyword."
   ]
  },
  {
   "cell_type": "markdown",
   "id": "700812e7",
   "metadata": {},
   "source": [
    "#### 10) What is the data type of None?"
   ]
  },
  {
   "cell_type": "markdown",
   "id": "24b59508",
   "metadata": {},
   "source": [
    "- None is data type of it's own (None Type) and only None can be none."
   ]
  },
  {
   "cell_type": "markdown",
   "id": "2e837c13",
   "metadata": {},
   "source": [
    "#### 11) What does the sentence import areallyourpetsnamederic do?"
   ]
  },
  {
   "cell_type": "markdown",
   "id": "a4bb75a3",
   "metadata": {},
   "source": [
    "- That import statement imports a module named areallyourpetsnamederic."
   ]
  },
  {
   "cell_type": "markdown",
   "id": "83c63834",
   "metadata": {},
   "source": [
    "#### 12) If you had a bacon() feature in a spam module, what would you call it after importing spam?"
   ]
  },
  {
   "cell_type": "markdown",
   "id": "896e8a2e",
   "metadata": {},
   "source": [
    "- This function can be called spam.bacon()."
   ]
  },
  {
   "cell_type": "markdown",
   "id": "208ec479",
   "metadata": {},
   "source": [
    "#### 13) What can you do to save a programme from crashing if it encounters an error?"
   ]
  },
  {
   "cell_type": "markdown",
   "id": "7c90956e",
   "metadata": {},
   "source": [
    "- We can use try....except.... there and handle the error."
   ]
  },
  {
   "cell_type": "markdown",
   "id": "e945a5e0",
   "metadata": {},
   "source": [
    "#### 14) What is the purpose of the try clause? What is the purpose of the except clause?"
   ]
  },
  {
   "cell_type": "markdown",
   "id": "3153e644",
   "metadata": {},
   "source": [
    "- The code that could potentially cause an error goes in the try clause.\n",
    "- The code that executes if an error happens goes in the except clause."
   ]
  }
 ],
 "metadata": {
  "kernelspec": {
   "display_name": "Python 3 (ipykernel)",
   "language": "python",
   "name": "python3"
  },
  "language_info": {
   "codemirror_mode": {
    "name": "ipython",
    "version": 3
   },
   "file_extension": ".py",
   "mimetype": "text/x-python",
   "name": "python",
   "nbconvert_exporter": "python",
   "pygments_lexer": "ipython3",
   "version": "3.9.13"
  }
 },
 "nbformat": 4,
 "nbformat_minor": 5
}
