{
 "cells": [
  {
   "cell_type": "markdown",
   "id": "d4a1b01d",
   "metadata": {},
   "source": [
    "#### Question1. Write a function that stutters a word as if someone is struggling to read it. The first two letters are repeated twice with an ellipsis ... and space after each, and then the word is pronounced with a question mark ?.\n",
    " **Examples**\n",
    "- stutter(&quot;incredible&quot;) ➞ &quot;in... in... incredible?&quot;\n",
    "- stutter(&quot;enthusiastic&quot;) ➞ &quot;en... en... enthusiastic?&quot;\n",
    "- stutter(&quot;outstanding&quot;) ➞ &quot;ou... ou... outstanding?&quot;\n",
    "\n",
    "**Hint :-** Assume all input is in lower case and at least two characters long."
   ]
  },
  {
   "cell_type": "code",
   "execution_count": 3,
   "id": "8f0748cb",
   "metadata": {},
   "outputs": [
    {
     "name": "stdout",
     "output_type": "stream",
     "text": [
      "Enter word: incredible\n",
      "in...in...incredible?\n"
     ]
    }
   ],
   "source": [
    "def stutter(word):\n",
    "    return (2*(word[:2]+'...'))+word+'?'\n",
    "word = input('Enter word: ')\n",
    "print(stutter(word))"
   ]
  },
  {
   "cell_type": "markdown",
   "id": "c320c78f",
   "metadata": {},
   "source": [
    "#### Question 2.Create a function that takes an angle in radians and returns the corresponding angle in degrees rounded to one decimal place.\n",
    " **Examples**\n",
    "- radians_to_degrees(1) ➞ 57.3\n",
    "- radians_to_degrees(20) ➞ 1145.9\n",
    "- radians_to_degrees(50) ➞ 2864.8"
   ]
  },
  {
   "cell_type": "code",
   "execution_count": 7,
   "id": "08362824",
   "metadata": {},
   "outputs": [
    {
     "name": "stdout",
     "output_type": "stream",
     "text": [
      "Enter the radian: 50\n",
      "degree= 2864.8\n"
     ]
    }
   ],
   "source": [
    "def radian_to_degree(radian):\n",
    "    pi = 3.14159\n",
    "    #formula\n",
    "    degree = radian*(180/pi)\n",
    "    return degree\n",
    "radian = float(input(\"Enter the radian: \"))\n",
    "print(\"degree=\",round(radian_to_degree(radian),ndigits=1))"
   ]
  },
  {
   "cell_type": "markdown",
   "id": "92c868aa",
   "metadata": {},
   "source": [
    "#### Question 3. In this challenge, establish if a given integer num is a Curzon number. If 1 plus 2 elevated to num is exactly divisible by 1 plus 2 multiplied by num, then num is a Curzon number.\n",
    "\n",
    "#### Given a non-negative integer num, implement a function that returns True if num is a Curzon number, or False otherwise.\n",
    "\n",
    "**Examples**\n",
    "- is_curzon(5) ➞ True\n",
    "#### 2 ** 5 + 1 = 33\n",
    "#### 2 * 5 + 1 = 11\n",
    "#### 33 is a multiple of 11\n",
    "- is_curzon(10) ➞ False\n",
    "#### 2 ** 10 + 1 = 1025\n",
    "#### 2 * 10 + 1 = 21\n",
    "#### 1025 is not a multiple of 21\n",
    "- is_curzon(14) ➞ True\n",
    "#### 2 ** 14 + 1 = 16385\n",
    "#### 2 * 14 + 1 = 29\n",
    "#### 16385 is a multiple of 29"
   ]
  },
  {
   "cell_type": "code",
   "execution_count": 8,
   "id": "14581456",
   "metadata": {},
   "outputs": [
    {
     "name": "stdout",
     "output_type": "stream",
     "text": [
      "Enter a num: 5\n"
     ]
    },
    {
     "data": {
      "text/plain": [
       "True"
      ]
     },
     "execution_count": 8,
     "metadata": {},
     "output_type": "execute_result"
    }
   ],
   "source": [
    "def is_curzon(N):\n",
    "    power, product = 0,0\n",
    "    power = pow(2,N)+1\n",
    "    product = 2*N+1\n",
    "    if (power%product == 0):\n",
    "        return True\n",
    "    else:\n",
    "        return False\n",
    "N = int(input(\"Enter a num: \"))\n",
    "is_curzon(N)"
   ]
  },
  {
   "cell_type": "markdown",
   "id": "d19658c6",
   "metadata": {},
   "source": [
    "#### Question 4.Given the side length x find the area of a hexagon.\n",
    "**Examples**\n",
    "- area_of_hexagon(1) ➞ 2.6\n",
    "- area_of_hexagon(2) ➞ 10.4\n",
    "- area_of_hexagon(3) ➞ 23.4"
   ]
  },
  {
   "cell_type": "code",
   "execution_count": 9,
   "id": "6994014d",
   "metadata": {},
   "outputs": [
    {
     "name": "stdout",
     "output_type": "stream",
     "text": [
      "Enter the side of the hexagon: 1\n",
      "Area: 2.5981\n"
     ]
    }
   ],
   "source": [
    "import math\n",
    "def area_of_hexagon(s):\n",
    "    area = (3*math.sqrt(3)*pow(s,2))/2\n",
    "    return area\n",
    "s = float(input(\"Enter the side of the hexagon: \"))\n",
    "print(\"Area:\",\"{0:.4f}\".format(area_of_hexagon(s)))"
   ]
  },
  {
   "cell_type": "markdown",
   "id": "2ae0d8fd",
   "metadata": {},
   "source": [
    "#### Question 5. Create a function that returns a base-2 (binary) representation of a base-10 (decimal) string number. To convert is simple: ((2) means base-2 and (10) means base-10) 010101001(2) = 1 + 8 + 32 + 128. Going from right to left, the value of the most right bit is 1, now from that every bit to the left will be x2 the value, value of an 8 bit binary numbers are (256, 128, 64, 32, 16, 8, 4, 2, 1).\n",
    "**Examples**\n",
    "binary(1) ➞ &quot;1&quot;\n",
    "#### 1*1 = 1\n",
    "binary(5) ➞ &quot;101&quot;\n",
    "#### 1*1 + 1*4 = 5\n",
    "binary(10) ➞ &quot;1010&quot;\n",
    "#### 1*2 + 1*8 = 10"
   ]
  },
  {
   "cell_type": "code",
   "execution_count": 12,
   "id": "91d0a0da",
   "metadata": {},
   "outputs": [
    {
     "data": {
      "text/plain": [
       "'1010'"
      ]
     },
     "execution_count": 12,
     "metadata": {},
     "output_type": "execute_result"
    }
   ],
   "source": [
    "# Function to convert Decimal number\n",
    "# to Binary number\n",
    "def decimalToBinary(n):\n",
    "    return bin(n).replace(\"0b\", \"\")\n",
    "decimalToBinary(10)"
   ]
  }
 ],
 "metadata": {
  "kernelspec": {
   "display_name": "Python 3 (ipykernel)",
   "language": "python",
   "name": "python3"
  },
  "language_info": {
   "codemirror_mode": {
    "name": "ipython",
    "version": 3
   },
   "file_extension": ".py",
   "mimetype": "text/x-python",
   "name": "python",
   "nbconvert_exporter": "python",
   "pygments_lexer": "ipython3",
   "version": "3.9.13"
  }
 },
 "nbformat": 4,
 "nbformat_minor": 5
}
