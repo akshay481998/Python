{
 "cells": [
  {
   "cell_type": "markdown",
   "id": "d2c37494",
   "metadata": {},
   "source": [
    "#### 1) Write a Python Program to Find LCM?"
   ]
  },
  {
   "cell_type": "code",
   "execution_count": 1,
   "id": "3d6b35e7",
   "metadata": {},
   "outputs": [
    {
     "name": "stdout",
     "output_type": "stream",
     "text": [
      "Enter first number\n",
      "4\n",
      "Enter second number\n",
      "28\n",
      "The LCM of 4 and 28 is 28\n"
     ]
    }
   ],
   "source": [
    "# Method 1 :-\n",
    "\n",
    "a = int(input(\"Enter first number\\n\"))\n",
    "b = int(input(\"Enter second number\\n\"))\n",
    "\n",
    "maxNum = max(a,b)\n",
    "\n",
    "while True:\n",
    "    if maxNum%a == 0 and maxNum%b == 0:\n",
    "        break \n",
    "    maxNum = maxNum + 1\n",
    "print(f\"The LCM of {a} and {b} is {maxNum}\")"
   ]
  },
  {
   "cell_type": "code",
   "execution_count": 2,
   "id": "1ad9cdae",
   "metadata": {},
   "outputs": [
    {
     "name": "stdout",
     "output_type": "stream",
     "text": [
      "Enter the first number 45\n",
      "Enter the second number 28\n",
      "The LCM of 45 and 28 is 1260\n"
     ]
    }
   ],
   "source": [
    "# Method 2 :-\n",
    "\n",
    "a = int(input(\"Enter the first number \"))\n",
    "b = int(input(\"Enter the second number \"))\n",
    "\n",
    "for m in range(1,a*b+1):\n",
    "    if m%a==0 and m%b==0 :\n",
    "        print(f\"The LCM of {a} and {b} is {m}\")\n",
    "        break"
   ]
  },
  {
   "cell_type": "markdown",
   "id": "42d1a687",
   "metadata": {},
   "source": [
    "#### 2) Write a Python Program to Find HCF?"
   ]
  },
  {
   "cell_type": "code",
   "execution_count": 3,
   "id": "d2444575",
   "metadata": {},
   "outputs": [
    {
     "name": "stdout",
     "output_type": "stream",
     "text": [
      "Enter the first number 4\n",
      "Enter the second number 28\n",
      "The HCF or GCD of 4 and 28 is 4\n"
     ]
    }
   ],
   "source": [
    "# Method 1\n",
    "a = int(input(\"Enter the first number \"))\n",
    "b = int(input(\"Enter the second number \"))\n",
    "\n",
    "minNum = min(a,b)\n",
    "\n",
    "for i in range(1,minNum+1):\n",
    "    if a%i==0 and b%i==0 :\n",
    "        HCF = i\n",
    "print(f\"The HCF or GCD of {a} and {b} is {HCF}\")"
   ]
  },
  {
   "cell_type": "code",
   "execution_count": 4,
   "id": "8b0ffb6b",
   "metadata": {},
   "outputs": [
    {
     "name": "stdout",
     "output_type": "stream",
     "text": [
      "Enter the highest number 28\n",
      "Enter lowest number 4\n",
      "HCF is 4\n"
     ]
    }
   ],
   "source": [
    "# Method 2 :- \n",
    "a = int(input(\"Enter the highest number \"))\n",
    "b = int(input(\"Enter lowest number \"))\n",
    "\n",
    "while a%b!=0 :\n",
    "    rem = a%b\n",
    "    a = b\n",
    "    b = rem\n",
    "print(f\"HCF is {b}\")"
   ]
  },
  {
   "cell_type": "markdown",
   "id": "fc996a12",
   "metadata": {},
   "source": [
    "#### 3) Write a Python Program to Convert Decimal to Binary, Octal and Hexadecimal?"
   ]
  },
  {
   "cell_type": "code",
   "execution_count": 5,
   "id": "4d7a7613",
   "metadata": {},
   "outputs": [
    {
     "name": "stdout",
     "output_type": "stream",
     "text": [
      "Enter your number 2\n",
      "The binary number:  0b10\n",
      "The octal number:  0o2\n",
      "The hexadecimal number:  0x2\n"
     ]
    }
   ],
   "source": [
    "number = int(input(\"Enter your number \"))\n",
    "\n",
    "print(\"The binary number: \", bin(number))\n",
    "print(\"The octal number: \", oct(number))\n",
    "print(\"The hexadecimal number: \", hex(number))"
   ]
  },
  {
   "cell_type": "markdown",
   "id": "0ce4af2d",
   "metadata": {},
   "source": [
    "#### 4) Write a Python Program To Find ASCII value of a character?"
   ]
  },
  {
   "cell_type": "code",
   "execution_count": 9,
   "id": "d7e7ebd7",
   "metadata": {},
   "outputs": [
    {
     "name": "stdout",
     "output_type": "stream",
     "text": [
      "Enter your character: a\n",
      "97\n"
     ]
    }
   ],
   "source": [
    "char = input(\"Enter your character: \")\n",
    "a = ord(char)  # ord returns the ascii value of a char.\n",
    "print(a)"
   ]
  },
  {
   "cell_type": "markdown",
   "id": "1ab11dea",
   "metadata": {},
   "source": [
    "#### 5) Write a Python Program to Make a Simple Calculator with 4 basic mathematical operations?"
   ]
  },
  {
   "cell_type": "code",
   "execution_count": 15,
   "id": "0845f3dd",
   "metadata": {},
   "outputs": [
    {
     "name": "stdout",
     "output_type": "stream",
     "text": [
      "Enter the first number: 5\n",
      "Enter the second number: 10\n",
      "Which operation you want to do, +|-|*|/: /\n",
      "0.5\n"
     ]
    }
   ],
   "source": [
    "num1 = int(input(\"Enter the first number: \"))\n",
    "num2 = int(input(\"Enter the second number: \"))\n",
    "operator = input(\"Which operation you want to do, +|-|*|/: \")\n",
    "\n",
    "if operator == '+':\n",
    "    print(num1+num2)\n",
    "elif operator == '-':\n",
    "    print(num1-num2)\n",
    "elif operator == '*':\n",
    "    print(num1*num2)\n",
    "elif operator == '/':\n",
    "    print(num1/num2)"
   ]
  }
 ],
 "metadata": {
  "kernelspec": {
   "display_name": "Python 3 (ipykernel)",
   "language": "python",
   "name": "python3"
  },
  "language_info": {
   "codemirror_mode": {
    "name": "ipython",
    "version": 3
   },
   "file_extension": ".py",
   "mimetype": "text/x-python",
   "name": "python",
   "nbconvert_exporter": "python",
   "pygments_lexer": "ipython3",
   "version": "3.9.13"
  }
 },
 "nbformat": 4,
 "nbformat_minor": 5
}
