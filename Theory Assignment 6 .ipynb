{
 "cells": [
  {
   "cell_type": "markdown",
   "id": "e00cb4e0",
   "metadata": {},
   "source": [
    "#### 1. What are escape characters, and how do you use them?"
   ]
  },
  {
   "cell_type": "markdown",
   "id": "1840a3d6",
   "metadata": {},
   "source": [
    "- Escape characters represent characters in string values that would otherwise be difficult or impossible to type into code."
   ]
  },
  {
   "cell_type": "markdown",
   "id": "ca70a39a",
   "metadata": {},
   "source": [
    "#### 2. What do the escape characters n and t stand for?"
   ]
  },
  {
   "cell_type": "markdown",
   "id": "b2e77702",
   "metadata": {},
   "source": [
    "- \\n stands for new line and \\t stands for tab"
   ]
  },
  {
   "cell_type": "markdown",
   "id": "d83d04e2",
   "metadata": {},
   "source": [
    "#### 3. What is the way to include backslash characters in a string?"
   ]
  },
  {
   "cell_type": "markdown",
   "id": "0acbf10e",
   "metadata": {},
   "source": [
    "- The \\\\ escape character will represent a backslash character."
   ]
  },
  {
   "cell_type": "markdown",
   "id": "a1d535be",
   "metadata": {},
   "source": [
    "#### 4. The string &quot;Howl&#39;s Moving Castle&quot; is a correct value. Why isn&#39;t the single quote character in the word Howl&#39;s not escaped a problem?"
   ]
  },
  {
   "cell_type": "markdown",
   "id": "876a29c5",
   "metadata": {},
   "source": [
    "- Here single quote is fine because we used double quote to mark beginning and end of the string."
   ]
  },
  {
   "cell_type": "markdown",
   "id": "25eb5c9b",
   "metadata": {},
   "source": [
    "#### 5. How do you write a string of newlines if you don&#39;t want to use the n character?"
   ]
  },
  {
   "cell_type": "markdown",
   "id": "7d400630",
   "metadata": {},
   "source": [
    "- Multiline strings allow us to use newlines in strings without the \\n escape character."
   ]
  },
  {
   "cell_type": "markdown",
   "id": "68dd6847",
   "metadata": {},
   "source": [
    "#### 6. What are the values of the given expressions?\n",
    "&#39;Hello, world!&#39;[1]\n",
    "\n",
    "&#39;Hello, world!&#39;[0:5]\n",
    "\n",
    "&#39;Hello, world!&#39;[:5]\n",
    "\n",
    "&#39;Hello, world!&#39;[3:]\n"
   ]
  },
  {
   "cell_type": "markdown",
   "id": "7a96d9b6",
   "metadata": {},
   "source": [
    "- 'e'\n",
    "- 'Hello'\n",
    "- 'Hello'\n",
    "- 'lo, world!'"
   ]
  },
  {
   "cell_type": "markdown",
   "id": "1238305b",
   "metadata": {},
   "source": [
    "#### 7. What are the values of the following expressions?\n",
    "&#39;Hello&#39;.upper()\n",
    "\n",
    "&#39;Hello&#39;.upper().isupper()\n",
    "\n",
    "&#39;Hello&#39;.upper().lower()"
   ]
  },
  {
   "cell_type": "markdown",
   "id": "b179a37f",
   "metadata": {},
   "source": [
    "- 'HELLO'\n",
    "- True\n",
    "- 'hello'"
   ]
  },
  {
   "cell_type": "markdown",
   "id": "1e3bcbcb",
   "metadata": {},
   "source": [
    "#### 8. What are the values of the following expressions?\n",
    "&#39;Remember, remember, the fifth of July.&#39;.split()\n",
    "\n",
    "&#39;-&#39;.join(&#39;There can only one.&#39;.split())"
   ]
  },
  {
   "cell_type": "markdown",
   "id": "1bbc9bea",
   "metadata": {},
   "source": [
    "- ['Remember,', 'remember,', 'the', 'fift', 'of', 'july.']\n",
    "- 'There-can-only-one.'"
   ]
  },
  {
   "cell_type": "markdown",
   "id": "d1547571",
   "metadata": {},
   "source": [
    "#### 9. What are the methods for right-justifying, left-justifying, and centering a string?"
   ]
  },
  {
   "cell_type": "markdown",
   "id": "4795ffd9",
   "metadata": {},
   "source": [
    "- The rjust(), ljust() and center() string methods respectively."
   ]
  },
  {
   "cell_type": "markdown",
   "id": "bdea3b81",
   "metadata": {},
   "source": [
    "#### 10. What is the best way to remove whitespace characters from the start or end?"
   ]
  },
  {
   "cell_type": "markdown",
   "id": "3808dabe",
   "metadata": {},
   "source": [
    "- The lstrip() and rstrip() methods remove whitespace from the left and right ends of a string, respectively."
   ]
  }
 ],
 "metadata": {
  "kernelspec": {
   "display_name": "Python 3 (ipykernel)",
   "language": "python",
   "name": "python3"
  },
  "language_info": {
   "codemirror_mode": {
    "name": "ipython",
    "version": 3
   },
   "file_extension": ".py",
   "mimetype": "text/x-python",
   "name": "python",
   "nbconvert_exporter": "python",
   "pygments_lexer": "ipython3",
   "version": "3.9.13"
  }
 },
 "nbformat": 4,
 "nbformat_minor": 5
}
