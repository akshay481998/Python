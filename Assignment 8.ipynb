{
 "cells": [
  {
   "cell_type": "markdown",
   "id": "c4adb6e1",
   "metadata": {},
   "source": [
    "#### 1) Write a Python Program to Add Two Matrices?"
   ]
  },
  {
   "cell_type": "code",
   "execution_count": 1,
   "id": "2475e514",
   "metadata": {},
   "outputs": [
    {
     "name": "stdout",
     "output_type": "stream",
     "text": [
      "[[10 10 10]\n",
      " [10 10 10]\n",
      " [10 10 10]]\n"
     ]
    }
   ],
   "source": [
    "import numpy as np\n",
    "\n",
    "x = [[1,2,3],\n",
    "     [4,5,6],\n",
    "     [7,8,9]]\n",
    "\n",
    "y = [[9,8,7],\n",
    "     [6,5,4],\n",
    "     [3,2,1]]\n",
    "\n",
    "result = np.array(x) + np.array(y)\n",
    "print(result)"
   ]
  },
  {
   "cell_type": "code",
   "execution_count": 2,
   "id": "392b5126",
   "metadata": {},
   "outputs": [
    {
     "name": "stdout",
     "output_type": "stream",
     "text": [
      "[10, 10, 10]\n",
      "[10, 10, 10]\n",
      "[10, 10, 10]\n"
     ]
    }
   ],
   "source": [
    "# Method 2 using for loop\n",
    "\n",
    "x = [[1,2,3],\n",
    "     [4,5,6],\n",
    "     [7,8,9]]\n",
    "\n",
    "y = [[9,8,7],\n",
    "     [6,5,4],\n",
    "     [3,2,1]]\n",
    "\n",
    "result = [[0,0,0],\n",
    "         [0,0,0],\n",
    "         [0,0,0]]\n",
    "\n",
    "for i in range(len(x)):\n",
    "    for j in range(len(x[0])):\n",
    "        result [i][j] = x[i][j] + y[i][j]\n",
    "for r in result:\n",
    "    print(r)\n",
    "        "
   ]
  },
  {
   "cell_type": "markdown",
   "id": "bb550423",
   "metadata": {},
   "source": [
    "#### 2) Write a Python Program to Multiply Two Matrices?"
   ]
  },
  {
   "cell_type": "code",
   "execution_count": 3,
   "id": "63107443",
   "metadata": {},
   "outputs": [
    {
     "name": "stdout",
     "output_type": "stream",
     "text": [
      "[[ 30  24  18]\n",
      " [ 84  69  54]\n",
      " [138 114  90]]\n"
     ]
    }
   ],
   "source": [
    "x = [[1,2,3],\n",
    "     [4,5,6],\n",
    "     [7,8,9]]\n",
    "\n",
    "y = [[9,8,7],\n",
    "     [6,5,4],\n",
    "     [3,2,1]]\n",
    "\n",
    "result = np.array(x)@np.array(y)       # @ is used to matmul in numpy\n",
    "print(result)"
   ]
  },
  {
   "cell_type": "code",
   "execution_count": 4,
   "id": "79dd6361",
   "metadata": {},
   "outputs": [
    {
     "data": {
      "text/plain": [
       "array([[ 30,  24,  18],\n",
       "       [ 84,  69,  54],\n",
       "       [138, 114,  90]])"
      ]
     },
     "execution_count": 4,
     "metadata": {},
     "output_type": "execute_result"
    }
   ],
   "source": [
    "np.dot(x,y)                        #This is also built in method in numpy for matmul"
   ]
  },
  {
   "cell_type": "code",
   "execution_count": 5,
   "id": "4def6c96",
   "metadata": {},
   "outputs": [
    {
     "name": "stdout",
     "output_type": "stream",
     "text": [
      "[[30, 24, 18], [84, 69, 54], [138, 114, 90]]\n"
     ]
    }
   ],
   "source": [
    "# Method using for loop\n",
    "\n",
    "x = [[1,2,3],\n",
    "     [4,5,6],\n",
    "     [7,8,9]]\n",
    "\n",
    "y = [[9,8,7],\n",
    "     [6,5,4],\n",
    "     [3,2,1]]\n",
    "\n",
    "res = [[0 for x in range(3)] for y in range(3)]\n",
    "\n",
    "for i in range(len(x)):\n",
    "    for j in range(len(y[0])):\n",
    "        for k in range(len(y)):\n",
    "            res[i][j] += x[i][k] * y[k][j]\n",
    "print(res)"
   ]
  },
  {
   "cell_type": "markdown",
   "id": "c652b3bc",
   "metadata": {},
   "source": [
    "#### 3) Write a Python Program to Transpose a Matrix?"
   ]
  },
  {
   "cell_type": "code",
   "execution_count": 6,
   "id": "62dffc3a",
   "metadata": {},
   "outputs": [
    {
     "name": "stdout",
     "output_type": "stream",
     "text": [
      "[1, 4]\n",
      "[2, 5]\n",
      "[3, 6]\n"
     ]
    }
   ],
   "source": [
    "#Using for loop\n",
    "A = [[1,2,3],\n",
    "    [4,5,6]]\n",
    "\n",
    "T = [[0 for A in range(2)] for A in range(3)]\n",
    "for i in range(len(A)):\n",
    "    for j in range(len(A[0])):\n",
    "        T[j][i] = A[i][j]\n",
    "for i in T:\n",
    "    print(i)"
   ]
  },
  {
   "cell_type": "code",
   "execution_count": 7,
   "id": "376041b1",
   "metadata": {},
   "outputs": [
    {
     "data": {
      "text/plain": [
       "[[1, 4], [2, 5], [3, 6]]"
      ]
     },
     "execution_count": 7,
     "metadata": {},
     "output_type": "execute_result"
    }
   ],
   "source": [
    "#using list comprehenstion\n",
    "A = [[1,2,3],\n",
    "    [4,5,6]]\n",
    "\n",
    "[[A[j][i] for j in range(len(A))] for i in range(len(A[0]))]"
   ]
  },
  {
   "cell_type": "markdown",
   "id": "8c116f76",
   "metadata": {},
   "source": [
    "#### 4) Write a Python Program to Sort Words in Alphabetic Order?"
   ]
  },
  {
   "cell_type": "code",
   "execution_count": 8,
   "id": "a87f7b41",
   "metadata": {},
   "outputs": [],
   "source": [
    "def func(S):\n",
    "    W = S.split()\n",
    "    for i in range(len(W)):\n",
    "        W[i] = W[i].lower()\n",
    "    S = sorted(W)\n",
    "    print(' '.join(S))"
   ]
  },
  {
   "cell_type": "code",
   "execution_count": 9,
   "id": "0604b938",
   "metadata": {},
   "outputs": [
    {
     "name": "stdout",
     "output_type": "stream",
     "text": [
      "brown dog fox jumps lazy over quick the the\n"
     ]
    }
   ],
   "source": [
    "func(S = \"the Quick brown fox jumPs over the lazY Dog\")"
   ]
  },
  {
   "cell_type": "markdown",
   "id": "fbcfa499",
   "metadata": {},
   "source": [
    "#### 5) Write a Python Program to Remove Punctuation From a String?"
   ]
  },
  {
   "cell_type": "code",
   "execution_count": 10,
   "id": "a0e5408b",
   "metadata": {},
   "outputs": [
    {
     "name": "stdout",
     "output_type": "stream",
     "text": [
      "The original string is : Gfg, is best : for ! Geeks @! %^& ;\n",
      "The string after punctuation filter : Gfg is best  for  Geeks   \n"
     ]
    }
   ],
   "source": [
    "\n",
    "test_str = \"Gfg, is best : for ! Geeks @! %^& ;\"\n",
    "\n",
    "print(\"The original string is : \" + test_str)\n",
    "\n",
    "punc = '''!()-[]{};:'\"\\,<>./?@#$%^&*_~'''\n",
    " \n",
    "\n",
    "for ele in test_str:\n",
    "    if ele in punc:\n",
    "        test_str = test_str.replace(ele, \"\")\n",
    "print(\"The string after punctuation filter : \" + test_str)"
   ]
  }
 ],
 "metadata": {
  "kernelspec": {
   "display_name": "Python 3 (ipykernel)",
   "language": "python",
   "name": "python3"
  },
  "language_info": {
   "codemirror_mode": {
    "name": "ipython",
    "version": 3
   },
   "file_extension": ".py",
   "mimetype": "text/x-python",
   "name": "python",
   "nbconvert_exporter": "python",
   "pygments_lexer": "ipython3",
   "version": "3.9.13"
  }
 },
 "nbformat": 4,
 "nbformat_minor": 5
}
