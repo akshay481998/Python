{
 "cells": [
  {
   "cell_type": "markdown",
   "id": "4b8924d4",
   "metadata": {},
   "source": [
    "### Q1.What are the two values of the Boolean data type? How do you write them?"
   ]
  },
  {
   "cell_type": "markdown",
   "id": "31140b04",
   "metadata": {},
   "source": [
    "##### The boolen data type has two possible values True and false which are special version of 0 and 1 respectively"
   ]
  },
  {
   "cell_type": "markdown",
   "id": "28cc26f6",
   "metadata": {},
   "source": [
    "### Q2. What are the three different types of Boolean operators?"
   ]
  },
  {
   "cell_type": "markdown",
   "id": "657548a2",
   "metadata": {},
   "source": [
    "##### AND, OR, NOT these are the three different types of boolean operators."
   ]
  },
  {
   "cell_type": "markdown",
   "id": "8a2a073b",
   "metadata": {},
   "source": [
    "### Q3. Make a list of each Boolean operator&#39;s truth tables (i.e. every possible combination of Boolean values for the operator and what it evaluate )."
   ]
  },
  {
   "cell_type": "code",
   "execution_count": 4,
   "id": "ec6c1845",
   "metadata": {},
   "outputs": [],
   "source": [
    "#Boolean operator AND \n",
    "def AND(a,b) :\n",
    "    if a == 1 and b == 1 :\n",
    "        return True\n",
    "    else :\n",
    "        return False\n",
    "    "
   ]
  },
  {
   "cell_type": "code",
   "execution_count": 6,
   "id": "71a89edd",
   "metadata": {},
   "outputs": [
    {
     "name": "stdout",
     "output_type": "stream",
     "text": [
      " | AND Truth Table | Result |\n",
      " A = False, B = False | A AND B = False  | \n",
      " A = False, B = True | A AND B = False  | \n",
      " A = True, B = False | A AND B = False  | \n",
      " A = True, B = True | A AND B = True  | \n"
     ]
    }
   ],
   "source": [
    "print(\" | AND Truth Table | Result |\")\n",
    "print(\" A = False, B = False | A AND B =\",AND(False,False),\" | \")\n",
    "print(\" A = False, B = True | A AND B =\",AND(False,True),\" | \")\n",
    "print(\" A = True, B = False | A AND B =\",AND(True,False),\" | \")\n",
    "print(\" A = True, B = True | A AND B =\",AND(True,True),\" | \")"
   ]
  },
  {
   "cell_type": "code",
   "execution_count": 8,
   "id": "4cad8788",
   "metadata": {},
   "outputs": [],
   "source": [
    "# OR gate truth table\n",
    "def OR (a,b) :\n",
    "    if a == 1 or b == 1 :\n",
    "        return True\n",
    "    else :\n",
    "        return False "
   ]
  },
  {
   "cell_type": "code",
   "execution_count": 9,
   "id": "9c808d7b",
   "metadata": {},
   "outputs": [
    {
     "name": "stdout",
     "output_type": "stream",
     "text": [
      " | OR Truth Table | Result |\n",
      " A = False, B = False | A OR B = False  | \n",
      " A = False, B = True | A OR B = True  | \n",
      " A = True, B = False | A OR B = True  | \n",
      " A = True, B = True | A OR B = True  | \n"
     ]
    }
   ],
   "source": [
    "print(\" | OR Truth Table | Result |\")\n",
    "print(\" A = False, B = False | A OR B =\",OR(False,False),\" | \")\n",
    "print(\" A = False, B = True | A OR B =\",OR(False,True),\" | \")\n",
    "print(\" A = True, B = False | A OR B =\",OR(True,False),\" | \")\n",
    "print(\" A = True, B = True | A OR B =\",OR(True,True),\" | \")"
   ]
  },
  {
   "cell_type": "code",
   "execution_count": 10,
   "id": "c8a7e888",
   "metadata": {},
   "outputs": [],
   "source": [
    "# NOT gate truth table values\n",
    "def NOT(a) :\n",
    "    return not a"
   ]
  },
  {
   "cell_type": "code",
   "execution_count": 11,
   "id": "bb73e979",
   "metadata": {},
   "outputs": [
    {
     "name": "stdout",
     "output_type": "stream",
     "text": [
      " | NOT Truth Table | Result |\n",
      " A = False | A NOT = True  | \n",
      " A = True, | A NOT = False  | \n"
     ]
    }
   ],
   "source": [
    "print(\" | NOT Truth Table | Result |\")\n",
    "print(\" A = False | A NOT =\",NOT(False),\" | \")\n",
    "print(\" A = True, | A NOT =\",NOT(True),\" | \")"
   ]
  },
  {
   "cell_type": "markdown",
   "id": "59058207",
   "metadata": {},
   "source": [
    "### Q4. What are the values of the following expressions?"
   ]
  },
  {
   "cell_type": "code",
   "execution_count": 12,
   "id": "4f68cf8c",
   "metadata": {},
   "outputs": [
    {
     "data": {
      "text/plain": [
       "False"
      ]
     },
     "execution_count": 12,
     "metadata": {},
     "output_type": "execute_result"
    }
   ],
   "source": [
    "(5 > 4) and (3 == 5)"
   ]
  },
  {
   "cell_type": "code",
   "execution_count": 13,
   "id": "5809f349",
   "metadata": {},
   "outputs": [
    {
     "data": {
      "text/plain": [
       "False"
      ]
     },
     "execution_count": 13,
     "metadata": {},
     "output_type": "execute_result"
    }
   ],
   "source": [
    "not (5 > 4)"
   ]
  },
  {
   "cell_type": "code",
   "execution_count": 14,
   "id": "e2848103",
   "metadata": {},
   "outputs": [
    {
     "data": {
      "text/plain": [
       "True"
      ]
     },
     "execution_count": 14,
     "metadata": {},
     "output_type": "execute_result"
    }
   ],
   "source": [
    "(5 > 4) or (3 == 5)"
   ]
  },
  {
   "cell_type": "code",
   "execution_count": 15,
   "id": "3fb887d1",
   "metadata": {},
   "outputs": [
    {
     "data": {
      "text/plain": [
       "False"
      ]
     },
     "execution_count": 15,
     "metadata": {},
     "output_type": "execute_result"
    }
   ],
   "source": [
    "not ((5 > 4) or (3 == 5))"
   ]
  },
  {
   "cell_type": "code",
   "execution_count": 16,
   "id": "90f1d790",
   "metadata": {},
   "outputs": [
    {
     "data": {
      "text/plain": [
       "False"
      ]
     },
     "execution_count": 16,
     "metadata": {},
     "output_type": "execute_result"
    }
   ],
   "source": [
    "(True and True) and (True == False)"
   ]
  },
  {
   "cell_type": "code",
   "execution_count": 17,
   "id": "12a9409e",
   "metadata": {},
   "outputs": [
    {
     "data": {
      "text/plain": [
       "True"
      ]
     },
     "execution_count": 17,
     "metadata": {},
     "output_type": "execute_result"
    }
   ],
   "source": [
    "(not False) or (not True)"
   ]
  },
  {
   "cell_type": "markdown",
   "id": "c9fd811a",
   "metadata": {},
   "source": [
    "### Q5. What are the six comparison operators?"
   ]
  },
  {
   "cell_type": "markdown",
   "id": "8f8483b7",
   "metadata": {},
   "source": [
    "##### A comparision operator compares two values and returns boolean value, either true or false. Python has six comaparision operators greater than (>), greater than equal to (>=), less than (<), less than or equal to (<=), equal to (==), and not equal to (!=)."
   ]
  },
  {
   "cell_type": "markdown",
   "id": "e1ada2af",
   "metadata": {},
   "source": [
    "### Q6. How do you tell the difference between the equal to and assignment operators?Describe a condition and when you would use one."
   ]
  },
  {
   "cell_type": "markdown",
   "id": "8ff93b0d",
   "metadata": {},
   "source": [
    "##### The '=' sign is an assignment operator is used to assign the value right to the variable on the left. The '==' operator checks whether the two given operands are equal or not. If so, it returns true. Otherwise it returns false"
   ]
  },
  {
   "cell_type": "markdown",
   "id": "ec1079ee",
   "metadata": {},
   "source": [
    "### Q7. Identify the three blocks in this code:"
   ]
  },
  {
   "cell_type": "code",
   "execution_count": 19,
   "id": "baf1f7dc",
   "metadata": {},
   "outputs": [
    {
     "name": "stdout",
     "output_type": "stream",
     "text": [
      "spam\n"
     ]
    }
   ],
   "source": [
    "spam = 0\n",
    "if spam == 10:\n",
    "    print('eggs')\n",
    "    if spam > 5:\n",
    "        print('bacon')\n",
    "    else:\n",
    "        print('ham')\n",
    "    print('spam')\n",
    "print('spam')"
   ]
  },
  {
   "cell_type": "markdown",
   "id": "28f34ac9",
   "metadata": {},
   "source": [
    "##### The three blocks are everything inside the if statement and the lines print('bacon') and print('ham')"
   ]
  },
  {
   "cell_type": "markdown",
   "id": "2c43ea65",
   "metadata": {},
   "source": [
    "### Q8. Write code that prints Hello if 1 is stored in spam, prints Howdy if 2 is stored in spam, and prints Greetings! if anything else is stored in spam."
   ]
  },
  {
   "cell_type": "code",
   "execution_count": 20,
   "id": "c7025c49",
   "metadata": {},
   "outputs": [
    {
     "name": "stdout",
     "output_type": "stream",
     "text": [
      "Enter a number: 2\n",
      "Howdy\n"
     ]
    }
   ],
   "source": [
    "spam = int(input(\"Enter a number: \"))\n",
    "if spam == 1 :\n",
    "    print(\"Hello\")\n",
    "elif spam == 2 :\n",
    "    print(\"Howdy\")\n",
    "else :\n",
    "    print(\"Greetings!\")"
   ]
  },
  {
   "cell_type": "markdown",
   "id": "6b03c285",
   "metadata": {},
   "source": [
    "### Q9.If your programme is stuck in an endless loop, what keys you’ll press?"
   ]
  },
  {
   "cell_type": "markdown",
   "id": "eab43189",
   "metadata": {},
   "source": [
    "##### We will press Ctrl+c"
   ]
  },
  {
   "cell_type": "markdown",
   "id": "ed847068",
   "metadata": {},
   "source": [
    "### Q10. How can you tell the difference between break and continue?"
   ]
  },
  {
   "cell_type": "markdown",
   "id": "6e8f98e8",
   "metadata": {},
   "source": [
    "##### The main difference between break and continue statement is that when break keyword encounterd, it will exit the loop. In case of continue keyword, the current iteration that is running will be stoped, and it will proceed with the next iteration."
   ]
  },
  {
   "cell_type": "markdown",
   "id": "68ee0286",
   "metadata": {},
   "source": [
    "### Q11. In a for loop, what is the difference between range(10), range(0, 10), and range(0, 10, 1)?"
   ]
  },
  {
   "cell_type": "code",
   "execution_count": 21,
   "id": "00147f70",
   "metadata": {},
   "outputs": [
    {
     "data": {
      "text/plain": [
       "range(0, 10)"
      ]
     },
     "execution_count": 21,
     "metadata": {},
     "output_type": "execute_result"
    }
   ],
   "source": [
    "range(10)"
   ]
  },
  {
   "cell_type": "code",
   "execution_count": 22,
   "id": "149495c2",
   "metadata": {},
   "outputs": [
    {
     "data": {
      "text/plain": [
       "range(0, 10)"
      ]
     },
     "execution_count": 22,
     "metadata": {},
     "output_type": "execute_result"
    }
   ],
   "source": [
    "range(0,10)"
   ]
  },
  {
   "cell_type": "code",
   "execution_count": 23,
   "id": "808eac95",
   "metadata": {},
   "outputs": [
    {
     "data": {
      "text/plain": [
       "range(0, 10)"
      ]
     },
     "execution_count": 23,
     "metadata": {},
     "output_type": "execute_result"
    }
   ],
   "source": [
    "range(0,10,1)"
   ]
  },
  {
   "cell_type": "markdown",
   "id": "33294f14",
   "metadata": {},
   "source": [
    "##### All three statements are same."
   ]
  },
  {
   "cell_type": "markdown",
   "id": "fb09315d",
   "metadata": {},
   "source": [
    "### Q12. Write a short program that prints the numbers 1 to 10 using a for loop. Then write an equivalent program that prints the numbers 1 to 10 using a while loop."
   ]
  },
  {
   "cell_type": "code",
   "execution_count": 24,
   "id": "9b0c3fe9",
   "metadata": {},
   "outputs": [
    {
     "name": "stdout",
     "output_type": "stream",
     "text": [
      "0\n",
      "1\n",
      "2\n",
      "3\n",
      "4\n",
      "5\n",
      "6\n",
      "7\n",
      "8\n",
      "9\n",
      "10\n"
     ]
    }
   ],
   "source": [
    "for i in range(11) :\n",
    "    print(i)"
   ]
  },
  {
   "cell_type": "code",
   "execution_count": 27,
   "id": "d7c9c6a4",
   "metadata": {},
   "outputs": [
    {
     "name": "stdout",
     "output_type": "stream",
     "text": [
      "1\n",
      "2\n",
      "3\n",
      "4\n",
      "5\n",
      "6\n",
      "7\n",
      "8\n",
      "9\n",
      "10\n"
     ]
    }
   ],
   "source": [
    "a = 1\n",
    "while a <= 10 :\n",
    "    print(a)\n",
    "    a+=1"
   ]
  },
  {
   "cell_type": "markdown",
   "id": "83510e11",
   "metadata": {},
   "source": [
    "### Q13. If you had a function named bacon() inside a module named spam, how would you call it after importing spam?"
   ]
  },
  {
   "cell_type": "markdown",
   "id": "82bdaa6e",
   "metadata": {},
   "source": [
    "##### This function can be called spam.bacon()"
   ]
  }
 ],
 "metadata": {
  "kernelspec": {
   "display_name": "Python 3 (ipykernel)",
   "language": "python",
   "name": "python3"
  },
  "language_info": {
   "codemirror_mode": {
    "name": "ipython",
    "version": 3
   },
   "file_extension": ".py",
   "mimetype": "text/x-python",
   "name": "python",
   "nbconvert_exporter": "python",
   "pygments_lexer": "ipython3",
   "version": "3.9.7"
  }
 },
 "nbformat": 4,
 "nbformat_minor": 5
}
