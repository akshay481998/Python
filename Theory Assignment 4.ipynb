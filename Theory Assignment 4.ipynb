{
 "cells": [
  {
   "cell_type": "markdown",
   "id": "9e84f5f3",
   "metadata": {},
   "source": [
    "#### 1) What exactly is []?"
   ]
  },
  {
   "cell_type": "markdown",
   "id": "c1615a17",
   "metadata": {},
   "source": [
    "- This is a empty list, square brackets are used to store a list in python, this is one of the data type in python"
   ]
  },
  {
   "cell_type": "markdown",
   "id": "ed8940ce",
   "metadata": {},
   "source": [
    "#### 2) In a list of values stored in a variable called spam, how would you assign the value &#39;hello&#39; as the third value? (Assume [2, 4, 6, 8, 10] are in spam.)"
   ]
  },
  {
   "cell_type": "markdown",
   "id": "02cbb72e",
   "metadata": {},
   "source": [
    "- The value can be assigned by spam[2]='hello'."
   ]
  },
  {
   "cell_type": "markdown",
   "id": "ee028f95",
   "metadata": {},
   "source": [
    "#### Let&#39;s pretend the spam includes the list [&#39;a&#39;, &#39;b&#39;, &#39;c&#39;, &#39;d&#39;] for the next three queries."
   ]
  },
  {
   "cell_type": "markdown",
   "id": "478726ac",
   "metadata": {},
   "source": [
    "#### 3) What is the value of spam[int(int(&#39;3&#39; * 2) / 11)]?"
   ]
  },
  {
   "cell_type": "markdown",
   "id": "c8526738",
   "metadata": {},
   "source": [
    "- The expression will give the output 3 and as indexwise \"d\" is at 3rd index. That is why answer is 'd'."
   ]
  },
  {
   "cell_type": "markdown",
   "id": "b688f673",
   "metadata": {},
   "source": [
    "#### 4) What is the value of spam[-1]?"
   ]
  },
  {
   "cell_type": "markdown",
   "id": "4daf8272",
   "metadata": {},
   "source": [
    "- The output is 'd', because if we consider negative indexing 'd' is at -1th position."
   ]
  },
  {
   "cell_type": "markdown",
   "id": "e4bf2fd1",
   "metadata": {},
   "source": [
    "#### 5) What is the value of spam[:2]?"
   ]
  },
  {
   "cell_type": "markdown",
   "id": "f1496ac4",
   "metadata": {},
   "source": [
    "- The output will be ['a','b']"
   ]
  },
  {
   "cell_type": "markdown",
   "id": "de9de2df",
   "metadata": {},
   "source": [
    "#### Let&#39;s pretend bacon has the list [3.14, &#39;cat,&#39; 11, &#39;cat,&#39; True] for the next three questions."
   ]
  },
  {
   "cell_type": "markdown",
   "id": "7e916ee3",
   "metadata": {},
   "source": [
    "#### 6) What is the value of bacon.index(&#39;cat&#39;)?"
   ]
  },
  {
   "cell_type": "markdown",
   "id": "5cfc86b7",
   "metadata": {},
   "source": [
    "- 1"
   ]
  },
  {
   "cell_type": "markdown",
   "id": "a39792dc",
   "metadata": {},
   "source": [
    "#### 7) How does bacon.append(99) change the look of the list value in bacon?"
   ]
  },
  {
   "cell_type": "markdown",
   "id": "e97ca039",
   "metadata": {},
   "source": [
    "- The list will look like [3.14, 'cat', 11, 'cat', True, 99]"
   ]
  },
  {
   "cell_type": "markdown",
   "id": "b82f8c22",
   "metadata": {},
   "source": [
    "#### 8) How does bacon.remove(&#39;cat&#39;) change the look of the list in bacon?"
   ]
  },
  {
   "cell_type": "markdown",
   "id": "ebddec8a",
   "metadata": {},
   "source": [
    "- The output will be [3.14, 11, 'cat', True]"
   ]
  },
  {
   "cell_type": "markdown",
   "id": "384f9f80",
   "metadata": {},
   "source": [
    "#### 9) What are the list concatenation and list replication operators?"
   ]
  },
  {
   "cell_type": "markdown",
   "id": "a16bc9a8",
   "metadata": {},
   "source": [
    "- The operator for list concatenation is +, while the operator for list replication is *."
   ]
  },
  {
   "cell_type": "markdown",
   "id": "819e5320",
   "metadata": {},
   "source": [
    "#### 10) What is difference between the list methods append() and insert()?"
   ]
  },
  {
   "cell_type": "markdown",
   "id": "f22dec10",
   "metadata": {},
   "source": [
    "- While the append() will add the value at end of the list, whereas the insert() can add them in anywhere in a list."
   ]
  },
  {
   "cell_type": "markdown",
   "id": "41648f02",
   "metadata": {},
   "source": [
    "#### 11) What are the two methods for removing items from a list?"
   ]
  },
  {
   "cell_type": "markdown",
   "id": "4f5cd860",
   "metadata": {},
   "source": [
    "- The del statement and the remove() method are two ways to remove items from a list. "
   ]
  },
  {
   "cell_type": "markdown",
   "id": "a8ce13fc",
   "metadata": {},
   "source": [
    "#### 12) Describe how list values and string values are identical."
   ]
  },
  {
   "cell_type": "markdown",
   "id": "718f9d95",
   "metadata": {},
   "source": [
    "- Both lists and strings can be passed to len(), have indexes and slices, be used in for loops, be concatenated or replicated, and be used with the in and not in operators."
   ]
  },
  {
   "cell_type": "markdown",
   "id": "6f37672a",
   "metadata": {},
   "source": [
    "#### 13) What&#39;s the difference between tuples and lists?"
   ]
  },
  {
   "cell_type": "markdown",
   "id": "d611e0da",
   "metadata": {},
   "source": [
    "- The tuples are written using parenthesis (), whereas list are used square brackets [ ]\n",
    "- Lists are mutable, they can have values added, removed or changed, tuples are immutable they cannot be changed at all.\n",
    "- Lists objects are cannot used as keys in dictionary, because keys should be hashable and immutable. Tuples object can be used as keys in dictionaries because keys should be hashable and immutable."
   ]
  },
  {
   "cell_type": "markdown",
   "id": "e4964e64",
   "metadata": {},
   "source": [
    "#### 14) How do you type a tuple value that only contains the integer 42?"
   ]
  },
  {
   "cell_type": "markdown",
   "id": "9564894e",
   "metadata": {},
   "source": [
    "- We can write it as (42,). (The trailing comma is neccessary)."
   ]
  },
  {
   "cell_type": "markdown",
   "id": "21d0e7e0",
   "metadata": {},
   "source": [
    "#### 15) How do you get a list value&#39;s tuple form? How do you get a tuple value&#39;s list form?"
   ]
  },
  {
   "cell_type": "markdown",
   "id": "9e916b13",
   "metadata": {},
   "source": [
    "- By using tuple() and list() functions respectively."
   ]
  },
  {
   "cell_type": "markdown",
   "id": "666e00b8",
   "metadata": {},
   "source": [
    "#### 16) Variables that &quot;contain&quot; list values are not necessarily lists themselves. Instead, what do they contain?"
   ]
  },
  {
   "cell_type": "markdown",
   "id": "a32d12cb",
   "metadata": {},
   "source": [
    "- They contain references to list values."
   ]
  },
  {
   "cell_type": "markdown",
   "id": "4931bf3d",
   "metadata": {},
   "source": [
    "#### 17) How do you distinguish between copy.copy() and copy.deepcopy()?"
   ]
  },
  {
   "cell_type": "markdown",
   "id": "f131d712",
   "metadata": {},
   "source": [
    "- These two methods are available in copy module.\n",
    "- copy.copy() creates shallow copy of a list, whereas copy.deepcopy() will create the clone of a list.\n",
    "- In the case of deep copy, a copy of the object is copied into another object. It means that any changes made to a copy of the object do not reflect in the original object.\n",
    "- In the case of shallow copy, a reference of an object is copied into another object. It means that any changes made to a copy of an object do reflect in the original object."
   ]
  }
 ],
 "metadata": {
  "kernelspec": {
   "display_name": "Python 3 (ipykernel)",
   "language": "python",
   "name": "python3"
  },
  "language_info": {
   "codemirror_mode": {
    "name": "ipython",
    "version": 3
   },
   "file_extension": ".py",
   "mimetype": "text/x-python",
   "name": "python",
   "nbconvert_exporter": "python",
   "pygments_lexer": "ipython3",
   "version": "3.9.13"
  }
 },
 "nbformat": 4,
 "nbformat_minor": 5
}
