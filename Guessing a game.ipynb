{
 "cells": [
  {
   "cell_type": "code",
   "execution_count": 1,
   "id": "53eb45c7",
   "metadata": {},
   "outputs": [
    {
     "name": "stdout",
     "output_type": "stream",
     "text": [
      "Enter a guess number50\n",
      "Guess higher number\n",
      "Enter a guess number70\n",
      "Guess higher number\n",
      "Enter a guess number80\n",
      "Guess Lower number\n",
      "Enter a guess number75\n",
      "Guess Lower number\n",
      "Enter a guess number72\n",
      "Wow! Superb\n",
      "You took 5 attempts\n"
     ]
    }
   ],
   "source": [
    "import random\n",
    "Jackpot = random.randint(1,100)\n",
    "\n",
    "Guess = int(input(\"Enter a guess number\"))\n",
    "Counter = 1\n",
    "\n",
    "while Guess != Jackpot:\n",
    "    if Guess < Jackpot:\n",
    "        print(\"Guess higher number\")\n",
    "    else :\n",
    "        print(\"Guess Lower number\")\n",
    "    Guess = int(input(\"Enter a guess number\"))\n",
    "    Counter += 1\n",
    "    \n",
    "print(\"Wow! Superb\")\n",
    "print(\"You took\",Counter,\"attempts\")\n"
   ]
  },
  {
   "cell_type": "code",
   "execution_count": null,
   "id": "671d6405",
   "metadata": {},
   "outputs": [],
   "source": []
  }
 ],
 "metadata": {
  "kernelspec": {
   "display_name": "Python 3 (ipykernel)",
   "language": "python",
   "name": "python3"
  },
  "language_info": {
   "codemirror_mode": {
    "name": "ipython",
    "version": 3
   },
   "file_extension": ".py",
   "mimetype": "text/x-python",
   "name": "python",
   "nbconvert_exporter": "python",
   "pygments_lexer": "ipython3",
   "version": "3.9.13"
  }
 },
 "nbformat": 4,
 "nbformat_minor": 5
}
