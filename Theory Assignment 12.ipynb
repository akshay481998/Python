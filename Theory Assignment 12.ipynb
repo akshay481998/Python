{
 "cells": [
  {
   "cell_type": "markdown",
   "id": "7403dc18",
   "metadata": {},
   "source": [
    "#### 1. In what modes should the PdfFileReader() and PdfFileWriter() File objects will be opened?"
   ]
  },
  {
   "cell_type": "markdown",
   "id": "2ec5f83b",
   "metadata": {},
   "source": [
    "- For PdfFileReader() file object should be opened in rb -> read binary mode.\n",
    "- Whereas for PdfFileWriter() the file object should be opened in -> write binary mode."
   ]
  },
  {
   "cell_type": "code",
   "execution_count": 1,
   "id": "283ebd31",
   "metadata": {},
   "outputs": [
    {
     "name": "stdout",
     "output_type": "stream",
     "text": [
      "Defaulting to user installation because normal site-packages is not writeable\n",
      "Requirement already satisfied: pyPDF2 in c:\\users\\akshay\\appdata\\roaming\\python\\python39\\site-packages (3.0.1)\n",
      "Requirement already satisfied: typing_extensions>=3.10.0.0 in c:\\programdata\\anaconda3\\lib\\site-packages (from pyPDF2) (4.3.0)\n"
     ]
    }
   ],
   "source": [
    "!pip install pyPDF2"
   ]
  },
  {
   "cell_type": "markdown",
   "id": "5aaa2524",
   "metadata": {},
   "source": [
    "#### 2. From a PdfFileReader object, how do you get a Page object for page 5?"
   ]
  },
  {
   "cell_type": "markdown",
   "id": "51bc8c87",
   "metadata": {},
   "source": [
    "- Calling getpage(4) will return a page object for page 5, since page 0 is first page."
   ]
  },
  {
   "cell_type": "code",
   "execution_count": 12,
   "id": "d1e090ed",
   "metadata": {},
   "outputs": [
    {
     "data": {
      "text/plain": [
       "'2 7 / 9 / 2 0 2 16: SAMPLING DISTRIBUTIONS\\nThe probabili ty distribution of a statistic is called its sampling distribution. Typically sample statistics are not ends in themselves, but\\nare computed  in order to estimate the corresponding population parameters. This chapter introduces the concepts of the mean, the\\nstandard deviation, and the sampling distribution of a sample statistic, with an emphasis on the sample mean.\\n6.1: THE MEAN AND ST ANDARD DEVIA TION OF THE SAMPLE MEAN\\n6.2: THE SAMPLING DISTRIBUTION OF THE SAMPLE MEAN\\n6.3: THE SAMPLE PROPOR TION\\n6.E: SAMPLING DISTRIBUTIONS (EXERCISES)\\n7: ESTIMA TION\\n7.1: LARGE SAMPLE ESTIMA TION OF A POPULA TION MEAN\\n7.2: SMALL SAMPLE ESTIMA TION OF A POPULA TION MEAN\\n7.3: LARGE SAMPLE ESTIMA TION OF A POPULA TION PROPOR TION\\n7.4: SAMPLE SIZE CONSIDERA TIONS\\n7.E: ESTIMA TION (EXERCISES)\\n8: TESTING HYPOTHESES\\nIn the sampling that we have studied so far the goal has been to estimate a population parameter . But the sampling done by the\\ngovernment agency has a somewhat different objective, not so much to estimate the population mean as to test an assertion—or a\\nhypothesis—about it, namely , whether it is as large as 75 or not. The agency is not necessarily interested in the actual value mean, just\\nwhether it is as claimed. Their sampling is done to perform a test of hypotheses.\\n8.1: THE ELEMENTS OF HYPOTHESIS TESTING\\n8.2: LARGE SAMPLE TESTS FOR A POPULA TION MEAN\\n8.3: THE OBSER VED SIGNIFICANCE OF A TEST\\n8.4: SMALL SAMPLE TESTS FOR A POPULA TION MEAN\\n8.5: LARGE SAMPLE TESTS FOR A POPULA TION PROPOR TION\\n8.E: TESTING HYPOTHESES (EXERCISES)\\n9: TWO-SAMPLE PROBLEMS\\nPreviously , we treated the questions of estimating and making inferences about a parameter of a single population. In this chapter we\\nconsider a comparison of parameters that belong to two different populations. For example, we might wish to compare the average\\nincome of all adults in one region of the country with the average income of those in another region, or we might wish to compare the\\nproportion of all men who are vegetarians with the proportion of all women who are vegetarians.\\n9.1: COMP ARISON OF TWO POPULA TION MEANS- LARGE, INDEPENDENT SAMPLES\\n9.2: COMP ARISON OF TWO POPULA TION MEANS - SMALL, INDEPENDENT SAMPLES\\n9.3: COMP ARISON OF TWO POPULA TION MEANS - P AIRED SAMPLES\\n9.4: COMP ARISON OF TWO POPULA TION PROPOR TIONS\\n9.5: SAMPLE SIZE CONSIDERA TIONS\\n9.E: TWO-SAMPLE PROBLEMS (EXERCISES)\\n10: CORRELA TION AND REGRESSION\\nOur interest in this chapter is in situations in which we can associate to each element of a population or sample two measurements x and\\ny, particularly in the case that it is of interest to use the value of x to predict the value of y. In this chapter we will learn statistical\\nmethods for analyzing the relationship between variables x and y in this context.\\n10.1: LINEAR RELA TIONSHIPS BETWEEN V ARIABLES\\n10.2: THE LINEAR CORRELA TION COEFFICIENT\\n10.3: MODELLING LINEAR RELA TIONSHIPS WITH RANDOMNESS PRESENT\\n10.4: THE LEAST SQUARES REGRESSION LINE\\n10.5: ST ATISTICAL INFERENCES ABOUT Β ₁\\n10.6: THE COEFFICIENT OF DETERMINA TION\\n10.7: ESTIMA TION AND PREDICTION\\n10.8: A COMPLETE EXAMPLE\\n10.9: FORMULA LIST\\n10.E: CORRELA TION AND REGRESSION (EXERCISES)'"
      ]
     },
     "execution_count": 12,
     "metadata": {},
     "output_type": "execute_result"
    }
   ],
   "source": [
    "import PyPDF2 as pdf\n",
    "pdfFileObj = open(\"Full.pdf\",'rb')\n",
    "pdfReader = pdf.PdfReader(pdfFileObj)     # PdfFileReader deprecated instead of we can use PdfReader.\n",
    "pageObj = pdfReader.pages[4]              # getPages was deprecated insted use reader.pages[Page_num]\n",
    "pageObj.extract_text()                    # insted extractText() use extract_text()"
   ]
  },
  {
   "cell_type": "markdown",
   "id": "2d0e5287",
   "metadata": {},
   "source": [
    "#### 3. What PdfFileReader variable stores the number of pages in the PDF document?"
   ]
  },
  {
   "cell_type": "code",
   "execution_count": 11,
   "id": "2a9a4630",
   "metadata": {},
   "outputs": [
    {
     "data": {
      "text/plain": [
       "408"
      ]
     },
     "execution_count": 11,
     "metadata": {},
     "output_type": "execute_result"
    }
   ],
   "source": [
    "import PyPDF2 as pdf\n",
    "pdfFileObj = open(\"full.pdf\",'rb')\n",
    "pdfReader = pdf.PdfReader(pdfFileObj)\n",
    "len(pdfReader.pages)                    # instead pdfReader.numPages use len(reader.pages)."
   ]
  },
  {
   "cell_type": "markdown",
   "id": "14533962",
   "metadata": {},
   "source": [
    "#### 4. If a PdfFileReader object’s PDF is encrypted with the password swordfish, what must you do before you can obtain Page objects from it?"
   ]
  },
  {
   "cell_type": "markdown",
   "id": "b56906a2",
   "metadata": {},
   "source": [
    "- Ans: Before we obtain the page object, the pdf has to be decrypted by calling .decrypt('swordfish')"
   ]
  },
  {
   "cell_type": "markdown",
   "id": "8d895571",
   "metadata": {},
   "source": [
    "#### 5. What methods do you use to rotate a page?"
   ]
  },
  {
   "cell_type": "markdown",
   "id": "5b776276",
   "metadata": {},
   "source": [
    "- Ans pageObj.rotateClockwise(180)\n",
    "\n",
    "- The rotateClockwise() and rotateCounterClockwise() methods. The degrees to rotate is passed as an integer argument"
   ]
  },
  {
   "cell_type": "markdown",
   "id": "54fa634d",
   "metadata": {},
   "source": [
    "#### 6. What is the difference between a Run object and a Paragraph object?"
   ]
  },
  {
   "cell_type": "markdown",
   "id": "bacc2c85",
   "metadata": {},
   "source": [
    "- Ans \n",
    "- Paragraph Object : A document contains multiple paragraphs. A paragraph begins on a new line and contains multiple runs. The Document object contains a list of Paragraph objects for the paragraphs in the document. (A new paragraph begins whenever the user presses ENTER or RETURN while typing in a Word document.)"
   ]
  },
  {
   "cell_type": "markdown",
   "id": "1d802b1e",
   "metadata": {},
   "source": [
    "- Run Objects : Runs are contiguous groups of characters within a paragraph with the same style"
   ]
  },
  {
   "cell_type": "markdown",
   "id": "84a51ca6",
   "metadata": {},
   "source": [
    "#### 7. How do you obtain a list of Paragraph objects for a Document object that’s stored in a variable named doc?"
   ]
  },
  {
   "cell_type": "code",
   "execution_count": null,
   "id": "bc19d621",
   "metadata": {},
   "outputs": [],
   "source": [
    "#!pip install python-docx\n",
    "import docx\n",
    "doc = docx.Document('abc.docx')\n",
    "doc.paragraphs\n",
    "#By using doc.paragraphs"
   ]
  },
  {
   "cell_type": "markdown",
   "id": "ae56d00c",
   "metadata": {},
   "source": [
    "#### 8. What type of object has bold, underline, italic, strike, and outline variables?"
   ]
  },
  {
   "cell_type": "markdown",
   "id": "373742cc",
   "metadata": {},
   "source": [
    "- Ans. A Run object has bold, underline,italic,strike and outline variables"
   ]
  },
  {
   "cell_type": "markdown",
   "id": "9f9d8e39",
   "metadata": {},
   "source": [
    "#### 9. What is the difference between False, True, and None for the bold variable?"
   ]
  },
  {
   "cell_type": "markdown",
   "id": "8f7865de",
   "metadata": {},
   "source": [
    "- Ans \n",
    "- Runs can be further styled using text attributes. Each attribute can be set to one of three values:\n",
    "- True (the attribute is always enabled, no matter what other styles are applied to the run),\n",
    "- False (the attribute is always disabled),\n",
    "- None (defaults to whatever the run’s style is set to)\n",
    "\n",
    "- True always makes the Run object bolded and False makes it always not bolded, no matter what the style’s bold setting is. None will make the Run object just use the style’s bold setting"
   ]
  },
  {
   "cell_type": "markdown",
   "id": "f16585c8",
   "metadata": {},
   "source": [
    "#### 10. How do you create a Document object for a new Word document?"
   ]
  },
  {
   "cell_type": "markdown",
   "id": "adbf1951",
   "metadata": {},
   "source": [
    "- Ans By Calling the docx.Document() function."
   ]
  },
  {
   "cell_type": "markdown",
   "id": "284a70e9",
   "metadata": {},
   "source": [
    "#### 11. How do you add a paragraph with the text &#39;Hello, there!&#39; to a Document object stored in a variable named doc?"
   ]
  },
  {
   "cell_type": "code",
   "execution_count": null,
   "id": "4b7df257",
   "metadata": {},
   "outputs": [],
   "source": [
    "import docx\n",
    "doc = docx.Document()\n",
    "\n",
    "doc.add_paragraph('Hello there!')\n",
    "doc.save('hellothere.docx')"
   ]
  },
  {
   "cell_type": "markdown",
   "id": "aa991b7f",
   "metadata": {},
   "source": [
    "#### 12. What integers represent the levels of headings available in Word documents?"
   ]
  },
  {
   "cell_type": "markdown",
   "id": "63b0e785",
   "metadata": {},
   "source": [
    "- integer from 0 to 4\n",
    "- The arguments to add_heading() are a string of the heading text and an integer from 0 to 4. The integer 0 makes the heading the Title style, which is used for the top of the document. Integers 1 to 4 are for various heading levels, with 1 being the main heading and 4 the lowest subheading"
   ]
  }
 ],
 "metadata": {
  "kernelspec": {
   "display_name": "Python 3 (ipykernel)",
   "language": "python",
   "name": "python3"
  },
  "language_info": {
   "codemirror_mode": {
    "name": "ipython",
    "version": 3
   },
   "file_extension": ".py",
   "mimetype": "text/x-python",
   "name": "python",
   "nbconvert_exporter": "python",
   "pygments_lexer": "ipython3",
   "version": "3.9.13"
  }
 },
 "nbformat": 4,
 "nbformat_minor": 5
}
