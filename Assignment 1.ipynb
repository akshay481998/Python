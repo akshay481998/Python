{
 "cells": [
  {
   "cell_type": "markdown",
   "id": "15d4cb5e",
   "metadata": {},
   "source": [
    "# Assignment 1"
   ]
  },
  {
   "cell_type": "markdown",
   "id": "e1a74919",
   "metadata": {},
   "source": [
    "### Q1"
   ]
  },
  {
   "cell_type": "code",
   "execution_count": 2,
   "id": "073fcc6b",
   "metadata": {},
   "outputs": [
    {
     "name": "stdout",
     "output_type": "stream",
     "text": [
      "Hello Python\n"
     ]
    }
   ],
   "source": [
    "print(\"Hello Python\")"
   ]
  },
  {
   "cell_type": "markdown",
   "id": "af364a57",
   "metadata": {},
   "source": [
    "### Q2"
   ]
  },
  {
   "cell_type": "code",
   "execution_count": 4,
   "id": "3bb93e62",
   "metadata": {},
   "outputs": [
    {
     "name": "stdout",
     "output_type": "stream",
     "text": [
      "Enter the first number = 10\n",
      "Enter the second number = 5\n",
      "Enter which operation would you like to perform?\n",
      "Enter any of these char for specific operation +,/: +\n",
      "10 + 5 : 15\n"
     ]
    }
   ],
   "source": [
    "a = int(input(\"Enter the first number = \"))\n",
    "b = int(input(\"Enter the second number = \"))\n",
    "print(\"Enter which operation would you like to perform?\")\n",
    "ch = input(\"Enter any of these char for specific operation +,/: \")\n",
    "\n",
    "result = 0\n",
    "\n",
    "if ch == '+' :\n",
    "    result = a + b\n",
    "elif ch == '/' :\n",
    "    result = a/b\n",
    "else :\n",
    "    print(\"input ch is not recognised\")\n",
    "    \n",
    "print(a,ch,b,\":\",result)"
   ]
  },
  {
   "cell_type": "code",
   "execution_count": 5,
   "id": "ee2029db",
   "metadata": {},
   "outputs": [
    {
     "name": "stdout",
     "output_type": "stream",
     "text": [
      "Enter the first number = 10\n",
      "Enter the second number = 5\n",
      "Enter which operation would you like to perform?\n",
      "Enter any of these char for specific operation +,/: /\n",
      "10 / 5 : 2.0\n"
     ]
    }
   ],
   "source": [
    "a = int(input(\"Enter the first number = \"))\n",
    "b = int(input(\"Enter the second number = \"))\n",
    "print(\"Enter which operation would you like to perform?\")\n",
    "ch = input(\"Enter any of these char for specific operation +,/: \")\n",
    "\n",
    "result = 0\n",
    "\n",
    "if ch == '+' :\n",
    "    result = a + b\n",
    "elif ch == '/' :\n",
    "    result = a/b\n",
    "else :\n",
    "    print(\"input ch is not recognised\")\n",
    "    \n",
    "print(a,ch,b,\":\",result)"
   ]
  },
  {
   "cell_type": "markdown",
   "id": "70f29294",
   "metadata": {},
   "source": [
    "### Q3"
   ]
  },
  {
   "cell_type": "code",
   "execution_count": 7,
   "id": "fb293cd5",
   "metadata": {},
   "outputs": [
    {
     "name": "stdout",
     "output_type": "stream",
     "text": [
      "Enter first side: 2\n",
      "Enter second side: 3\n",
      "Enter third side: 4\n",
      "The area of the triangle is 2.90\n"
     ]
    }
   ],
   "source": [
    "a = float(input('Enter first side: '))\n",
    "b = float(input('Enter second side: '))\n",
    "c = float(input('Enter third side: '))\n",
    "s = (a + b + c) / 2\n",
    "area = (s*(s-a)*(s-b)*(s-c)) ** 0.5\n",
    "print('The area of the triangle is %0.2f' %area)"
   ]
  },
  {
   "cell_type": "markdown",
   "id": "10eb6cdb",
   "metadata": {},
   "source": [
    "### Q4"
   ]
  },
  {
   "cell_type": "code",
   "execution_count": 8,
   "id": "545b27b5",
   "metadata": {},
   "outputs": [
    {
     "name": "stdout",
     "output_type": "stream",
     "text": [
      "X = 10\n",
      "Y= 5\n"
     ]
    }
   ],
   "source": [
    "x = 5\n",
    "y = 10\n",
    "\n",
    "x,y = y,x\n",
    "print(\"X =\",x)\n",
    "print(\"Y=\",y)"
   ]
  },
  {
   "cell_type": "markdown",
   "id": "f079a1a4",
   "metadata": {},
   "source": [
    "### Q5"
   ]
  },
  {
   "cell_type": "code",
   "execution_count": 12,
   "id": "9670c4a4",
   "metadata": {},
   "outputs": [
    {
     "name": "stdout",
     "output_type": "stream",
     "text": [
      "7\n"
     ]
    }
   ],
   "source": [
    "import random\n",
    "print(random.randint(0,10))"
   ]
  }
 ],
 "metadata": {
  "kernelspec": {
   "display_name": "Python 3 (ipykernel)",
   "language": "python",
   "name": "python3"
  },
  "language_info": {
   "codemirror_mode": {
    "name": "ipython",
    "version": 3
   },
   "file_extension": ".py",
   "mimetype": "text/x-python",
   "name": "python",
   "nbconvert_exporter": "python",
   "pygments_lexer": "ipython3",
   "version": "3.9.7"
  }
 },
 "nbformat": 4,
 "nbformat_minor": 5
}
