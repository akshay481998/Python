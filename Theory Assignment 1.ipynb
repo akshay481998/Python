{
 "cells": [
  {
   "cell_type": "markdown",
   "id": "f6c450da",
   "metadata": {},
   "source": [
    "### Q1 In the below elements which of them are values or an expression? eg:- values can beinteger or string and expressions will be mathematical operators."
   ]
  },
  {
   "cell_type": "raw",
   "id": "f63a27ae",
   "metadata": {},
   "source": [
    "*,-,/,+"
   ]
  },
  {
   "cell_type": "raw",
   "id": "f51bfd69",
   "metadata": {},
   "source": [
    "These all are mathamatical operators."
   ]
  },
  {
   "cell_type": "code",
   "execution_count": 3,
   "id": "f1a0089f",
   "metadata": {},
   "outputs": [
    {
     "data": {
      "text/plain": [
       "str"
      ]
     },
     "execution_count": 3,
     "metadata": {},
     "output_type": "execute_result"
    }
   ],
   "source": [
    "'Hello'\n",
    "type('Hello')"
   ]
  },
  {
   "cell_type": "raw",
   "id": "8d7735fa",
   "metadata": {},
   "source": [
    "This is a string."
   ]
  },
  {
   "cell_type": "code",
   "execution_count": 4,
   "id": "28d0bc02",
   "metadata": {},
   "outputs": [
    {
     "data": {
      "text/plain": [
       "float"
      ]
     },
     "execution_count": 4,
     "metadata": {},
     "output_type": "execute_result"
    }
   ],
   "source": [
    "a=-87.8\n",
    "type(a)"
   ]
  },
  {
   "cell_type": "raw",
   "id": "ce007d36",
   "metadata": {},
   "source": [
    "This is a float variable"
   ]
  },
  {
   "cell_type": "markdown",
   "id": "e2939dd5",
   "metadata": {},
   "source": [
    "### Q2 What is the difference between string and variable?"
   ]
  },
  {
   "cell_type": "raw",
   "id": "177c0fe9",
   "metadata": {},
   "source": [
    "Variables are symbols that we can use to store the data and strings are data so by using variable we can store strings."
   ]
  },
  {
   "cell_type": "markdown",
   "id": "e315b6db",
   "metadata": {},
   "source": [
    "### Q3 Describe three different data types."
   ]
  },
  {
   "cell_type": "raw",
   "id": "9e3d5c42",
   "metadata": {},
   "source": [
    "Integer, float, complex numbers these there are numeric data types."
   ]
  },
  {
   "cell_type": "markdown",
   "id": "cbd6a6cc",
   "metadata": {},
   "source": [
    "### Q4 What is an expression made up of? What do all expressions do?"
   ]
  },
  {
   "cell_type": "raw",
   "id": "1a09cb76",
   "metadata": {},
   "source": [
    "An expression is made up of variables and mathamatical operators which are constructed according to syntax of the language."
   ]
  },
  {
   "cell_type": "markdown",
   "id": "e34afa6f",
   "metadata": {},
   "source": [
    "### Q5 This assignment statements, like spam = 10. What is the difference between anexpression and a statement?"
   ]
  },
  {
   "cell_type": "raw",
   "id": "1656dc39",
   "metadata": {},
   "source": [
    "Expression is made up of values and mathamatical operators and statement just like a command that python interpriter exicute like print"
   ]
  },
  {
   "cell_type": "markdown",
   "id": "34b7f64e",
   "metadata": {},
   "source": [
    "### Q6 After running the following code, what does the variable bacon contain?"
   ]
  },
  {
   "cell_type": "code",
   "execution_count": 6,
   "id": "6e0357ed",
   "metadata": {},
   "outputs": [
    {
     "data": {
      "text/plain": [
       "23"
      ]
     },
     "execution_count": 6,
     "metadata": {},
     "output_type": "execute_result"
    }
   ],
   "source": [
    "bacon = 22\n",
    "bacon + 1"
   ]
  },
  {
   "cell_type": "raw",
   "id": "941d074d",
   "metadata": {},
   "source": [
    "The value of bacon will increse by 1."
   ]
  },
  {
   "cell_type": "markdown",
   "id": "a8aecfe7",
   "metadata": {},
   "source": [
    "### Q7 What should the values of the following two terms be?"
   ]
  },
  {
   "cell_type": "code",
   "execution_count": 7,
   "id": "cba01ad7",
   "metadata": {},
   "outputs": [
    {
     "data": {
      "text/plain": [
       "'spamspamspam'"
      ]
     },
     "execution_count": 7,
     "metadata": {},
     "output_type": "execute_result"
    }
   ],
   "source": [
    "'spam'+'spamspam'"
   ]
  },
  {
   "cell_type": "code",
   "execution_count": 8,
   "id": "d39b75d5",
   "metadata": {},
   "outputs": [
    {
     "data": {
      "text/plain": [
       "'spamspamspam'"
      ]
     },
     "execution_count": 8,
     "metadata": {},
     "output_type": "execute_result"
    }
   ],
   "source": [
    "'spam'*3"
   ]
  },
  {
   "cell_type": "raw",
   "id": "18afe13a",
   "metadata": {},
   "source": [
    "The above two statements have same output."
   ]
  },
  {
   "cell_type": "markdown",
   "id": "cf85ef1a",
   "metadata": {},
   "source": [
    "### Q8 Why is eggs a valid variable name while 100 is invalid?"
   ]
  },
  {
   "cell_type": "raw",
   "id": "bb4b558f",
   "metadata": {},
   "source": [
    "Because variable name cannot start with number."
   ]
  },
  {
   "cell_type": "markdown",
   "id": "c96e3837",
   "metadata": {},
   "source": [
    "### Q9 What three functions can be used to get the integer, floating-point number, or string version of a value?"
   ]
  },
  {
   "cell_type": "raw",
   "id": "49d0dcd0",
   "metadata": {},
   "source": [
    "The int(), float(), str() functions will evaluete to get the integer, floating-point number or string version of value"
   ]
  },
  {
   "cell_type": "markdown",
   "id": "1100cd92",
   "metadata": {},
   "source": [
    "### Q10 Why does this expression cause an error? How can you fix it?"
   ]
  },
  {
   "cell_type": "code",
   "execution_count": 13,
   "id": "4ad6de04",
   "metadata": {},
   "outputs": [
    {
     "ename": "TypeError",
     "evalue": "can only concatenate str (not \"int\") to str",
     "output_type": "error",
     "traceback": [
      "\u001b[1;31m---------------------------------------------------------------------------\u001b[0m",
      "\u001b[1;31mTypeError\u001b[0m                                 Traceback (most recent call last)",
      "\u001b[1;32mC:\\Users\\ADMINI~1.UPT\\AppData\\Local\\Temp/ipykernel_38500/3684189640.py\u001b[0m in \u001b[0;36m<module>\u001b[1;34m\u001b[0m\n\u001b[1;32m----> 1\u001b[1;33m \u001b[1;34m'I have eaten'\u001b[0m\u001b[1;33m+\u001b[0m \u001b[1;36m99\u001b[0m  \u001b[1;33m+\u001b[0m\u001b[1;34m'burritos'\u001b[0m\u001b[1;33m\u001b[0m\u001b[1;33m\u001b[0m\u001b[0m\n\u001b[0m",
      "\u001b[1;31mTypeError\u001b[0m: can only concatenate str (not \"int\") to str"
     ]
    }
   ],
   "source": [
    "'I have eaten'+ 99  +'burritos'"
   ]
  },
  {
   "cell_type": "raw",
   "id": "2fbf4f7c",
   "metadata": {},
   "source": [
    "Because 99 is a integer, and only string can be concatenated with other string with the + operator.\n",
    "the correct way to write this as follows."
   ]
  },
  {
   "cell_type": "code",
   "execution_count": 14,
   "id": "5ba777b3",
   "metadata": {},
   "outputs": [
    {
     "data": {
      "text/plain": [
       "'I have eaten 99 burritos'"
      ]
     },
     "execution_count": 14,
     "metadata": {},
     "output_type": "execute_result"
    }
   ],
   "source": [
    "'I have eaten'+ ' 99 ' +'burritos'"
   ]
  },
  {
   "cell_type": "code",
   "execution_count": null,
   "id": "a1171a8d",
   "metadata": {},
   "outputs": [],
   "source": []
  }
 ],
 "metadata": {
  "kernelspec": {
   "display_name": "Python 3 (ipykernel)",
   "language": "python",
   "name": "python3"
  },
  "language_info": {
   "codemirror_mode": {
    "name": "ipython",
    "version": 3
   },
   "file_extension": ".py",
   "mimetype": "text/x-python",
   "name": "python",
   "nbconvert_exporter": "python",
   "pygments_lexer": "ipython3",
   "version": "3.9.7"
  }
 },
 "nbformat": 4,
 "nbformat_minor": 5
}
