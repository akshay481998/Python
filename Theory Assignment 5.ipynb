{
 "cells": [
  {
   "cell_type": "markdown",
   "id": "15504210",
   "metadata": {},
   "source": [
    "#### 1. What does an empty dictionary&#39;s code look like?"
   ]
  },
  {
   "cell_type": "raw",
   "id": "d6431708",
   "metadata": {},
   "source": [
    "To create empty dictionary the code shold be dict = {}."
   ]
  },
  {
   "cell_type": "markdown",
   "id": "181c249a",
   "metadata": {},
   "source": [
    "#### 2. What is the value of a dictionary value with the key &#39;foo&#39; and the value 42?"
   ]
  },
  {
   "cell_type": "raw",
   "id": "44dcb15f",
   "metadata": {},
   "source": [
    "dict = {'foo':42}"
   ]
  },
  {
   "cell_type": "markdown",
   "id": "0da09f20",
   "metadata": {},
   "source": [
    "#### 3. What is the most significant distinction between a dictionary and a list?"
   ]
  },
  {
   "cell_type": "raw",
   "id": "6d019eac",
   "metadata": {},
   "source": [
    "The items stored in dictionary are unordered, whereas the items in list are ordered."
   ]
  },
  {
   "cell_type": "markdown",
   "id": "340b44c4",
   "metadata": {},
   "source": [
    "#### 4. What happens if you try to access spam[&#39;foo&#39;] if spam is {&#39;bar&#39;: 100}?"
   ]
  },
  {
   "cell_type": "raw",
   "id": "2a343340",
   "metadata": {},
   "source": [
    "I will get keyError."
   ]
  },
  {
   "cell_type": "markdown",
   "id": "ccde2500",
   "metadata": {},
   "source": [
    "#### 5. If a dictionary is stored in spam, what is the difference between the expressions &#39;cat&#39; in spam and &#39;cat&#39; in spam.keys()?"
   ]
  },
  {
   "cell_type": "raw",
   "id": "922de777",
   "metadata": {},
   "source": [
    "There is no difference. The in operator checks whether a value exists as a key in the dictionary."
   ]
  },
  {
   "cell_type": "markdown",
   "id": "d4aa06ee",
   "metadata": {},
   "source": [
    "#### 6. If a dictionary is stored in spam, what is the difference between the expressions &#39;cat&#39; in spam and &#39;cat&#39; in spam.values()?"
   ]
  },
  {
   "cell_type": "raw",
   "id": "1f686985",
   "metadata": {},
   "source": [
    "'cat' in spam checks whether there is a 'cat' key in the dictionary, while 'cat' in spam. values() checks whether there is a value 'cat' for one of the keys in spam ."
   ]
  },
  {
   "cell_type": "markdown",
   "id": "dfc908fe",
   "metadata": {},
   "source": [
    "#### 7. What is a shortcut for the following code?\n",
    "if &#39;color&#39; not in spam:\n",
    "\n",
    "spam[&#39;color&#39;] = &#39;black&#39;"
   ]
  },
  {
   "cell_type": "raw",
   "id": "23baacf2",
   "metadata": {},
   "source": [
    "spam.setdefault('color', 'black')"
   ]
  },
  {
   "cell_type": "markdown",
   "id": "b29641ab",
   "metadata": {},
   "source": [
    "#### 8. How do you &quot;pretty print&quot; dictionary values using which module and function?"
   ]
  },
  {
   "cell_type": "raw",
   "id": "60dfe3a9",
   "metadata": {},
   "source": [
    "Python comes with a built-in library called pprint , which stands for pretty-print."
   ]
  }
 ],
 "metadata": {
  "kernelspec": {
   "display_name": "Python 3 (ipykernel)",
   "language": "python",
   "name": "python3"
  },
  "language_info": {
   "codemirror_mode": {
    "name": "ipython",
    "version": 3
   },
   "file_extension": ".py",
   "mimetype": "text/x-python",
   "name": "python",
   "nbconvert_exporter": "python",
   "pygments_lexer": "ipython3",
   "version": "3.9.13"
  }
 },
 "nbformat": 4,
 "nbformat_minor": 5
}
