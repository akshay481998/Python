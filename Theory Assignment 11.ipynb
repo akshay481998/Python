{
 "cells": [
  {
   "cell_type": "markdown",
   "id": "a37edb0b",
   "metadata": {},
   "source": [
    "#### 1. Create an assert statement that throws an AssertionError if the variable spam is a negative integer."
   ]
  },
  {
   "cell_type": "code",
   "execution_count": 4,
   "id": "23af90f2",
   "metadata": {},
   "outputs": [
    {
     "ename": "AssertionError",
     "evalue": "Variable spam is a negative integer",
     "output_type": "error",
     "traceback": [
      "\u001b[1;31m---------------------------------------------------------------------------\u001b[0m",
      "\u001b[1;31mAssertionError\u001b[0m                            Traceback (most recent call last)",
      "\u001b[1;32m~\\AppData\\Local\\Temp\\ipykernel_11696\\1215614797.py\u001b[0m in \u001b[0;36m<module>\u001b[1;34m\u001b[0m\n\u001b[0;32m      1\u001b[0m \u001b[0mspam\u001b[0m \u001b[1;33m=\u001b[0m \u001b[1;33m-\u001b[0m\u001b[1;36m1\u001b[0m\u001b[1;33m\u001b[0m\u001b[1;33m\u001b[0m\u001b[0m\n\u001b[1;32m----> 2\u001b[1;33m \u001b[1;32massert\u001b[0m \u001b[0mspam\u001b[0m \u001b[1;33m>=\u001b[0m \u001b[1;36m0\u001b[0m\u001b[1;33m,\u001b[0m \u001b[1;34m\"Variable spam is a negative integer\"\u001b[0m\u001b[1;33m\u001b[0m\u001b[1;33m\u001b[0m\u001b[0m\n\u001b[0m",
      "\u001b[1;31mAssertionError\u001b[0m: Variable spam is a negative integer"
     ]
    }
   ],
   "source": [
    "spam = -1\n",
    "assert spam >= 0, \"Variable spam is a negative integer\""
   ]
  },
  {
   "cell_type": "markdown",
   "id": "446658e3",
   "metadata": {},
   "source": [
    "#### 2. Write an assert statement that triggers an AssertionError if the variables eggs and bacon contain strings that are the same as each other, even if their cases are different (that is, &#39;hello&#39; and &#39;hello&#39; are considered the same, and &#39;goodbye&#39; and &#39;GOODbye&#39; are also considered the same)."
   ]
  },
  {
   "cell_type": "code",
   "execution_count": 7,
   "id": "d1463416",
   "metadata": {},
   "outputs": [
    {
     "ename": "AssertionError",
     "evalue": "eggs and bacon doesn't contain same string",
     "output_type": "error",
     "traceback": [
      "\u001b[1;31m---------------------------------------------------------------------------\u001b[0m",
      "\u001b[1;31mAssertionError\u001b[0m                            Traceback (most recent call last)",
      "\u001b[1;32m~\\AppData\\Local\\Temp\\ipykernel_11696\\3965868147.py\u001b[0m in \u001b[0;36m<module>\u001b[1;34m\u001b[0m\n\u001b[0;32m      1\u001b[0m \u001b[0meggs\u001b[0m \u001b[1;33m=\u001b[0m \u001b[1;34m'hello'\u001b[0m\u001b[1;33m\u001b[0m\u001b[1;33m\u001b[0m\u001b[0m\n\u001b[0;32m      2\u001b[0m \u001b[0mbacon\u001b[0m \u001b[1;33m=\u001b[0m \u001b[1;34m'hello'\u001b[0m\u001b[1;33m\u001b[0m\u001b[1;33m\u001b[0m\u001b[0m\n\u001b[1;32m----> 3\u001b[1;33m \u001b[1;32massert\u001b[0m \u001b[0meggs\u001b[0m\u001b[1;33m.\u001b[0m\u001b[0mlower\u001b[0m\u001b[1;33m(\u001b[0m\u001b[1;33m)\u001b[0m \u001b[1;33m!=\u001b[0m \u001b[0mbacon\u001b[0m\u001b[1;33m.\u001b[0m\u001b[0mlower\u001b[0m\u001b[1;33m(\u001b[0m\u001b[1;33m)\u001b[0m\u001b[1;33m,\u001b[0m \u001b[1;34m\"eggs and bacon doesn't contain same string\"\u001b[0m\u001b[1;33m\u001b[0m\u001b[1;33m\u001b[0m\u001b[0m\n\u001b[0m",
      "\u001b[1;31mAssertionError\u001b[0m: eggs and bacon doesn't contain same string"
     ]
    }
   ],
   "source": [
    "eggs = 'hello'\n",
    "bacon = 'hello'\n",
    "assert eggs.lower() != bacon.lower(), \"eggs and bacon doesn't contain same string\""
   ]
  },
  {
   "cell_type": "code",
   "execution_count": 8,
   "id": "2c276ad8",
   "metadata": {},
   "outputs": [
    {
     "ename": "AssertionError",
     "evalue": "eggs and bacon doesn't contain same string",
     "output_type": "error",
     "traceback": [
      "\u001b[1;31m---------------------------------------------------------------------------\u001b[0m",
      "\u001b[1;31mAssertionError\u001b[0m                            Traceback (most recent call last)",
      "\u001b[1;32m~\\AppData\\Local\\Temp\\ipykernel_11696\\1760085633.py\u001b[0m in \u001b[0;36m<module>\u001b[1;34m\u001b[0m\n\u001b[0;32m      1\u001b[0m \u001b[0meggs\u001b[0m \u001b[1;33m=\u001b[0m \u001b[1;34m'goodbye'\u001b[0m\u001b[1;33m\u001b[0m\u001b[1;33m\u001b[0m\u001b[0m\n\u001b[0;32m      2\u001b[0m \u001b[0mbacon\u001b[0m \u001b[1;33m=\u001b[0m \u001b[1;34m'GOODbye'\u001b[0m\u001b[1;33m\u001b[0m\u001b[1;33m\u001b[0m\u001b[0m\n\u001b[1;32m----> 3\u001b[1;33m \u001b[1;32massert\u001b[0m \u001b[0meggs\u001b[0m\u001b[1;33m.\u001b[0m\u001b[0mupper\u001b[0m\u001b[1;33m(\u001b[0m\u001b[1;33m)\u001b[0m \u001b[1;33m!=\u001b[0m \u001b[0mbacon\u001b[0m\u001b[1;33m.\u001b[0m\u001b[0mupper\u001b[0m\u001b[1;33m(\u001b[0m\u001b[1;33m)\u001b[0m\u001b[1;33m,\u001b[0m \u001b[1;34m\"eggs and bacon doesn't contain same string\"\u001b[0m\u001b[1;33m\u001b[0m\u001b[1;33m\u001b[0m\u001b[0m\n\u001b[0m",
      "\u001b[1;31mAssertionError\u001b[0m: eggs and bacon doesn't contain same string"
     ]
    }
   ],
   "source": [
    "eggs = 'goodbye'\n",
    "bacon = 'GOODbye'\n",
    "assert eggs.upper() != bacon.upper(), \"eggs and bacon doesn't contain same string\""
   ]
  },
  {
   "cell_type": "markdown",
   "id": "42d2def3",
   "metadata": {},
   "source": [
    "#### 3. Create an assert statement that throws an AssertionError every time."
   ]
  },
  {
   "cell_type": "code",
   "execution_count": 9,
   "id": "cc256afe",
   "metadata": {},
   "outputs": [
    {
     "ename": "AssertionError",
     "evalue": "This assertion always triggers.",
     "output_type": "error",
     "traceback": [
      "\u001b[1;31m---------------------------------------------------------------------------\u001b[0m",
      "\u001b[1;31mAssertionError\u001b[0m                            Traceback (most recent call last)",
      "\u001b[1;32m~\\AppData\\Local\\Temp\\ipykernel_11696\\2475615853.py\u001b[0m in \u001b[0;36m<module>\u001b[1;34m\u001b[0m\n\u001b[1;32m----> 1\u001b[1;33m \u001b[1;32massert\u001b[0m \u001b[1;32mFalse\u001b[0m\u001b[1;33m,\u001b[0m \u001b[1;34m'This assertion always triggers.'\u001b[0m\u001b[1;33m\u001b[0m\u001b[1;33m\u001b[0m\u001b[0m\n\u001b[0m",
      "\u001b[1;31mAssertionError\u001b[0m: This assertion always triggers."
     ]
    }
   ],
   "source": [
    "assert False, 'This assertion always triggers.'"
   ]
  },
  {
   "cell_type": "markdown",
   "id": "1f4c48a5",
   "metadata": {},
   "source": [
    "#### 4. What are the two lines that must be present in your software in order to call logging.debug()?"
   ]
  },
  {
   "cell_type": "markdown",
   "id": "f03504cd",
   "metadata": {},
   "source": [
    "- To be able to call logging.debug(), you must have these two lines at the start of your program:\n",
    "\n",
    "- import logging\n",
    "- logging.basicConfig(level=logging.DEBUG, format=' %(asctime)s %(levelname)s - %(message)s')"
   ]
  },
  {
   "cell_type": "markdown",
   "id": "b08d3cd9",
   "metadata": {},
   "source": [
    "#### 5. What are the two lines that your program must have in order to have logging.debug() send a logging message to a file named programLog.txt?"
   ]
  },
  {
   "cell_type": "markdown",
   "id": "3131a0a9",
   "metadata": {},
   "source": [
    "- To be able to send logging messages to a file named programLog.txt with logging.debug(), you must have these two lines at the start of your program:\n",
    "\n",
    "- import logging\n",
    "\n",
    "- logging.basicConfig(filename='programLog.txt', level=logging.DEBUG, format=' %(asctime)s - %(levelname)s - %(message)s')"
   ]
  },
  {
   "cell_type": "markdown",
   "id": "c0e85784",
   "metadata": {},
   "source": [
    "#### 6. What are the five levels of logging?"
   ]
  },
  {
   "cell_type": "markdown",
   "id": "dd5fa59e",
   "metadata": {},
   "source": [
    "- DEBUG\n",
    "- INFO\n",
    "- WARNING \n",
    "- ERROR\n",
    "- CRITICAL"
   ]
  },
  {
   "cell_type": "markdown",
   "id": "d3fdd6f4",
   "metadata": {},
   "source": [
    "#### 7. What line of code would you add to your software to disable all logging messages?"
   ]
  },
  {
   "cell_type": "markdown",
   "id": "f58d041e",
   "metadata": {},
   "source": [
    "- logging.disable(logging.CRITICAL)"
   ]
  },
  {
   "cell_type": "markdown",
   "id": "0762a1ac",
   "metadata": {},
   "source": [
    "#### 8.Why is using logging messages better than using print() to display the same message?"
   ]
  },
  {
   "cell_type": "markdown",
   "id": "0f6b7005",
   "metadata": {},
   "source": [
    "- We can disable logging messages without removing the logging function calls. We can selectively disable lower-level logging messages. We can create logging messages. Logging messages provides a timestamp."
   ]
  },
  {
   "cell_type": "markdown",
   "id": "8a44033f",
   "metadata": {},
   "source": [
    "#### 9. What are the differences between the Step Over, Step In, and Step Out buttons in the debugger?"
   ]
  },
  {
   "cell_type": "markdown",
   "id": "715882f3",
   "metadata": {},
   "source": [
    "- The Step button will move the debugger into a function call. The Over button will quickly execute the function call without stepping into it. The Out button will quickly execute the rest of the code until it steps out of the function it currently is in."
   ]
  },
  {
   "cell_type": "markdown",
   "id": "2e17b10e",
   "metadata": {},
   "source": [
    "#### 10.After you click Continue, when will the debugger stop ?"
   ]
  },
  {
   "cell_type": "markdown",
   "id": "e5c25438",
   "metadata": {},
   "source": [
    "- Continue execution, only stop when a breakpoint is encountered."
   ]
  },
  {
   "cell_type": "markdown",
   "id": "76fc5c78",
   "metadata": {},
   "source": [
    "#### 11. What is the concept of a breakpoint?"
   ]
  },
  {
   "cell_type": "markdown",
   "id": "21123e08",
   "metadata": {},
   "source": [
    "- In software development, a breakpoint is an intentional stopping or pausing place in a program, put in place for debugging purposes. It is also sometimes simply referred to as a pause."
   ]
  }
 ],
 "metadata": {
  "kernelspec": {
   "display_name": "Python 3 (ipykernel)",
   "language": "python",
   "name": "python3"
  },
  "language_info": {
   "codemirror_mode": {
    "name": "ipython",
    "version": 3
   },
   "file_extension": ".py",
   "mimetype": "text/x-python",
   "name": "python",
   "nbconvert_exporter": "python",
   "pygments_lexer": "ipython3",
   "version": "3.9.13"
  }
 },
 "nbformat": 4,
 "nbformat_minor": 5
}
