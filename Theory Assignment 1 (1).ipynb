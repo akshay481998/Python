{
 "cells": [
  {
   "cell_type": "markdown",
   "id": "a0c29619",
   "metadata": {},
   "source": [
    "### Q1 In the below elements which of them are values or an expression? eg:- values can beinteger or string and expressions will be mathematical operators."
   ]
  },
  {
   "cell_type": "raw",
   "id": "6291cadc",
   "metadata": {},
   "source": [
    "*,-,/,+"
   ]
  },
  {
   "cell_type": "markdown",
   "id": "74bdf7d8",
   "metadata": {},
   "source": [
    "##### These all are mathamatical operators."
   ]
  },
  {
   "cell_type": "code",
   "execution_count": 3,
   "id": "2707cd8e",
   "metadata": {},
   "outputs": [
    {
     "data": {
      "text/plain": [
       "str"
      ]
     },
     "execution_count": 3,
     "metadata": {},
     "output_type": "execute_result"
    }
   ],
   "source": [
    "'Hello'\n",
    "type('Hello')"
   ]
  },
  {
   "cell_type": "markdown",
   "id": "078b1f77",
   "metadata": {},
   "source": [
    "##### This is a string."
   ]
  },
  {
   "cell_type": "code",
   "execution_count": 4,
   "id": "e1d14868",
   "metadata": {},
   "outputs": [
    {
     "data": {
      "text/plain": [
       "float"
      ]
     },
     "execution_count": 4,
     "metadata": {},
     "output_type": "execute_result"
    }
   ],
   "source": [
    "a=-87.8\n",
    "type(a)"
   ]
  },
  {
   "cell_type": "markdown",
   "id": "9cf8a420",
   "metadata": {},
   "source": [
    "##### This is a float variable"
   ]
  },
  {
   "cell_type": "markdown",
   "id": "9a93de4f",
   "metadata": {},
   "source": [
    "### Q2 What is the difference between string and variable?"
   ]
  },
  {
   "cell_type": "markdown",
   "id": "dc9fc770",
   "metadata": {},
   "source": [
    "##### Variables are symbols that we can use to store the data and strings are data so by using variable we can store strings."
   ]
  },
  {
   "cell_type": "markdown",
   "id": "1df6b45a",
   "metadata": {},
   "source": [
    "### Q3 Describe three different data types."
   ]
  },
  {
   "cell_type": "markdown",
   "id": "5b98cf24",
   "metadata": {},
   "source": [
    "##### Integer, float, complex numbers these there are numeric data types."
   ]
  },
  {
   "cell_type": "markdown",
   "id": "256bccb4",
   "metadata": {},
   "source": [
    "### Q4 What is an expression made up of? What do all expressions do?"
   ]
  },
  {
   "cell_type": "markdown",
   "id": "d577129e",
   "metadata": {},
   "source": [
    "##### An expression is made up of variables and mathamatical operators which are constructed according to syntax of the language."
   ]
  },
  {
   "cell_type": "markdown",
   "id": "fa71e0df",
   "metadata": {},
   "source": [
    "### Q5 This assignment statements, like spam = 10. What is the difference between anexpression and a statement?"
   ]
  },
  {
   "cell_type": "markdown",
   "id": "cc13f0fc",
   "metadata": {},
   "source": [
    "##### Expression is made up of values and mathamatical operators and statement just like a command that python interpriter exicute like print"
   ]
  },
  {
   "cell_type": "markdown",
   "id": "961e4716",
   "metadata": {},
   "source": [
    "### Q6 After running the following code, what does the variable bacon contain?"
   ]
  },
  {
   "cell_type": "code",
   "execution_count": 6,
   "id": "328cc724",
   "metadata": {},
   "outputs": [
    {
     "data": {
      "text/plain": [
       "23"
      ]
     },
     "execution_count": 6,
     "metadata": {},
     "output_type": "execute_result"
    }
   ],
   "source": [
    "bacon = 22\n",
    "bacon + 1"
   ]
  },
  {
   "cell_type": "markdown",
   "id": "342f4b0b",
   "metadata": {},
   "source": [
    "##### The value of bacon will increse by 1."
   ]
  },
  {
   "cell_type": "markdown",
   "id": "cfadab96",
   "metadata": {},
   "source": [
    "### Q7 What should the values of the following two terms be?"
   ]
  },
  {
   "cell_type": "code",
   "execution_count": 7,
   "id": "2f205114",
   "metadata": {},
   "outputs": [
    {
     "data": {
      "text/plain": [
       "'spamspamspam'"
      ]
     },
     "execution_count": 7,
     "metadata": {},
     "output_type": "execute_result"
    }
   ],
   "source": [
    "'spam'+'spamspam'"
   ]
  },
  {
   "cell_type": "code",
   "execution_count": 8,
   "id": "c990a9d2",
   "metadata": {},
   "outputs": [
    {
     "data": {
      "text/plain": [
       "'spamspamspam'"
      ]
     },
     "execution_count": 8,
     "metadata": {},
     "output_type": "execute_result"
    }
   ],
   "source": [
    "'spam'*3"
   ]
  },
  {
   "cell_type": "markdown",
   "id": "587016e0",
   "metadata": {},
   "source": [
    "##### The above two statements have same output."
   ]
  },
  {
   "cell_type": "markdown",
   "id": "3acd5805",
   "metadata": {},
   "source": [
    "### Q8 Why is eggs a valid variable name while 100 is invalid?"
   ]
  },
  {
   "cell_type": "markdown",
   "id": "e5271aaf",
   "metadata": {},
   "source": [
    "##### Because variable name cannot start with number."
   ]
  },
  {
   "cell_type": "markdown",
   "id": "d74f2137",
   "metadata": {},
   "source": [
    "### Q9 What three functions can be used to get the integer, floating-point number, or string version of a value?"
   ]
  },
  {
   "cell_type": "markdown",
   "id": "842b178c",
   "metadata": {},
   "source": [
    "##### The int(), float(), str() functions will evaluete to get the integer, floating-point number or string version of value"
   ]
  },
  {
   "cell_type": "markdown",
   "id": "7ffd8a0c",
   "metadata": {},
   "source": [
    "### Q10 Why does this expression cause an error? How can you fix it?"
   ]
  },
  {
   "cell_type": "code",
   "execution_count": 13,
   "id": "b6fecdea",
   "metadata": {},
   "outputs": [
    {
     "ename": "TypeError",
     "evalue": "can only concatenate str (not \"int\") to str",
     "output_type": "error",
     "traceback": [
      "\u001b[1;31m---------------------------------------------------------------------------\u001b[0m",
      "\u001b[1;31mTypeError\u001b[0m                                 Traceback (most recent call last)",
      "\u001b[1;32mC:\\Users\\ADMINI~1.UPT\\AppData\\Local\\Temp/ipykernel_38500/3684189640.py\u001b[0m in \u001b[0;36m<module>\u001b[1;34m\u001b[0m\n\u001b[1;32m----> 1\u001b[1;33m \u001b[1;34m'I have eaten'\u001b[0m\u001b[1;33m+\u001b[0m \u001b[1;36m99\u001b[0m  \u001b[1;33m+\u001b[0m\u001b[1;34m'burritos'\u001b[0m\u001b[1;33m\u001b[0m\u001b[1;33m\u001b[0m\u001b[0m\n\u001b[0m",
      "\u001b[1;31mTypeError\u001b[0m: can only concatenate str (not \"int\") to str"
     ]
    }
   ],
   "source": [
    "'I have eaten'+ 99  +'burritos'"
   ]
  },
  {
   "cell_type": "markdown",
   "id": "af9e6601",
   "metadata": {},
   "source": [
    "##### Because 99 is a integer, and only string can be concatenated with other string with the + operator. the correct way to write this as follows."
   ]
  },
  {
   "cell_type": "code",
   "execution_count": 14,
   "id": "cc1a116d",
   "metadata": {},
   "outputs": [
    {
     "data": {
      "text/plain": [
       "'I have eaten 99 burritos'"
      ]
     },
     "execution_count": 14,
     "metadata": {},
     "output_type": "execute_result"
    }
   ],
   "source": [
    "'I have eaten'+ ' 99 ' +'burritos'"
   ]
  },
  {
   "cell_type": "code",
   "execution_count": null,
   "id": "3641bf5e",
   "metadata": {},
   "outputs": [],
   "source": []
  }
 ],
 "metadata": {
  "kernelspec": {
   "display_name": "Python 3 (ipykernel)",
   "language": "python",
   "name": "python3"
  },
  "language_info": {
   "codemirror_mode": {
    "name": "ipython",
    "version": 3
   },
   "file_extension": ".py",
   "mimetype": "text/x-python",
   "name": "python",
   "nbconvert_exporter": "python",
   "pygments_lexer": "ipython3",
   "version": "3.9.7"
  }
 },
 "nbformat": 4,
 "nbformat_minor": 5
}
