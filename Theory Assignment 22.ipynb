{
 "cells": [
  {
   "cell_type": "markdown",
   "id": "0f4afa9e",
   "metadata": {},
   "source": [
    "#### 1. What is the result of the code, and explain?\n",
    "\n",
    "&gt;&gt;&gt; X = &#39;iNeuron&#39;\n",
    "&gt;&gt;&gt; def func():\n",
    "\n",
    "print(X)\n",
    "\n",
    "&gt;&gt;&gt; func()"
   ]
  },
  {
   "cell_type": "code",
   "execution_count": 2,
   "id": "3ca548d9",
   "metadata": {},
   "outputs": [
    {
     "name": "stdout",
     "output_type": "stream",
     "text": [
      "iNeuron\n"
     ]
    }
   ],
   "source": [
    "X = 'iNeuron'\n",
    "def func():\n",
    "    print(X)\n",
    "func()"
   ]
  },
  {
   "cell_type": "markdown",
   "id": "47caf650",
   "metadata": {},
   "source": [
    "- Ans:- The result of this code is iNeuron, it's because the function initially looks for the variable X in it's local scope, but since there is no local variable X, its return the global variable x ie iNeuron."
   ]
  },
  {
   "cell_type": "markdown",
   "id": "72daf232",
   "metadata": {},
   "source": [
    "#### 2. What is the result of the code, and explain?\n",
    "\n",
    "&gt;&gt;&gt; X = &#39;iNeuron&#39;\n",
    "\n",
    "&gt;&gt;&gt; def func():\n",
    "    \n",
    "X = &#39;NI!&#39;\n",
    "\n",
    "&gt;&gt;&gt; func()\n",
    "\n",
    "&gt;&gt;&gt;print(X)"
   ]
  },
  {
   "cell_type": "code",
   "execution_count": 4,
   "id": "24b5016c",
   "metadata": {},
   "outputs": [
    {
     "name": "stdout",
     "output_type": "stream",
     "text": [
      "NI!\n"
     ]
    }
   ],
   "source": [
    "X = 'iNeuron'\n",
    "def func():\n",
    "    X = 'NI!'\n",
    "    print(X)\n",
    "func()"
   ]
  },
  {
   "cell_type": "markdown",
   "id": "29a67f9c",
   "metadata": {},
   "source": [
    "- Ans:- The result of this code is NI!, because function initially looks for the variable X in its local scope if X is not available then it checks for variable X in global scope, Since here X is represented in it local scope. It prints the value NI!"
   ]
  },
  {
   "cell_type": "markdown",
   "id": "afdcbbc3",
   "metadata": {},
   "source": [
    "#### 3. What does this code print, and why?\n",
    "\n",
    "&gt;&gt;&gt; X = &#39;iNeuron&#39;\n",
    "\n",
    "&gt;&gt;&gt; def func():\n",
    "    \n",
    "X = &#39;NI&#39;\n",
    "\n",
    "print(X)\n",
    "\n",
    "&gt;&gt;&gt; func()\n",
    "\n",
    "&gt;&gt;&gt; print(X)"
   ]
  },
  {
   "cell_type": "code",
   "execution_count": 6,
   "id": "228f5796",
   "metadata": {},
   "outputs": [
    {
     "name": "stdout",
     "output_type": "stream",
     "text": [
      "NI!\n",
      "iNeuron\n"
     ]
    }
   ],
   "source": [
    "X = 'iNeuron'\n",
    "def func():\n",
    "    X = 'NI!'\n",
    "    print(X)\n",
    "    \n",
    "func()\n",
    "print(X)"
   ]
  },
  {
   "cell_type": "markdown",
   "id": "4aa4fc8d",
   "metadata": {},
   "source": [
    "- Ans:- The output of the code is NI and iNeuron. X = NI is the local scope of the function func() hence the function prints the x value as NI. X = 'iNeuron' is the global scope. Hence the print(X) prints the output NI. "
   ]
  },
  {
   "cell_type": "markdown",
   "id": "48879355",
   "metadata": {},
   "source": [
    "#### 4. What output does this code produce? Why?\n",
    "\n",
    "&gt;&gt;&gt; X = &#39;iNeuron&#39;\n",
    "\n",
    "&gt;&gt;&gt; def func():\n",
    "    \n",
    "global X\n",
    "\n",
    "X = &#39;NI&#39;\n",
    "\n",
    "&gt;&gt;&gt; func()\n",
    "\n",
    "&gt;&gt;&gt; print(X)"
   ]
  },
  {
   "cell_type": "code",
   "execution_count": 8,
   "id": "f18206d0",
   "metadata": {},
   "outputs": [
    {
     "name": "stdout",
     "output_type": "stream",
     "text": [
      "NI\n"
     ]
    }
   ],
   "source": [
    "X = 'iNeuron'\n",
    "\n",
    "def func():\n",
    "    global X\n",
    "    X= 'NI'\n",
    "    \n",
    "func()\n",
    "print(X)"
   ]
  },
  {
   "cell_type": "markdown",
   "id": "b8edb3f1",
   "metadata": {},
   "source": [
    "- Ans:- The output of the code is NI. the global keyword allows a variable to be accessible in the current scope. Since we are using the global keyword inside the function func it directly access the variable in X in global scope. and Changes it's value to NI. Hence the output of the variable is NI."
   ]
  },
  {
   "cell_type": "markdown",
   "id": "c017a678",
   "metadata": {},
   "source": [
    "#### 5. What about this code—what’s the output, and why?\n",
    "\n",
    "&gt;&gt;&gt; X = &#39;iNeuron&#39;\n",
    "\n",
    "&gt;&gt;&gt; def func():\n",
    "    \n",
    "X = &#39;NI&#39;\n",
    "\n",
    "def nested():\n",
    "    \n",
    "print(X)\n",
    "\n",
    "nested()\n",
    "\n",
    "&gt;&gt;&gt; func()\n",
    "\n",
    "&gt;&gt;&gt; X"
   ]
  },
  {
   "cell_type": "code",
   "execution_count": 9,
   "id": "4d064158",
   "metadata": {},
   "outputs": [
    {
     "name": "stdout",
     "output_type": "stream",
     "text": [
      "NI\n"
     ]
    },
    {
     "data": {
      "text/plain": [
       "'iNeuon'"
      ]
     },
     "execution_count": 9,
     "metadata": {},
     "output_type": "execute_result"
    }
   ],
   "source": [
    "X = 'iNeuon'\n",
    "\n",
    "def func():\n",
    "    X = 'NI'\n",
    "    def nested():\n",
    "        print(X)\n",
    "    nested()\n",
    "func()\n",
    "X"
   ]
  },
  {
   "cell_type": "markdown",
   "id": "c983ec1e",
   "metadata": {},
   "source": [
    "- Ans:- The output of the code is NI. the reson for this output is if a function wants to access a variable, if it's not available in it's local scope. it looks for the variable in its global scope. similarly here also function nested looks for variable X in its global scope. Hence the output of the code is NI."
   ]
  },
  {
   "cell_type": "markdown",
   "id": "2de2f39e",
   "metadata": {},
   "source": [
    "#### 6. How about this code: what is its output in Python 3, and explain?\n",
    "\n",
    "&gt;&gt;&gt; def func():\n",
    "    \n",
    "X = &#39;NI&#39;\n",
    "\n",
    "def nested():\n",
    "    \n",
    "nonlocal X\n",
    "\n",
    "X = &#39;Spam&#39;\n",
    "\n",
    "nested()\n",
    "\n",
    "print(X)\n",
    "\n",
    "&gt;&gt;&gt; func()"
   ]
  },
  {
   "cell_type": "code",
   "execution_count": 11,
   "id": "2901a0a0",
   "metadata": {},
   "outputs": [
    {
     "name": "stdout",
     "output_type": "stream",
     "text": [
      "Spam\n"
     ]
    }
   ],
   "source": [
    "def func():\n",
    "    X = 'NI'\n",
    "    def nested():\n",
    "        nonlocal X\n",
    "        X = 'Spam'\n",
    "    nested()\n",
    "    print(X)\n",
    "func()"
   ]
  },
  {
   "cell_type": "markdown",
   "id": "e5686afe",
   "metadata": {},
   "source": [
    "- Ans:- The output of the code is Spam. nonlocal keyword in python is used to declare a variable as not local. Hence the statement X = 'Spam' is modifide in the global scope. Hence the output of the print(X) statement is Spam."
   ]
  }
 ],
 "metadata": {
  "kernelspec": {
   "display_name": "Python 3 (ipykernel)",
   "language": "python",
   "name": "python3"
  },
  "language_info": {
   "codemirror_mode": {
    "name": "ipython",
    "version": 3
   },
   "file_extension": ".py",
   "mimetype": "text/x-python",
   "name": "python",
   "nbconvert_exporter": "python",
   "pygments_lexer": "ipython3",
   "version": "3.9.13"
  }
 },
 "nbformat": 4,
 "nbformat_minor": 5
}
