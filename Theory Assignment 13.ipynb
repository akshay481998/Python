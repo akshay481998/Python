{
 "cells": [
  {
   "cell_type": "markdown",
   "id": "65872adb",
   "metadata": {},
   "source": [
    "#### 1. What advantages do Excel spreadsheets have over CSV spreadsheets?"
   ]
  },
  {
   "cell_type": "markdown",
   "id": "3c44fdd7",
   "metadata": {},
   "source": [
    "- CSV is generally faster and less complicated when compared to Excel. Text editors cannot edit files saved in Excel format, and also, Excel file can be password protected. Files saved in CSV format can be edited by text editors, and also CSV file cannot be password protected."
   ]
  },
  {
   "cell_type": "markdown",
   "id": "449ff95a",
   "metadata": {},
   "source": [
    "#### 2.What do you pass to csv.reader() and csv.writer() to create reader and writer objects?"
   ]
  },
  {
   "cell_type": "markdown",
   "id": "7343083b",
   "metadata": {},
   "source": [
    "- To crete reader and writer objects we need to pass filename with extension and in which mode do we want to open it as a parameter, like csv.reader('people.csv','r') will create object in reading mode."
   ]
  },
  {
   "cell_type": "markdown",
   "id": "501e5abb",
   "metadata": {},
   "source": [
    "#### 3. What modes do File objects for reader and writer objects need to be opened in?"
   ]
  },
  {
   "cell_type": "markdown",
   "id": "769885a5",
   "metadata": {},
   "source": [
    "- We can specify the mode while opening a file . i.e. whether we want to read 'r', write 'w'."
   ]
  },
  {
   "cell_type": "markdown",
   "id": "4b422e2e",
   "metadata": {},
   "source": [
    "#### 4. What method takes a list argument and writes it to a CSV file?"
   ]
  },
  {
   "cell_type": "markdown",
   "id": "f5e68f1f",
   "metadata": {},
   "source": [
    "- The most common method to write data from a list to CSV file is the writerow() method of writer and DictWriter class."
   ]
  },
  {
   "cell_type": "markdown",
   "id": "c2ffafb4",
   "metadata": {},
   "source": [
    "#### 5. What do the keyword arguments delimiter and line terminator do?"
   ]
  },
  {
   "cell_type": "markdown",
   "id": "1e237d11",
   "metadata": {},
   "source": [
    "- The delimiter is the character that appears between cells on a row. By default, the delimiter for a CSV file is a comma. The line terminator is the character that comes at the end of a row. By default, the line terminator is a newline."
   ]
  },
  {
   "cell_type": "markdown",
   "id": "efc8d0b5",
   "metadata": {},
   "source": [
    "#### 6. What function takes a string of JSON data and returns a Python data structure?"
   ]
  },
  {
   "cell_type": "markdown",
   "id": "22a76478",
   "metadata": {},
   "source": [
    "- json.loads() method return Python data structure of JSON string or data."
   ]
  },
  {
   "cell_type": "markdown",
   "id": "68ef9e78",
   "metadata": {},
   "source": [
    "#### 7. What function takes a Python data structure and returns a string of JSON data?"
   ]
  },
  {
   "cell_type": "markdown",
   "id": "326ec77c",
   "metadata": {},
   "source": [
    "- If you have a Python object, you can convert it into a JSON string by using the json.dumps() method."
   ]
  }
 ],
 "metadata": {
  "kernelspec": {
   "display_name": "Python 3 (ipykernel)",
   "language": "python",
   "name": "python3"
  },
  "language_info": {
   "codemirror_mode": {
    "name": "ipython",
    "version": 3
   },
   "file_extension": ".py",
   "mimetype": "text/x-python",
   "name": "python",
   "nbconvert_exporter": "python",
   "pygments_lexer": "ipython3",
   "version": "3.9.13"
  }
 },
 "nbformat": 4,
 "nbformat_minor": 5
}
